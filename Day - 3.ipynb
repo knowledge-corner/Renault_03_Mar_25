{
 "cells": [
  {
   "cell_type": "markdown",
   "metadata": {
    "id": "rGBb_xPwaQpK"
   },
   "source": [
    "# Introduction to Pandas Library\n",
    "- Pandas is an open source library in python which is know for its rich applications and utilities for all kinds of mathematical, financial and statistical functions\n",
    "- It is useful in data manipulation and analysis\n",
    "- It provides fast, flexible, and expressive data structures designed to make working with structured (tabular, multidimensional, potentially heterogeneous) and time series data\n",
    "\n"
   ]
  },
  {
   "cell_type": "markdown",
   "metadata": {
    "id": "QW77jDdEaQpK"
   },
   "source": [
    "#### Installing pandas"
   ]
  },
  {
   "cell_type": "code",
   "execution_count": null,
   "metadata": {
    "id": "A0uzVwWXaQpK"
   },
   "outputs": [],
   "source": [
    "!pip install pandas"
   ]
  },
  {
   "cell_type": "markdown",
   "metadata": {
    "id": "P-V030TIaQpL"
   },
   "source": [
    "#### Importing pandas"
   ]
  },
  {
   "cell_type": "code",
   "execution_count": null,
   "metadata": {
    "id": "1OwVfG7eaQpX"
   },
   "outputs": [],
   "source": [
    "import pandas as pd\n",
    "import numpy as np\n",
    "import matplotlib.pyplot as plt\n",
    "import seaborn as sns"
   ]
  },
  {
   "cell_type": "markdown",
   "metadata": {
    "id": "47x11IZfaQpb"
   },
   "source": [
    "# Dataframe\n",
    "\n",
    "A DataFrame is two dimensional data structure where the data is arranged in the tabular format in rows and columns\n",
    "\n",
    "#### DataFrame features:\n",
    "\n",
    "- Columns can be of different data types\n",
    "- Size of dataframe can be changes\n",
    "- Axes(rows and columns) are labeled\n",
    "- Arithmetic operations can be performed on rows and columns"
   ]
  },
  {
   "cell_type": "markdown",
   "metadata": {
    "id": "Yho0mcMUaQph"
   },
   "source": [
    "### Reading data from External Data Sources"
   ]
  },
  {
   "cell_type": "markdown",
   "metadata": {},
   "source": [
    "#### Excel"
   ]
  },
  {
   "cell_type": "code",
   "execution_count": null,
   "metadata": {},
   "outputs": [],
   "source": []
  },
  {
   "cell_type": "markdown",
   "metadata": {},
   "source": [
    "#### Sharepoint"
   ]
  },
  {
   "cell_type": "code",
   "execution_count": null,
   "metadata": {},
   "outputs": [],
   "source": [
    "!pip install Office365-REST-Python-Client pandas"
   ]
  },
  {
   "cell_type": "code",
   "execution_count": null,
   "metadata": {},
   "outputs": [],
   "source": [
    "from office365.sharepoint.client_context import ClientContext\n",
    "from office365.runtime.auth.authentication_context import AuthenticationContext\n",
    "import pandas as pd\n",
    "import io\n",
    "\n",
    "# SharePoint site URL\n",
    "sharepoint_url = \"https://knowledgecornerin.sharepoint.com/sites/mylearnings/\"\n",
    "file_relative_url = \"/sites/mylearnings/Documents/Invoices.xlsx\"\n",
    "\n",
    "\n",
    "# Authentication\n",
    "username = \"vaidehi.nair@knowledgecorner.in\"\n",
    "password = \"password\"\n",
    "\n",
    "ctx_auth = AuthenticationContext(sharepoint_url)\n",
    "if ctx_auth.acquire_token_for_user(username, password):\n",
    "    ctx = ClientContext(sharepoint_url, ctx_auth)\n",
    "    with io.BytesIO() as file:\n",
    "        file = ctx.web.get_file_by_server_relative_url(file_relative_url).download(file).execute_query()\n",
    "        file.seek(0)\n",
    "        df = pd.read_excel(file)  # Read into pandas dataframe\n",
    "        print(df.head())  # Display first few rows\n",
    "        print(\"success\")\n",
    "else:\n",
    "    print(\"Authentication failed!\")"
   ]
  },
  {
   "cell_type": "markdown",
   "metadata": {
    "id": "PWjVQ7v3aQpi"
   },
   "source": [
    "### Examples using Coffee Shop Dataset"
   ]
  },
  {
   "cell_type": "code",
   "execution_count": null,
   "metadata": {
    "id": "2sS81bMVaQpi"
   },
   "outputs": [],
   "source": [
    "import numpy as np\n",
    "import pandas as pd\n",
    "import matplotlib.pyplot as plt"
   ]
  },
  {
   "cell_type": "markdown",
   "metadata": {
    "id": "-SsECgH6aQpj"
   },
   "source": [
    "###### Ex. Read data from `coffee_sales.csv`"
   ]
  },
  {
   "cell_type": "code",
   "execution_count": null,
   "metadata": {
    "id": "mBAJGrV2aQpj"
   },
   "outputs": [],
   "source": []
  },
  {
   "cell_type": "markdown",
   "metadata": {
    "id": "oCaRpnewaQpk"
   },
   "source": [
    "#### Drop a column or row from dataframe"
   ]
  },
  {
   "cell_type": "code",
   "execution_count": null,
   "metadata": {
    "id": "3_QOBOO9aQpl"
   },
   "outputs": [],
   "source": []
  },
  {
   "cell_type": "code",
   "execution_count": null,
   "metadata": {
    "id": "319H3bxraQpm"
   },
   "outputs": [],
   "source": []
  },
  {
   "cell_type": "markdown",
   "metadata": {
    "id": "_eTN-WE8aQpq"
   },
   "source": [
    "#### Working with **null** values\n",
    "\n",
    "`df.isna()` - Detect missing values. Return a boolean same-sized object indicating if the values are NA.\n",
    "\n",
    "`df.fillna(value=None, inplace=False)` - Fill NA/NaN values using the specified method."
   ]
  },
  {
   "cell_type": "code",
   "execution_count": null,
   "metadata": {},
   "outputs": [],
   "source": []
  },
  {
   "cell_type": "code",
   "execution_count": null,
   "metadata": {},
   "outputs": [],
   "source": []
  },
  {
   "cell_type": "markdown",
   "metadata": {
    "id": "eLCMw924aQpm"
   },
   "source": [
    "#### Drop null rows\n",
    "df.dropna(`axis = 0`, `how = \"any\"`, `inplace = False`)\n",
    "- axis 0 for row or 1 for column\n",
    "- how - {any or all}"
   ]
  },
  {
   "cell_type": "code",
   "execution_count": null,
   "metadata": {},
   "outputs": [],
   "source": []
  },
  {
   "cell_type": "code",
   "execution_count": null,
   "metadata": {},
   "outputs": [],
   "source": []
  },
  {
   "cell_type": "code",
   "execution_count": null,
   "metadata": {},
   "outputs": [],
   "source": []
  },
  {
   "cell_type": "markdown",
   "metadata": {
    "id": "Wyt3gvJkaQpm"
   },
   "source": [
    "#### Renaming Columns"
   ]
  },
  {
   "cell_type": "markdown",
   "metadata": {
    "id": "SLFDWCNhaQpm"
   },
   "source": [
    "###### Rename Columns (column 5 - 8 are not accessible)"
   ]
  },
  {
   "cell_type": "code",
   "execution_count": null,
   "metadata": {
    "id": "2lFqRxSQaQpn"
   },
   "outputs": [],
   "source": [
    "headers = [\"ShopID\", \"Year/Month\", \"Product\", \"Product Type\", \"State\", \"Target Profit\", \"Target Sales\", \"Profit\", \"Sales\"]\n"
   ]
  },
  {
   "cell_type": "markdown",
   "metadata": {
    "id": "ULHNtEg1aQpn"
   },
   "source": [
    "#### Rename Single Column"
   ]
  },
  {
   "cell_type": "code",
   "execution_count": null,
   "metadata": {
    "id": "Q1u76SjxaQpn"
   },
   "outputs": [],
   "source": []
  },
  {
   "cell_type": "markdown",
   "metadata": {
    "id": "0j71BjYoaQpn"
   },
   "source": [
    "#### Understanding Data in Dataframe\n",
    "\n",
    "- `df.shape` - gives the size of the dataframe in the format (row_count x column_count)\n",
    "- `df.dtypes` - returns a Series with the data type of each column\n",
    "- `df.info()` - prints information about a DataFrame including the index dtype and columns, non-null values and memory usage\n",
    "- `df.head()` - prints the first 5 rows of you dataset including column header and the content of each row\n",
    "- `df.tail()` - prints the last 5 rows of you dataset including column header and the content of each row"
   ]
  },
  {
   "cell_type": "code",
   "execution_count": null,
   "metadata": {
    "id": "3qcO_FpVaQpn"
   },
   "outputs": [],
   "source": [
    "df_coffee.shape"
   ]
  },
  {
   "cell_type": "code",
   "execution_count": null,
   "metadata": {
    "id": "Ld93P56caQpn"
   },
   "outputs": [],
   "source": [
    "df_coffee.dtypes"
   ]
  },
  {
   "cell_type": "code",
   "execution_count": null,
   "metadata": {
    "id": "xfycjqXWaQpo"
   },
   "outputs": [],
   "source": [
    "df_coffee.info()"
   ]
  },
  {
   "cell_type": "code",
   "execution_count": null,
   "metadata": {
    "id": "9C86SjRmaQpo"
   },
   "outputs": [],
   "source": [
    "df_coffee.head()"
   ]
  },
  {
   "cell_type": "code",
   "execution_count": null,
   "metadata": {
    "id": "NOwl83yVaQpo"
   },
   "outputs": [],
   "source": [
    "df_coffee.head(3)"
   ]
  },
  {
   "cell_type": "code",
   "execution_count": null,
   "metadata": {
    "id": "fYRCzZUPaQpo"
   },
   "outputs": [],
   "source": [
    "df_coffee.tail()"
   ]
  },
  {
   "cell_type": "code",
   "execution_count": null,
   "metadata": {
    "id": "ATgfSROEaQpo"
   },
   "outputs": [],
   "source": [
    "df_coffee.tail(3)"
   ]
  },
  {
   "cell_type": "markdown",
   "metadata": {
    "id": "eNb7M4fEaQpq"
   },
   "source": [
    "###### Ex. Converting Sales and Profits columns to float types"
   ]
  },
  {
   "cell_type": "code",
   "execution_count": null,
   "metadata": {
    "id": "7xRefZ0maQpq"
   },
   "outputs": [],
   "source": []
  },
  {
   "cell_type": "code",
   "execution_count": null,
   "metadata": {
    "id": "m-vBFbslaQpq"
   },
   "outputs": [],
   "source": []
  },
  {
   "cell_type": "markdown",
   "metadata": {
    "id": "DxivtiVmaQpr"
   },
   "source": [
    "#### Removing Duplicate Data"
   ]
  },
  {
   "cell_type": "code",
   "execution_count": null,
   "metadata": {
    "id": "HC0RoOSPaQpr"
   },
   "outputs": [],
   "source": []
  },
  {
   "cell_type": "markdown",
   "metadata": {
    "id": "EgteLlmQaQpr"
   },
   "source": [
    "#### Replacing values\n",
    "\n",
    "df.replace(old_value, new_value, inplace=True)"
   ]
  },
  {
   "cell_type": "code",
   "execution_count": null,
   "metadata": {
    "id": "3AtOmRVHaQpr"
   },
   "outputs": [],
   "source": []
  },
  {
   "cell_type": "markdown",
   "metadata": {
    "id": "5NZZ0mFhaQpr"
   },
   "source": [
    "#### Adding a new Column by calculation"
   ]
  },
  {
   "cell_type": "markdown",
   "metadata": {
    "id": "HD0rBNHuaQps"
   },
   "source": [
    "###### Ex. Create columns showing `Sales` and `Profit` targets achieved"
   ]
  },
  {
   "cell_type": "code",
   "execution_count": null,
   "metadata": {
    "id": "q5yHUyFPaQps"
   },
   "outputs": [],
   "source": []
  },
  {
   "cell_type": "markdown",
   "metadata": {
    "id": "OgMsCXjIaQps"
   },
   "source": [
    "###### Ex. Count the number times Targets are achieved"
   ]
  },
  {
   "cell_type": "code",
   "execution_count": null,
   "metadata": {
    "id": "9KcuJ_fraQps"
   },
   "outputs": [],
   "source": []
  },
  {
   "cell_type": "markdown",
   "metadata": {
    "id": "cBMGbqmsaQpt"
   },
   "source": [
    "###### Ex. Create a bar chart to view Target Status"
   ]
  },
  {
   "cell_type": "code",
   "execution_count": null,
   "metadata": {
    "id": "soNzjwLqaQpt"
   },
   "outputs": [],
   "source": []
  },
  {
   "cell_type": "code",
   "execution_count": null,
   "metadata": {
    "id": "fiSLVyE6aQpu"
   },
   "outputs": [],
   "source": []
  },
  {
   "cell_type": "markdown",
   "metadata": {
    "id": "j9maHWoUaQp7"
   },
   "source": [
    "#### Insert a column in between\n",
    "df.insert(`index`, `column_name`, `default_value`)"
   ]
  },
  {
   "cell_type": "markdown",
   "metadata": {
    "id": "dNRt8QUXaQp7"
   },
   "source": [
    "###### Create columns Year and Month - extract data using pd.DatetimeIndex"
   ]
  },
  {
   "cell_type": "code",
   "execution_count": null,
   "metadata": {},
   "outputs": [],
   "source": []
  },
  {
   "cell_type": "markdown",
   "metadata": {
    "id": "fPvpjhHdaQp_"
   },
   "source": [
    "#### Grouping Dataframes"
   ]
  },
  {
   "cell_type": "markdown",
   "metadata": {
    "id": "fV4dbr1faQp_"
   },
   "source": [
    "##### `df.groupby(by=None, as_index=True, sort=True, dropna=True)`"
   ]
  },
  {
   "cell_type": "markdown",
   "metadata": {
    "id": "S_rTrXHTaQp_"
   },
   "source": [
    "###### Ex. Find product wise total Sales - bar chart"
   ]
  },
  {
   "cell_type": "code",
   "execution_count": null,
   "metadata": {
    "id": "Xtve-lAkaQp_"
   },
   "outputs": [],
   "source": []
  },
  {
   "cell_type": "markdown",
   "metadata": {
    "id": "zu9Y75d1aQqA"
   },
   "source": [
    "###### Ex. Extract Monthly Sales and Profit"
   ]
  },
  {
   "cell_type": "code",
   "execution_count": null,
   "metadata": {
    "id": "fd3m_OjXaQqC"
   },
   "outputs": [],
   "source": []
  },
  {
   "cell_type": "markdown",
   "metadata": {},
   "source": [
    "###### Ex. Trend vs Sesonality"
   ]
  },
  {
   "cell_type": "code",
   "execution_count": null,
   "metadata": {},
   "outputs": [],
   "source": []
  },
  {
   "cell_type": "markdown",
   "metadata": {},
   "source": [
    "###### Ex. Analyse Growth over years"
   ]
  },
  {
   "cell_type": "code",
   "execution_count": null,
   "metadata": {},
   "outputs": [],
   "source": []
  },
  {
   "cell_type": "code",
   "execution_count": null,
   "metadata": {},
   "outputs": [],
   "source": []
  },
  {
   "cell_type": "code",
   "execution_count": null,
   "metadata": {},
   "outputs": [],
   "source": []
  }
 ],
 "metadata": {
  "colab": {
   "provenance": []
  },
  "kernelspec": {
   "display_name": "Python 3 (ipykernel)",
   "language": "python",
   "name": "python3"
  },
  "language_info": {
   "codemirror_mode": {
    "name": "ipython",
    "version": 3
   },
   "file_extension": ".py",
   "mimetype": "text/x-python",
   "name": "python",
   "nbconvert_exporter": "python",
   "pygments_lexer": "ipython3",
   "version": "3.12.4"
  }
 },
 "nbformat": 4,
 "nbformat_minor": 4
}
