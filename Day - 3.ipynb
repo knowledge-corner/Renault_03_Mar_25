{
 "cells": [
  {
   "cell_type": "markdown",
   "metadata": {
    "id": "rGBb_xPwaQpK"
   },
   "source": [
    "# Introduction to Pandas Library\n",
    "- Pandas is an open source library in python which is know for its rich applications and utilities for all kinds of mathematical, financial and statistical functions\n",
    "- It is useful in data manipulation and analysis\n",
    "- It provides fast, flexible, and expressive data structures designed to make working with structured (tabular, multidimensional, potentially heterogeneous) and time series data\n",
    "\n"
   ]
  },
  {
   "cell_type": "markdown",
   "metadata": {
    "id": "QW77jDdEaQpK"
   },
   "source": [
    "#### Installing pandas"
   ]
  },
  {
   "cell_type": "code",
   "execution_count": null,
   "metadata": {
    "id": "A0uzVwWXaQpK"
   },
   "outputs": [],
   "source": [
    "!pip install pandas"
   ]
  },
  {
   "cell_type": "markdown",
   "metadata": {
    "id": "P-V030TIaQpL"
   },
   "source": [
    "#### Importing pandas"
   ]
  },
  {
   "cell_type": "code",
   "execution_count": null,
   "metadata": {
    "id": "1OwVfG7eaQpX"
   },
   "outputs": [],
   "source": [
    "import pandas as pd\n",
    "import numpy as np\n",
    "import matplotlib.pyplot as plt\n",
    "import seaborn as sns"
   ]
  },
  {
   "cell_type": "markdown",
   "metadata": {
    "id": "47x11IZfaQpb"
   },
   "source": [
    "# Dataframe\n",
    "\n",
    "A DataFrame is two dimensional data structure where the data is arranged in the tabular format in rows and columns\n",
    "\n",
    "#### DataFrame features:\n",
    "\n",
    "- Columns can be of different data types\n",
    "- Size of dataframe can be changes\n",
    "- Axes(rows and columns) are labeled\n",
    "- Arithmetic operations can be performed on rows and columns"
   ]
  },
  {
   "cell_type": "markdown",
   "metadata": {
    "id": "Yho0mcMUaQph"
   },
   "source": [
    "### Reading data from External Data Sources"
   ]
  },
  {
   "cell_type": "markdown",
   "metadata": {},
   "source": [
    "#### Excel"
   ]
  },
  {
   "cell_type": "code",
   "execution_count": null,
   "metadata": {},
   "outputs": [],
   "source": [
    "!pip install openpyxl"
   ]
  },
  {
   "cell_type": "code",
   "execution_count": null,
   "metadata": {},
   "outputs": [],
   "source": [
    "df = pd.read_excel(r\"Employee_dummy_data.xlsx\", sheet_name=\"Sheet1\", \n",
    "                   usecols=range(0, 3),nrows=2) # Reads data as a dataframedf"
   ]
  },
  {
   "cell_type": "code",
   "execution_count": null,
   "metadata": {},
   "outputs": [],
   "source": [
    "df = pd.read_excel(r\"Employee_dummy_data.xlsx\", sheet_name=\"Sheet1\", \n",
    "                   usecols=range(0, 3),skiprows=range(4, 6)) # skip lat 2 rowsdf"
   ]
  },
  {
   "cell_type": "code",
   "execution_count": null,
   "metadata": {},
   "outputs": [],
   "source": [
    "df.to_excel()"
   ]
  },
  {
   "cell_type": "code",
   "execution_count": null,
   "metadata": {},
   "outputs": [],
   "source": [
    "import io\n",
    "import pandas as pd\n",
    "import msoffcrypto\n",
    "\n",
    "passwd = 'xyz'\n",
    "\n",
    "decrypted_workbook = io.BytesIO()\n",
    "with open(path_to_your_file, 'rb') as file:\n",
    "    office_file = msoffcrypto.OfficeFile(file)\n",
    "    office_file.load_key(password=passwd)\n",
    "    office_file.decrypt(decrypted_workbook)\n",
    "\n",
    "df = pd.read_excel(decrypted_workbook, sheet_name='abc')"
   ]
  },
  {
   "cell_type": "markdown",
   "metadata": {},
   "source": [
    "#### Sharepoint"
   ]
  },
  {
   "cell_type": "code",
   "execution_count": null,
   "metadata": {},
   "outputs": [],
   "source": [
    "!pip install Office365-REST-Python-Client pandas"
   ]
  },
  {
   "cell_type": "code",
   "execution_count": null,
   "metadata": {},
   "outputs": [],
   "source": [
    "from office365.sharepoint.client_context import ClientContext\n",
    "from office365.runtime.auth.authentication_context import AuthenticationContext\n",
    "import pandas as pd\n",
    "import io\n",
    "\n",
    "# SharePoint site URL\n",
    "sharepoint_url = \"https://knowledgecornerin.sharepoint.com/sites/mylearnings/\"\n",
    "file_relative_url = \"/sites/mylearnings/Documents/Invoices.xlsx\"\n",
    "\n",
    "\n",
    "# Authentication\n",
    "username = \"vaidehi.nair@knowledgecorner.in\"\n",
    "password = \"password\"\n",
    "\n",
    "ctx_auth = AuthenticationContext(sharepoint_url)\n",
    "if ctx_auth.acquire_token_for_user(username, password):\n",
    "    ctx = ClientContext(sharepoint_url, ctx_auth)\n",
    "    with io.BytesIO() as file:\n",
    "        file = ctx.web.get_file_by_server_relative_url(file_relative_url).download(file).execute_query()\n",
    "        file.seek(0)\n",
    "        df = pd.read_excel(file)  # Read into pandas dataframe\n",
    "        print(df.head())  # Display first few rows\n",
    "        print(\"success\")\n",
    "else:\n",
    "    print(\"Authentication failed!\")"
   ]
  },
  {
   "cell_type": "code",
   "execution_count": null,
   "metadata": {},
   "outputs": [],
   "source": [
    "import sys\n",
    "print(sys.version)\n"
   ]
  },
  {
   "cell_type": "markdown",
   "metadata": {},
   "source": [
    "### Merge and concate Dataframes"
   ]
  },
  {
   "cell_type": "code",
   "execution_count": null,
   "metadata": {},
   "outputs": [],
   "source": [
    "df_emp = pd.read_excel(r\"Employee_dummy_data.xlsx\")\n",
    "df_emp"
   ]
  },
  {
   "cell_type": "code",
   "execution_count": null,
   "metadata": {},
   "outputs": [],
   "source": [
    "df_desg = pd.DataFrame({\"Ecode\" : range(102, 108), \n",
    "                        \"Designation\" : [\"Manager\", \"Team Leader\", \"Developer\", \"Intern\", \"Developer\", \"PMO\"]})\n",
    "df_desg"
   ]
  },
  {
   "cell_type": "code",
   "execution_count": null,
   "metadata": {},
   "outputs": [],
   "source": [
    "df_temp = df_emp.merge(df_desg, how = \"inner\", left_on=\"Employee Code\", right_on= \"Ecode\")\n",
    "df_temp"
   ]
  },
  {
   "cell_type": "code",
   "execution_count": null,
   "metadata": {},
   "outputs": [],
   "source": [
    "df_temp = df_emp.merge(df_desg, how = \"left\", left_on=\"Employee Code\", right_on= \"Ecode\")\n",
    "df_temp"
   ]
  },
  {
   "cell_type": "code",
   "execution_count": null,
   "metadata": {},
   "outputs": [],
   "source": [
    "df_temp = df_emp.merge(df_desg, how = \"right\", left_on=\"Employee Code\", right_on= \"Ecode\")\n",
    "df_temp"
   ]
  },
  {
   "cell_type": "code",
   "execution_count": null,
   "metadata": {},
   "outputs": [],
   "source": [
    "df_temp = df_emp.merge(df_desg, how = \"outer\", left_on=\"Employee Code\", right_on= \"Ecode\")\n",
    "df_temp"
   ]
  },
  {
   "cell_type": "code",
   "execution_count": null,
   "metadata": {},
   "outputs": [],
   "source": [
    "df_temp.to_excel(r\"filename.xlsx\")"
   ]
  },
  {
   "cell_type": "code",
   "execution_count": null,
   "metadata": {},
   "outputs": [],
   "source": [
    "df1 = pd.DataFrame({\"Date\" : [\"2024-01\", \"2024-02\", \"2024-03\", \"2024-04\", \"2024-05\"], \n",
    "                   \"Sales\" : [5000, 8000, 4000, 6000, 3000]})\n",
    "df2 = pd.DataFrame({\"Date\" : [\"2024-06\", \"2024-07\", \"2024-08\", \"2024-09\", \"2024-10\"], \n",
    "                   \"Sales\" : [5000, 8000, 4000, 6000, 3000]})\n",
    "\n",
    "pd.concat((df2, df2, df2, df2))"
   ]
  },
  {
   "cell_type": "code",
   "execution_count": null,
   "metadata": {
    "id": "2sS81bMVaQpi"
   },
   "outputs": [],
   "source": [
    "import numpy as np\n",
    "import pandas as pd\n",
    "import matplotlib.pyplot as plt"
   ]
  },
  {
   "cell_type": "markdown",
   "metadata": {
    "id": "-SsECgH6aQpj"
   },
   "source": [
    "###### Ex. Read data from `Orders.csv`"
   ]
  },
  {
   "cell_type": "code",
   "execution_count": 168,
   "metadata": {
    "id": "mBAJGrV2aQpj"
   },
   "outputs": [
    {
     "data": {
      "text/html": [
       "<div>\n",
       "<style scoped>\n",
       "    .dataframe tbody tr th:only-of-type {\n",
       "        vertical-align: middle;\n",
       "    }\n",
       "\n",
       "    .dataframe tbody tr th {\n",
       "        vertical-align: top;\n",
       "    }\n",
       "\n",
       "    .dataframe thead th {\n",
       "        text-align: right;\n",
       "    }\n",
       "</style>\n",
       "<table border=\"1\" class=\"dataframe\">\n",
       "  <thead>\n",
       "    <tr style=\"text-align: right;\">\n",
       "      <th></th>\n",
       "      <th>Date</th>\n",
       "      <th>Order ID</th>\n",
       "      <th>Product</th>\n",
       "      <th>City</th>\n",
       "      <th>Discount</th>\n",
       "      <th>Shipping Cost</th>\n",
       "      <th>Sales</th>\n",
       "      <th>Profit</th>\n",
       "    </tr>\n",
       "  </thead>\n",
       "  <tbody>\n",
       "    <tr>\n",
       "      <th>0</th>\n",
       "      <td>01-01-2021</td>\n",
       "      <td>ORD10001</td>\n",
       "      <td>PROD3</td>\n",
       "      <td>Mumbai</td>\n",
       "      <td>0</td>\n",
       "      <td>118</td>\n",
       "      <td>2682.0</td>\n",
       "      <td>NaN</td>\n",
       "    </tr>\n",
       "    <tr>\n",
       "      <th>1</th>\n",
       "      <td>01-01-2021</td>\n",
       "      <td>ORD10002</td>\n",
       "      <td>PROD3</td>\n",
       "      <td>Pune</td>\n",
       "      <td>0</td>\n",
       "      <td>138</td>\n",
       "      <td>2662.0</td>\n",
       "      <td>NaN</td>\n",
       "    </tr>\n",
       "    <tr>\n",
       "      <th>2</th>\n",
       "      <td>03-01-2021</td>\n",
       "      <td>ORD10003</td>\n",
       "      <td>PROD6</td>\n",
       "      <td>Pune</td>\n",
       "      <td>15</td>\n",
       "      <td>140</td>\n",
       "      <td>2410.0</td>\n",
       "      <td>NaN</td>\n",
       "    </tr>\n",
       "    <tr>\n",
       "      <th>3</th>\n",
       "      <td>03-01-2021</td>\n",
       "      <td>ORD10004</td>\n",
       "      <td>PROD6</td>\n",
       "      <td>Surat</td>\n",
       "      <td>0</td>\n",
       "      <td>90</td>\n",
       "      <td>2910.0</td>\n",
       "      <td>NaN</td>\n",
       "    </tr>\n",
       "    <tr>\n",
       "      <th>4</th>\n",
       "      <td>04-01-2021</td>\n",
       "      <td>ORD10005</td>\n",
       "      <td>PROD7</td>\n",
       "      <td>Surat</td>\n",
       "      <td>3</td>\n",
       "      <td>86</td>\n",
       "      <td>2436.0</td>\n",
       "      <td>NaN</td>\n",
       "    </tr>\n",
       "    <tr>\n",
       "      <th>...</th>\n",
       "      <td>...</td>\n",
       "      <td>...</td>\n",
       "      <td>...</td>\n",
       "      <td>...</td>\n",
       "      <td>...</td>\n",
       "      <td>...</td>\n",
       "      <td>...</td>\n",
       "      <td>...</td>\n",
       "    </tr>\n",
       "    <tr>\n",
       "      <th>9995</th>\n",
       "      <td>31-12-2024</td>\n",
       "      <td>ORD19996</td>\n",
       "      <td>PROD6</td>\n",
       "      <td>Mumbai</td>\n",
       "      <td>25</td>\n",
       "      <td>120</td>\n",
       "      <td>2130.0</td>\n",
       "      <td>NaN</td>\n",
       "    </tr>\n",
       "    <tr>\n",
       "      <th>9996</th>\n",
       "      <td>31-12-2024</td>\n",
       "      <td>ORD19997</td>\n",
       "      <td>PROD8</td>\n",
       "      <td>Mumbai</td>\n",
       "      <td>0</td>\n",
       "      <td>130</td>\n",
       "      <td>2700.0</td>\n",
       "      <td>NaN</td>\n",
       "    </tr>\n",
       "    <tr>\n",
       "      <th>9997</th>\n",
       "      <td>31-12-2024</td>\n",
       "      <td>ORD19998</td>\n",
       "      <td>PROD5</td>\n",
       "      <td>Surat</td>\n",
       "      <td>20</td>\n",
       "      <td>82</td>\n",
       "      <td>1678.0</td>\n",
       "      <td>NaN</td>\n",
       "    </tr>\n",
       "    <tr>\n",
       "      <th>9998</th>\n",
       "      <td>31-12-2024</td>\n",
       "      <td>ORD19999</td>\n",
       "      <td>PROD3</td>\n",
       "      <td>Hyderabad</td>\n",
       "      <td>0</td>\n",
       "      <td>108</td>\n",
       "      <td>2542.0</td>\n",
       "      <td>NaN</td>\n",
       "    </tr>\n",
       "    <tr>\n",
       "      <th>9999</th>\n",
       "      <td>31-12-2024</td>\n",
       "      <td>ORD20000</td>\n",
       "      <td>PROD8</td>\n",
       "      <td>Mumbai</td>\n",
       "      <td>15</td>\n",
       "      <td>130</td>\n",
       "      <td>2275.5</td>\n",
       "      <td>NaN</td>\n",
       "    </tr>\n",
       "  </tbody>\n",
       "</table>\n",
       "<p>10000 rows × 8 columns</p>\n",
       "</div>"
      ],
      "text/plain": [
       "            Date  Order ID Product       City  Discount  Shipping Cost  \\\n",
       "0     01-01-2021  ORD10001   PROD3     Mumbai         0            118   \n",
       "1     01-01-2021  ORD10002   PROD3       Pune         0            138   \n",
       "2     03-01-2021  ORD10003   PROD6       Pune        15            140   \n",
       "3     03-01-2021  ORD10004   PROD6      Surat         0             90   \n",
       "4     04-01-2021  ORD10005   PROD7      Surat         3             86   \n",
       "...          ...       ...     ...        ...       ...            ...   \n",
       "9995  31-12-2024  ORD19996   PROD6     Mumbai        25            120   \n",
       "9996  31-12-2024  ORD19997   PROD8     Mumbai         0            130   \n",
       "9997  31-12-2024  ORD19998   PROD5      Surat        20             82   \n",
       "9998  31-12-2024  ORD19999   PROD3  Hyderabad         0            108   \n",
       "9999  31-12-2024  ORD20000   PROD8     Mumbai        15            130   \n",
       "\n",
       "       Sales  Profit  \n",
       "0     2682.0     NaN  \n",
       "1     2662.0     NaN  \n",
       "2     2410.0     NaN  \n",
       "3     2910.0     NaN  \n",
       "4     2436.0     NaN  \n",
       "...      ...     ...  \n",
       "9995  2130.0     NaN  \n",
       "9996  2700.0     NaN  \n",
       "9997  1678.0     NaN  \n",
       "9998  2542.0     NaN  \n",
       "9999  2275.5     NaN  \n",
       "\n",
       "[10000 rows x 8 columns]"
      ]
     },
     "execution_count": 168,
     "metadata": {},
     "output_type": "execute_result"
    }
   ],
   "source": [
    "df = pd.read_csv(\"Orders.csv\")\n",
    "df"
   ]
  },
  {
   "cell_type": "markdown",
   "metadata": {
    "id": "oCaRpnewaQpk"
   },
   "source": [
    "#### Drop a column or row from dataframe"
   ]
  },
  {
   "cell_type": "code",
   "execution_count": null,
   "metadata": {
    "id": "3_QOBOO9aQpl"
   },
   "outputs": [],
   "source": [
    "df.drop(columns=[\"Order ID\"], inplace=True)"
   ]
  },
  {
   "cell_type": "markdown",
   "metadata": {},
   "source": [
    "##### Note - \n",
    "\n",
    "- functions like - drop(), fillna(), sort_values(), replace(), etc.\n",
    "- They generate new dataframes without modifying original dataframe\n",
    "- Save the output in a new variable or use option `inplace = True`"
   ]
  },
  {
   "cell_type": "markdown",
   "metadata": {
    "id": "_eTN-WE8aQpq"
   },
   "source": [
    "#### Working with **null** values\n",
    "\n",
    "`df.isna()` - Detect missing values. Return a boolean same-sized object indicating if the values are NA.\n",
    "\n",
    "`df.fillna(value=None, inplace=False)` - Fill NA/NaN values using the specified method."
   ]
  },
  {
   "cell_type": "code",
   "execution_count": 107,
   "metadata": {},
   "outputs": [
    {
     "data": {
      "text/plain": [
       "Date             False\n",
       "Order ID         False\n",
       "Product          False\n",
       "City             False\n",
       "Discount         False\n",
       "Shipping Cost    False\n",
       "Sales            False\n",
       "Profit            True\n",
       "dtype: bool"
      ]
     },
     "execution_count": 107,
     "metadata": {},
     "output_type": "execute_result"
    }
   ],
   "source": [
    "df.isna().any() # returns True or False for each column"
   ]
  },
  {
   "cell_type": "code",
   "execution_count": 108,
   "metadata": {},
   "outputs": [
    {
     "data": {
      "text/plain": [
       "Date                 0\n",
       "Order ID             0\n",
       "Product              0\n",
       "City                 0\n",
       "Discount             0\n",
       "Shipping Cost        0\n",
       "Sales                0\n",
       "Profit           10000\n",
       "dtype: int64"
      ]
     },
     "execution_count": 108,
     "metadata": {},
     "output_type": "execute_result"
    }
   ],
   "source": [
    "df.isna().sum() # returns count of null values in each column"
   ]
  },
  {
   "cell_type": "code",
   "execution_count": 109,
   "metadata": {},
   "outputs": [
    {
     "data": {
      "text/html": [
       "<div>\n",
       "<style scoped>\n",
       "    .dataframe tbody tr th:only-of-type {\n",
       "        vertical-align: middle;\n",
       "    }\n",
       "\n",
       "    .dataframe tbody tr th {\n",
       "        vertical-align: top;\n",
       "    }\n",
       "\n",
       "    .dataframe thead th {\n",
       "        text-align: right;\n",
       "    }\n",
       "</style>\n",
       "<table border=\"1\" class=\"dataframe\">\n",
       "  <thead>\n",
       "    <tr style=\"text-align: right;\">\n",
       "      <th></th>\n",
       "      <th>Date</th>\n",
       "      <th>Order ID</th>\n",
       "      <th>Product</th>\n",
       "      <th>City</th>\n",
       "      <th>Discount</th>\n",
       "      <th>Shipping Cost</th>\n",
       "      <th>Sales</th>\n",
       "      <th>Profit</th>\n",
       "    </tr>\n",
       "  </thead>\n",
       "  <tbody>\n",
       "    <tr>\n",
       "      <th>0</th>\n",
       "      <td>01-01-2021</td>\n",
       "      <td>ORD10001</td>\n",
       "      <td>PROD3</td>\n",
       "      <td>Mumbai</td>\n",
       "      <td>0</td>\n",
       "      <td>118</td>\n",
       "      <td>2682.0</td>\n",
       "      <td>0.0</td>\n",
       "    </tr>\n",
       "    <tr>\n",
       "      <th>1</th>\n",
       "      <td>01-01-2021</td>\n",
       "      <td>ORD10002</td>\n",
       "      <td>PROD3</td>\n",
       "      <td>Pune</td>\n",
       "      <td>0</td>\n",
       "      <td>138</td>\n",
       "      <td>2662.0</td>\n",
       "      <td>0.0</td>\n",
       "    </tr>\n",
       "    <tr>\n",
       "      <th>2</th>\n",
       "      <td>03-01-2021</td>\n",
       "      <td>ORD10003</td>\n",
       "      <td>PROD6</td>\n",
       "      <td>Pune</td>\n",
       "      <td>15</td>\n",
       "      <td>140</td>\n",
       "      <td>2410.0</td>\n",
       "      <td>0.0</td>\n",
       "    </tr>\n",
       "    <tr>\n",
       "      <th>3</th>\n",
       "      <td>03-01-2021</td>\n",
       "      <td>ORD10004</td>\n",
       "      <td>PROD6</td>\n",
       "      <td>Surat</td>\n",
       "      <td>0</td>\n",
       "      <td>90</td>\n",
       "      <td>2910.0</td>\n",
       "      <td>0.0</td>\n",
       "    </tr>\n",
       "    <tr>\n",
       "      <th>4</th>\n",
       "      <td>04-01-2021</td>\n",
       "      <td>ORD10005</td>\n",
       "      <td>PROD7</td>\n",
       "      <td>Surat</td>\n",
       "      <td>3</td>\n",
       "      <td>86</td>\n",
       "      <td>2436.0</td>\n",
       "      <td>0.0</td>\n",
       "    </tr>\n",
       "    <tr>\n",
       "      <th>...</th>\n",
       "      <td>...</td>\n",
       "      <td>...</td>\n",
       "      <td>...</td>\n",
       "      <td>...</td>\n",
       "      <td>...</td>\n",
       "      <td>...</td>\n",
       "      <td>...</td>\n",
       "      <td>...</td>\n",
       "    </tr>\n",
       "    <tr>\n",
       "      <th>9995</th>\n",
       "      <td>31-12-2024</td>\n",
       "      <td>ORD19996</td>\n",
       "      <td>PROD6</td>\n",
       "      <td>Mumbai</td>\n",
       "      <td>25</td>\n",
       "      <td>120</td>\n",
       "      <td>2130.0</td>\n",
       "      <td>0.0</td>\n",
       "    </tr>\n",
       "    <tr>\n",
       "      <th>9996</th>\n",
       "      <td>31-12-2024</td>\n",
       "      <td>ORD19997</td>\n",
       "      <td>PROD8</td>\n",
       "      <td>Mumbai</td>\n",
       "      <td>0</td>\n",
       "      <td>130</td>\n",
       "      <td>2700.0</td>\n",
       "      <td>0.0</td>\n",
       "    </tr>\n",
       "    <tr>\n",
       "      <th>9997</th>\n",
       "      <td>31-12-2024</td>\n",
       "      <td>ORD19998</td>\n",
       "      <td>PROD5</td>\n",
       "      <td>Surat</td>\n",
       "      <td>20</td>\n",
       "      <td>82</td>\n",
       "      <td>1678.0</td>\n",
       "      <td>0.0</td>\n",
       "    </tr>\n",
       "    <tr>\n",
       "      <th>9998</th>\n",
       "      <td>31-12-2024</td>\n",
       "      <td>ORD19999</td>\n",
       "      <td>PROD3</td>\n",
       "      <td>Hyderabad</td>\n",
       "      <td>0</td>\n",
       "      <td>108</td>\n",
       "      <td>2542.0</td>\n",
       "      <td>0.0</td>\n",
       "    </tr>\n",
       "    <tr>\n",
       "      <th>9999</th>\n",
       "      <td>31-12-2024</td>\n",
       "      <td>ORD20000</td>\n",
       "      <td>PROD8</td>\n",
       "      <td>Mumbai</td>\n",
       "      <td>15</td>\n",
       "      <td>130</td>\n",
       "      <td>2275.5</td>\n",
       "      <td>0.0</td>\n",
       "    </tr>\n",
       "  </tbody>\n",
       "</table>\n",
       "<p>10000 rows × 8 columns</p>\n",
       "</div>"
      ],
      "text/plain": [
       "            Date  Order ID Product       City  Discount  Shipping Cost  \\\n",
       "0     01-01-2021  ORD10001   PROD3     Mumbai         0            118   \n",
       "1     01-01-2021  ORD10002   PROD3       Pune         0            138   \n",
       "2     03-01-2021  ORD10003   PROD6       Pune        15            140   \n",
       "3     03-01-2021  ORD10004   PROD6      Surat         0             90   \n",
       "4     04-01-2021  ORD10005   PROD7      Surat         3             86   \n",
       "...          ...       ...     ...        ...       ...            ...   \n",
       "9995  31-12-2024  ORD19996   PROD6     Mumbai        25            120   \n",
       "9996  31-12-2024  ORD19997   PROD8     Mumbai         0            130   \n",
       "9997  31-12-2024  ORD19998   PROD5      Surat        20             82   \n",
       "9998  31-12-2024  ORD19999   PROD3  Hyderabad         0            108   \n",
       "9999  31-12-2024  ORD20000   PROD8     Mumbai        15            130   \n",
       "\n",
       "       Sales  Profit  \n",
       "0     2682.0     0.0  \n",
       "1     2662.0     0.0  \n",
       "2     2410.0     0.0  \n",
       "3     2910.0     0.0  \n",
       "4     2436.0     0.0  \n",
       "...      ...     ...  \n",
       "9995  2130.0     0.0  \n",
       "9996  2700.0     0.0  \n",
       "9997  1678.0     0.0  \n",
       "9998  2542.0     0.0  \n",
       "9999  2275.5     0.0  \n",
       "\n",
       "[10000 rows x 8 columns]"
      ]
     },
     "execution_count": 109,
     "metadata": {},
     "output_type": "execute_result"
    }
   ],
   "source": [
    "df.fillna({\"Profit\": 0}) # Replacing NaN with default 0, inplace = True can be set here"
   ]
  },
  {
   "cell_type": "markdown",
   "metadata": {
    "id": "eLCMw924aQpm"
   },
   "source": [
    "#### Drop null rows\n",
    "df.dropna(`axis = 0`, `how = \"any\"`, `inplace = False`)\n",
    "- axis 0 for row or 1 for column\n",
    "- how - {any or all}"
   ]
  },
  {
   "cell_type": "code",
   "execution_count": 110,
   "metadata": {},
   "outputs": [
    {
     "data": {
      "text/html": [
       "<div>\n",
       "<style scoped>\n",
       "    .dataframe tbody tr th:only-of-type {\n",
       "        vertical-align: middle;\n",
       "    }\n",
       "\n",
       "    .dataframe tbody tr th {\n",
       "        vertical-align: top;\n",
       "    }\n",
       "\n",
       "    .dataframe thead th {\n",
       "        text-align: right;\n",
       "    }\n",
       "</style>\n",
       "<table border=\"1\" class=\"dataframe\">\n",
       "  <thead>\n",
       "    <tr style=\"text-align: right;\">\n",
       "      <th></th>\n",
       "      <th>Date</th>\n",
       "      <th>Order ID</th>\n",
       "      <th>Product</th>\n",
       "      <th>City</th>\n",
       "      <th>Discount</th>\n",
       "      <th>Shipping Cost</th>\n",
       "      <th>Sales</th>\n",
       "      <th>Profit</th>\n",
       "    </tr>\n",
       "  </thead>\n",
       "  <tbody>\n",
       "  </tbody>\n",
       "</table>\n",
       "</div>"
      ],
      "text/plain": [
       "Empty DataFrame\n",
       "Columns: [Date, Order ID, Product, City, Discount, Shipping Cost, Sales, Profit]\n",
       "Index: []"
      ]
     },
     "execution_count": 110,
     "metadata": {},
     "output_type": "execute_result"
    }
   ],
   "source": [
    "df.dropna() # drop row with any 1 null value"
   ]
  },
  {
   "cell_type": "code",
   "execution_count": 169,
   "metadata": {},
   "outputs": [],
   "source": [
    "df.dropna(axis = 1, how = \"all\", inplace=True) # delete only the column which have all null values"
   ]
  },
  {
   "cell_type": "code",
   "execution_count": 112,
   "metadata": {},
   "outputs": [
    {
     "data": {
      "text/html": [
       "<div>\n",
       "<style scoped>\n",
       "    .dataframe tbody tr th:only-of-type {\n",
       "        vertical-align: middle;\n",
       "    }\n",
       "\n",
       "    .dataframe tbody tr th {\n",
       "        vertical-align: top;\n",
       "    }\n",
       "\n",
       "    .dataframe thead th {\n",
       "        text-align: right;\n",
       "    }\n",
       "</style>\n",
       "<table border=\"1\" class=\"dataframe\">\n",
       "  <thead>\n",
       "    <tr style=\"text-align: right;\">\n",
       "      <th></th>\n",
       "      <th>Date</th>\n",
       "      <th>Order ID</th>\n",
       "      <th>Product</th>\n",
       "      <th>City</th>\n",
       "      <th>Discount</th>\n",
       "      <th>Shipping Cost</th>\n",
       "      <th>Sales</th>\n",
       "    </tr>\n",
       "  </thead>\n",
       "  <tbody>\n",
       "    <tr>\n",
       "      <th>0</th>\n",
       "      <td>01-01-2021</td>\n",
       "      <td>ORD10001</td>\n",
       "      <td>PROD3</td>\n",
       "      <td>Mumbai</td>\n",
       "      <td>0</td>\n",
       "      <td>118</td>\n",
       "      <td>2682.0</td>\n",
       "    </tr>\n",
       "    <tr>\n",
       "      <th>1</th>\n",
       "      <td>01-01-2021</td>\n",
       "      <td>ORD10002</td>\n",
       "      <td>PROD3</td>\n",
       "      <td>Pune</td>\n",
       "      <td>0</td>\n",
       "      <td>138</td>\n",
       "      <td>2662.0</td>\n",
       "    </tr>\n",
       "    <tr>\n",
       "      <th>2</th>\n",
       "      <td>03-01-2021</td>\n",
       "      <td>ORD10003</td>\n",
       "      <td>PROD6</td>\n",
       "      <td>Pune</td>\n",
       "      <td>15</td>\n",
       "      <td>140</td>\n",
       "      <td>2410.0</td>\n",
       "    </tr>\n",
       "    <tr>\n",
       "      <th>3</th>\n",
       "      <td>03-01-2021</td>\n",
       "      <td>ORD10004</td>\n",
       "      <td>PROD6</td>\n",
       "      <td>Surat</td>\n",
       "      <td>0</td>\n",
       "      <td>90</td>\n",
       "      <td>2910.0</td>\n",
       "    </tr>\n",
       "    <tr>\n",
       "      <th>4</th>\n",
       "      <td>04-01-2021</td>\n",
       "      <td>ORD10005</td>\n",
       "      <td>PROD7</td>\n",
       "      <td>Surat</td>\n",
       "      <td>3</td>\n",
       "      <td>86</td>\n",
       "      <td>2436.0</td>\n",
       "    </tr>\n",
       "  </tbody>\n",
       "</table>\n",
       "</div>"
      ],
      "text/plain": [
       "         Date  Order ID Product    City  Discount  Shipping Cost   Sales\n",
       "0  01-01-2021  ORD10001   PROD3  Mumbai         0            118  2682.0\n",
       "1  01-01-2021  ORD10002   PROD3    Pune         0            138  2662.0\n",
       "2  03-01-2021  ORD10003   PROD6    Pune        15            140  2410.0\n",
       "3  03-01-2021  ORD10004   PROD6   Surat         0             90  2910.0\n",
       "4  04-01-2021  ORD10005   PROD7   Surat         3             86  2436.0"
      ]
     },
     "execution_count": 112,
     "metadata": {},
     "output_type": "execute_result"
    }
   ],
   "source": [
    "df.head()"
   ]
  },
  {
   "cell_type": "markdown",
   "metadata": {
    "id": "Wyt3gvJkaQpm"
   },
   "source": [
    "#### Renaming Columns"
   ]
  },
  {
   "cell_type": "markdown",
   "metadata": {
    "id": "SLFDWCNhaQpm"
   },
   "source": [
    "###### Rename Columns (column 5 - 8 are not accessible)"
   ]
  },
  {
   "cell_type": "code",
   "execution_count": 113,
   "metadata": {},
   "outputs": [
    {
     "data": {
      "text/plain": [
       "Index(['Date', 'Order ID', 'Product', 'City', 'Discount', 'Shipping Cost',\n",
       "       'Sales'],\n",
       "      dtype='object')"
      ]
     },
     "execution_count": 113,
     "metadata": {},
     "output_type": "execute_result"
    }
   ],
   "source": [
    "df.columns"
   ]
  },
  {
   "cell_type": "code",
   "execution_count": null,
   "metadata": {
    "id": "2lFqRxSQaQpn"
   },
   "outputs": [],
   "source": [
    "headers = [\"Year/Month\", \"Order\", \"Product\", ... ]\n",
    "# df.columns = header"
   ]
  },
  {
   "cell_type": "code",
   "execution_count": 114,
   "metadata": {},
   "outputs": [
    {
     "name": "stdin",
     "output_type": "stream",
     "text": [
      "Enter substring -  D\n"
     ]
    },
    {
     "data": {
      "text/plain": [
       "Index(['Date', 'Order ID', 'Discount'], dtype='object')"
      ]
     },
     "execution_count": 114,
     "metadata": {},
     "output_type": "execute_result"
    }
   ],
   "source": [
    "# Extract columns matching substring\n",
    "df.columns[df.columns.str.contains(input(\"Enter substring - \"))]"
   ]
  },
  {
   "cell_type": "markdown",
   "metadata": {
    "id": "ULHNtEg1aQpn"
   },
   "source": [
    "#### Rename Single Column"
   ]
  },
  {
   "cell_type": "code",
   "execution_count": null,
   "metadata": {
    "id": "Q1u76SjxaQpn"
   },
   "outputs": [],
   "source": [
    "df.rename({\"Date\" : \"Year/Month\"}, axis=1, inplace=True)"
   ]
  },
  {
   "cell_type": "markdown",
   "metadata": {
    "id": "0j71BjYoaQpn"
   },
   "source": [
    "#### Understanding Data in Dataframe\n",
    "\n",
    "- `df.shape` - gives the size of the dataframe in the format (row_count x column_count)\n",
    "- `df.dtypes` - returns a Series with the data type of each column\n",
    "- `df.info()` - prints information about a DataFrame including the index dtype and columns, non-null values and memory usage\n",
    "- `df.head()` - prints the first 5 rows of you dataset including column header and the content of each row\n",
    "- `df.tail()` - prints the last 5 rows of you dataset including column header and the content of each row"
   ]
  },
  {
   "cell_type": "code",
   "execution_count": 115,
   "metadata": {
    "id": "3qcO_FpVaQpn"
   },
   "outputs": [
    {
     "data": {
      "text/plain": [
       "(10000, 7)"
      ]
     },
     "execution_count": 115,
     "metadata": {},
     "output_type": "execute_result"
    }
   ],
   "source": [
    "df.shape"
   ]
  },
  {
   "cell_type": "code",
   "execution_count": 116,
   "metadata": {
    "id": "Ld93P56caQpn"
   },
   "outputs": [
    {
     "data": {
      "text/plain": [
       "Date              object\n",
       "Order ID          object\n",
       "Product           object\n",
       "City              object\n",
       "Discount           int64\n",
       "Shipping Cost      int64\n",
       "Sales            float64\n",
       "dtype: object"
      ]
     },
     "execution_count": 116,
     "metadata": {},
     "output_type": "execute_result"
    }
   ],
   "source": [
    "df.dtypes"
   ]
  },
  {
   "cell_type": "code",
   "execution_count": 117,
   "metadata": {
    "id": "9C86SjRmaQpo"
   },
   "outputs": [
    {
     "data": {
      "text/html": [
       "<div>\n",
       "<style scoped>\n",
       "    .dataframe tbody tr th:only-of-type {\n",
       "        vertical-align: middle;\n",
       "    }\n",
       "\n",
       "    .dataframe tbody tr th {\n",
       "        vertical-align: top;\n",
       "    }\n",
       "\n",
       "    .dataframe thead th {\n",
       "        text-align: right;\n",
       "    }\n",
       "</style>\n",
       "<table border=\"1\" class=\"dataframe\">\n",
       "  <thead>\n",
       "    <tr style=\"text-align: right;\">\n",
       "      <th></th>\n",
       "      <th>Date</th>\n",
       "      <th>Order ID</th>\n",
       "      <th>Product</th>\n",
       "      <th>City</th>\n",
       "      <th>Discount</th>\n",
       "      <th>Shipping Cost</th>\n",
       "      <th>Sales</th>\n",
       "    </tr>\n",
       "  </thead>\n",
       "  <tbody>\n",
       "    <tr>\n",
       "      <th>0</th>\n",
       "      <td>01-01-2021</td>\n",
       "      <td>ORD10001</td>\n",
       "      <td>PROD3</td>\n",
       "      <td>Mumbai</td>\n",
       "      <td>0</td>\n",
       "      <td>118</td>\n",
       "      <td>2682.0</td>\n",
       "    </tr>\n",
       "    <tr>\n",
       "      <th>1</th>\n",
       "      <td>01-01-2021</td>\n",
       "      <td>ORD10002</td>\n",
       "      <td>PROD3</td>\n",
       "      <td>Pune</td>\n",
       "      <td>0</td>\n",
       "      <td>138</td>\n",
       "      <td>2662.0</td>\n",
       "    </tr>\n",
       "    <tr>\n",
       "      <th>2</th>\n",
       "      <td>03-01-2021</td>\n",
       "      <td>ORD10003</td>\n",
       "      <td>PROD6</td>\n",
       "      <td>Pune</td>\n",
       "      <td>15</td>\n",
       "      <td>140</td>\n",
       "      <td>2410.0</td>\n",
       "    </tr>\n",
       "    <tr>\n",
       "      <th>3</th>\n",
       "      <td>03-01-2021</td>\n",
       "      <td>ORD10004</td>\n",
       "      <td>PROD6</td>\n",
       "      <td>Surat</td>\n",
       "      <td>0</td>\n",
       "      <td>90</td>\n",
       "      <td>2910.0</td>\n",
       "    </tr>\n",
       "    <tr>\n",
       "      <th>4</th>\n",
       "      <td>04-01-2021</td>\n",
       "      <td>ORD10005</td>\n",
       "      <td>PROD7</td>\n",
       "      <td>Surat</td>\n",
       "      <td>3</td>\n",
       "      <td>86</td>\n",
       "      <td>2436.0</td>\n",
       "    </tr>\n",
       "  </tbody>\n",
       "</table>\n",
       "</div>"
      ],
      "text/plain": [
       "         Date  Order ID Product    City  Discount  Shipping Cost   Sales\n",
       "0  01-01-2021  ORD10001   PROD3  Mumbai         0            118  2682.0\n",
       "1  01-01-2021  ORD10002   PROD3    Pune         0            138  2662.0\n",
       "2  03-01-2021  ORD10003   PROD6    Pune        15            140  2410.0\n",
       "3  03-01-2021  ORD10004   PROD6   Surat         0             90  2910.0\n",
       "4  04-01-2021  ORD10005   PROD7   Surat         3             86  2436.0"
      ]
     },
     "execution_count": 117,
     "metadata": {},
     "output_type": "execute_result"
    }
   ],
   "source": [
    "df.head()"
   ]
  },
  {
   "cell_type": "code",
   "execution_count": null,
   "metadata": {
    "id": "NOwl83yVaQpo"
   },
   "outputs": [],
   "source": [
    "df.head(3)"
   ]
  },
  {
   "cell_type": "code",
   "execution_count": 118,
   "metadata": {
    "id": "fYRCzZUPaQpo"
   },
   "outputs": [
    {
     "data": {
      "text/html": [
       "<div>\n",
       "<style scoped>\n",
       "    .dataframe tbody tr th:only-of-type {\n",
       "        vertical-align: middle;\n",
       "    }\n",
       "\n",
       "    .dataframe tbody tr th {\n",
       "        vertical-align: top;\n",
       "    }\n",
       "\n",
       "    .dataframe thead th {\n",
       "        text-align: right;\n",
       "    }\n",
       "</style>\n",
       "<table border=\"1\" class=\"dataframe\">\n",
       "  <thead>\n",
       "    <tr style=\"text-align: right;\">\n",
       "      <th></th>\n",
       "      <th>Date</th>\n",
       "      <th>Order ID</th>\n",
       "      <th>Product</th>\n",
       "      <th>City</th>\n",
       "      <th>Discount</th>\n",
       "      <th>Shipping Cost</th>\n",
       "      <th>Sales</th>\n",
       "    </tr>\n",
       "  </thead>\n",
       "  <tbody>\n",
       "    <tr>\n",
       "      <th>9995</th>\n",
       "      <td>31-12-2024</td>\n",
       "      <td>ORD19996</td>\n",
       "      <td>PROD6</td>\n",
       "      <td>Mumbai</td>\n",
       "      <td>25</td>\n",
       "      <td>120</td>\n",
       "      <td>2130.0</td>\n",
       "    </tr>\n",
       "    <tr>\n",
       "      <th>9996</th>\n",
       "      <td>31-12-2024</td>\n",
       "      <td>ORD19997</td>\n",
       "      <td>PROD8</td>\n",
       "      <td>Mumbai</td>\n",
       "      <td>0</td>\n",
       "      <td>130</td>\n",
       "      <td>2700.0</td>\n",
       "    </tr>\n",
       "    <tr>\n",
       "      <th>9997</th>\n",
       "      <td>31-12-2024</td>\n",
       "      <td>ORD19998</td>\n",
       "      <td>PROD5</td>\n",
       "      <td>Surat</td>\n",
       "      <td>20</td>\n",
       "      <td>82</td>\n",
       "      <td>1678.0</td>\n",
       "    </tr>\n",
       "    <tr>\n",
       "      <th>9998</th>\n",
       "      <td>31-12-2024</td>\n",
       "      <td>ORD19999</td>\n",
       "      <td>PROD3</td>\n",
       "      <td>Hyderabad</td>\n",
       "      <td>0</td>\n",
       "      <td>108</td>\n",
       "      <td>2542.0</td>\n",
       "    </tr>\n",
       "    <tr>\n",
       "      <th>9999</th>\n",
       "      <td>31-12-2024</td>\n",
       "      <td>ORD20000</td>\n",
       "      <td>PROD8</td>\n",
       "      <td>Mumbai</td>\n",
       "      <td>15</td>\n",
       "      <td>130</td>\n",
       "      <td>2275.5</td>\n",
       "    </tr>\n",
       "  </tbody>\n",
       "</table>\n",
       "</div>"
      ],
      "text/plain": [
       "            Date  Order ID Product       City  Discount  Shipping Cost   Sales\n",
       "9995  31-12-2024  ORD19996   PROD6     Mumbai        25            120  2130.0\n",
       "9996  31-12-2024  ORD19997   PROD8     Mumbai         0            130  2700.0\n",
       "9997  31-12-2024  ORD19998   PROD5      Surat        20             82  1678.0\n",
       "9998  31-12-2024  ORD19999   PROD3  Hyderabad         0            108  2542.0\n",
       "9999  31-12-2024  ORD20000   PROD8     Mumbai        15            130  2275.5"
      ]
     },
     "execution_count": 118,
     "metadata": {},
     "output_type": "execute_result"
    }
   ],
   "source": [
    "df.tail()"
   ]
  },
  {
   "cell_type": "code",
   "execution_count": null,
   "metadata": {
    "id": "ATgfSROEaQpo"
   },
   "outputs": [],
   "source": [
    "df.tail(3)"
   ]
  },
  {
   "cell_type": "code",
   "execution_count": 78,
   "metadata": {
    "id": "7xRefZ0maQpq"
   },
   "outputs": [
    {
     "data": {
      "text/plain": [
       "0       2682.0\n",
       "1       2662.0\n",
       "2       2410.0\n",
       "3       2910.0\n",
       "4       2436.0\n",
       "         ...  \n",
       "9995    2130.0\n",
       "9996    2700.0\n",
       "9997    1678.0\n",
       "9998    2542.0\n",
       "9999    2275.5\n",
       "Name: Sales, Length: 10000, dtype: float64"
      ]
     },
     "execution_count": 78,
     "metadata": {},
     "output_type": "execute_result"
    }
   ],
   "source": [
    "df.Sales.astype(float)"
   ]
  },
  {
   "cell_type": "markdown",
   "metadata": {
    "id": "DxivtiVmaQpr"
   },
   "source": [
    "#### Removing Duplicate Data"
   ]
  },
  {
   "cell_type": "code",
   "execution_count": 88,
   "metadata": {},
   "outputs": [
    {
     "data": {
      "text/html": [
       "<div>\n",
       "<style scoped>\n",
       "    .dataframe tbody tr th:only-of-type {\n",
       "        vertical-align: middle;\n",
       "    }\n",
       "\n",
       "    .dataframe tbody tr th {\n",
       "        vertical-align: top;\n",
       "    }\n",
       "\n",
       "    .dataframe thead th {\n",
       "        text-align: right;\n",
       "    }\n",
       "</style>\n",
       "<table border=\"1\" class=\"dataframe\">\n",
       "  <thead>\n",
       "    <tr style=\"text-align: right;\">\n",
       "      <th></th>\n",
       "      <th>Invoice#</th>\n",
       "      <th>Product</th>\n",
       "      <th>Sales</th>\n",
       "    </tr>\n",
       "  </thead>\n",
       "  <tbody>\n",
       "    <tr>\n",
       "      <th>0</th>\n",
       "      <td>1</td>\n",
       "      <td>P1</td>\n",
       "      <td>2000</td>\n",
       "    </tr>\n",
       "    <tr>\n",
       "      <th>1</th>\n",
       "      <td>2</td>\n",
       "      <td>P2</td>\n",
       "      <td>3000</td>\n",
       "    </tr>\n",
       "    <tr>\n",
       "      <th>2</th>\n",
       "      <td>3</td>\n",
       "      <td>P2</td>\n",
       "      <td>3000</td>\n",
       "    </tr>\n",
       "    <tr>\n",
       "      <th>3</th>\n",
       "      <td>4</td>\n",
       "      <td>P1</td>\n",
       "      <td>5000</td>\n",
       "    </tr>\n",
       "    <tr>\n",
       "      <th>4</th>\n",
       "      <td>5</td>\n",
       "      <td>P2</td>\n",
       "      <td>2000</td>\n",
       "    </tr>\n",
       "    <tr>\n",
       "      <th>5</th>\n",
       "      <td>6</td>\n",
       "      <td>P1</td>\n",
       "      <td>3000</td>\n",
       "    </tr>\n",
       "  </tbody>\n",
       "</table>\n",
       "</div>"
      ],
      "text/plain": [
       "   Invoice# Product  Sales\n",
       "0         1      P1   2000\n",
       "1         2      P2   3000\n",
       "2         3      P2   3000\n",
       "3         4      P1   5000\n",
       "4         5      P2   2000\n",
       "5         6      P1   3000"
      ]
     },
     "execution_count": 88,
     "metadata": {},
     "output_type": "execute_result"
    }
   ],
   "source": [
    "df_temp = pd.DataFrame({\"Invoice#\" : range(1, 7),\n",
    "                        \"Product\" : [\"P1\", \"P2\", \"P2\", \"P1\", \"P2\", \"P1\",],\n",
    "                       \"Sales\" : [2000, 3000, 3000, 5000, 2000, 3000 ]})\n",
    "df_temp"
   ]
  },
  {
   "cell_type": "code",
   "execution_count": 119,
   "metadata": {},
   "outputs": [
    {
     "data": {
      "text/plain": [
       "np.False_"
      ]
     },
     "execution_count": 119,
     "metadata": {},
     "output_type": "execute_result"
    }
   ],
   "source": [
    "df_temp.duplicated().any() # Returns True if atleast 1 row is duplicate"
   ]
  },
  {
   "cell_type": "code",
   "execution_count": 120,
   "metadata": {},
   "outputs": [
    {
     "data": {
      "text/plain": [
       "np.int64(0)"
      ]
     },
     "execution_count": 120,
     "metadata": {},
     "output_type": "execute_result"
    }
   ],
   "source": [
    "df_temp.duplicated().sum() # 1 row is duplicate"
   ]
  },
  {
   "cell_type": "code",
   "execution_count": 121,
   "metadata": {},
   "outputs": [
    {
     "data": {
      "text/plain": [
       "np.int64(1)"
      ]
     },
     "execution_count": 121,
     "metadata": {},
     "output_type": "execute_result"
    }
   ],
   "source": [
    "df_temp.duplicated(subset=[\"Product\", \"Sales\"]).sum() # 1 row is duplicate"
   ]
  },
  {
   "cell_type": "code",
   "execution_count": 122,
   "metadata": {},
   "outputs": [
    {
     "data": {
      "text/html": [
       "<div>\n",
       "<style scoped>\n",
       "    .dataframe tbody tr th:only-of-type {\n",
       "        vertical-align: middle;\n",
       "    }\n",
       "\n",
       "    .dataframe tbody tr th {\n",
       "        vertical-align: top;\n",
       "    }\n",
       "\n",
       "    .dataframe thead th {\n",
       "        text-align: right;\n",
       "    }\n",
       "</style>\n",
       "<table border=\"1\" class=\"dataframe\">\n",
       "  <thead>\n",
       "    <tr style=\"text-align: right;\">\n",
       "      <th></th>\n",
       "      <th>Invoice#</th>\n",
       "      <th>Product</th>\n",
       "      <th>Sales</th>\n",
       "    </tr>\n",
       "  </thead>\n",
       "  <tbody>\n",
       "    <tr>\n",
       "      <th>2</th>\n",
       "      <td>3</td>\n",
       "      <td>P2</td>\n",
       "      <td>3000</td>\n",
       "    </tr>\n",
       "  </tbody>\n",
       "</table>\n",
       "</div>"
      ],
      "text/plain": [
       "   Invoice# Product  Sales\n",
       "2         3      P2   3000"
      ]
     },
     "execution_count": 122,
     "metadata": {},
     "output_type": "execute_result"
    }
   ],
   "source": [
    "# Extract the duplicate row\n",
    "df_temp[df_temp.duplicated(subset=[\"Product\", \"Sales\"])]"
   ]
  },
  {
   "cell_type": "code",
   "execution_count": 123,
   "metadata": {},
   "outputs": [
    {
     "data": {
      "text/html": [
       "<div>\n",
       "<style scoped>\n",
       "    .dataframe tbody tr th:only-of-type {\n",
       "        vertical-align: middle;\n",
       "    }\n",
       "\n",
       "    .dataframe tbody tr th {\n",
       "        vertical-align: top;\n",
       "    }\n",
       "\n",
       "    .dataframe thead th {\n",
       "        text-align: right;\n",
       "    }\n",
       "</style>\n",
       "<table border=\"1\" class=\"dataframe\">\n",
       "  <thead>\n",
       "    <tr style=\"text-align: right;\">\n",
       "      <th></th>\n",
       "      <th>Invoice#</th>\n",
       "      <th>Product</th>\n",
       "      <th>Sales</th>\n",
       "    </tr>\n",
       "  </thead>\n",
       "  <tbody>\n",
       "    <tr>\n",
       "      <th>1</th>\n",
       "      <td>2</td>\n",
       "      <td>P2</td>\n",
       "      <td>3000</td>\n",
       "    </tr>\n",
       "    <tr>\n",
       "      <th>2</th>\n",
       "      <td>3</td>\n",
       "      <td>P2</td>\n",
       "      <td>3000</td>\n",
       "    </tr>\n",
       "  </tbody>\n",
       "</table>\n",
       "</div>"
      ],
      "text/plain": [
       "   Invoice# Product  Sales\n",
       "1         2      P2   3000\n",
       "2         3      P2   3000"
      ]
     },
     "execution_count": 123,
     "metadata": {},
     "output_type": "execute_result"
    }
   ],
   "source": [
    "# Extract the duplicate row\n",
    "df_temp[df_temp.duplicated([\"Product\", \"Sales\"], keep=False)]"
   ]
  },
  {
   "cell_type": "markdown",
   "metadata": {},
   "source": [
    "#### Extract Rows and Columns from the Dataframe"
   ]
  },
  {
   "cell_type": "markdown",
   "metadata": {},
   "source": [
    "###### Ex. Extract Sales and calculate total average sales"
   ]
  },
  {
   "cell_type": "code",
   "execution_count": 124,
   "metadata": {},
   "outputs": [
    {
     "data": {
      "text/plain": [
       "np.float64(2374.4075700000003)"
      ]
     },
     "execution_count": 124,
     "metadata": {},
     "output_type": "execute_result"
    }
   ],
   "source": [
    "df[\"Sales\"].mean() # Average sales"
   ]
  },
  {
   "cell_type": "markdown",
   "metadata": {},
   "source": [
    "###### Ex. Extract Product and Sales"
   ]
  },
  {
   "cell_type": "code",
   "execution_count": null,
   "metadata": {},
   "outputs": [],
   "source": [
    "df[[\"Product\", \"Sales\"]]"
   ]
  },
  {
   "cell_type": "markdown",
   "metadata": {},
   "source": [
    "###### Ex. Extract row number 3"
   ]
  },
  {
   "cell_type": "code",
   "execution_count": 104,
   "metadata": {},
   "outputs": [
    {
     "data": {
      "text/plain": [
       "Year/Month       03-01-2021\n",
       "Order ID           ORD10004\n",
       "Product               PROD6\n",
       "City                  Surat\n",
       "Discount                  0\n",
       "Shipping Cost            90\n",
       "Sales                2910.0\n",
       "Name: 3, dtype: object"
      ]
     },
     "execution_count": 104,
     "metadata": {},
     "output_type": "execute_result"
    }
   ],
   "source": [
    "df.loc[3]"
   ]
  },
  {
   "cell_type": "markdown",
   "metadata": {},
   "source": [
    "##### Note - Single row or a column will extracted as Series"
   ]
  },
  {
   "cell_type": "markdown",
   "metadata": {},
   "source": [
    "###### Ex. Extract row 3 sales column"
   ]
  },
  {
   "cell_type": "code",
   "execution_count": 125,
   "metadata": {},
   "outputs": [
    {
     "data": {
      "text/plain": [
       "np.float64(2910.0)"
      ]
     },
     "execution_count": 125,
     "metadata": {},
     "output_type": "execute_result"
    }
   ],
   "source": [
    "df.loc[3, \"Sales\"]"
   ]
  },
  {
   "cell_type": "markdown",
   "metadata": {},
   "source": [
    "#### Filter data from dataframes"
   ]
  },
  {
   "cell_type": "markdown",
   "metadata": {},
   "source": [
    "###### Ex. Extract Data for City `Surat`"
   ]
  },
  {
   "cell_type": "code",
   "execution_count": null,
   "metadata": {},
   "outputs": [],
   "source": [
    "df[df[\"City\"] == \"Surat\"]"
   ]
  },
  {
   "cell_type": "markdown",
   "metadata": {},
   "source": [
    "###### Ex. Extract rows where discount is greater than 25"
   ]
  },
  {
   "cell_type": "code",
   "execution_count": null,
   "metadata": {},
   "outputs": [],
   "source": [
    "df[df[\"Discount\"] > 25]"
   ]
  },
  {
   "cell_type": "markdown",
   "metadata": {},
   "source": [
    "###### Ex. Extract data for City Surat and Pune"
   ]
  },
  {
   "cell_type": "code",
   "execution_count": null,
   "metadata": {},
   "outputs": [],
   "source": [
    "df[df[\"City\"].isin([\"Surat\", \"Pune\"])]"
   ]
  },
  {
   "cell_type": "markdown",
   "metadata": {},
   "source": [
    "###### Ex. Extract rows where discount is between 15 and 30"
   ]
  },
  {
   "cell_type": "code",
   "execution_count": null,
   "metadata": {},
   "outputs": [],
   "source": [
    "df[df[\"Discount\"].between(15, 30)]"
   ]
  },
  {
   "cell_type": "markdown",
   "metadata": {},
   "source": [
    "###### Ex. Extract data for Prodct \"PROD3\" and City Mumbai"
   ]
  },
  {
   "cell_type": "code",
   "execution_count": null,
   "metadata": {},
   "outputs": [],
   "source": [
    "df[(df[\"Product\"] == \"PROD3\") & (df[\"City\"] == \"Mumbai\")]  # & - set operator - intersection"
   ]
  },
  {
   "cell_type": "code",
   "execution_count": null,
   "metadata": {},
   "outputs": [],
   "source": [
    "df[np.logical_and(df[\"Product\"] == \"PROD3\", df[\"City\"] == \"Mumbai\")]"
   ]
  },
  {
   "cell_type": "markdown",
   "metadata": {
    "id": "EgteLlmQaQpr"
   },
   "source": [
    "#### Replacing values\n",
    "\n",
    "df.replace(old_value, new_value, inplace=True)"
   ]
  },
  {
   "cell_type": "code",
   "execution_count": null,
   "metadata": {
    "id": "3AtOmRVHaQpr"
   },
   "outputs": [],
   "source": [
    "df.replace({\"City\" : {\"Mumbai\" : \"Bombay\"}, \"\"})"
   ]
  },
  {
   "cell_type": "markdown",
   "metadata": {
    "id": "5NZZ0mFhaQpr"
   },
   "source": [
    "#### Adding a new Column by calculation"
   ]
  },
  {
   "cell_type": "markdown",
   "metadata": {},
   "source": [
    "###### Ex. Calulate `Net Revenue = Sales - Sales * Discount - Shipping Cost` and add the result as new column"
   ]
  },
  {
   "cell_type": "code",
   "execution_count": 170,
   "metadata": {},
   "outputs": [
    {
     "data": {
      "text/html": [
       "<div>\n",
       "<style scoped>\n",
       "    .dataframe tbody tr th:only-of-type {\n",
       "        vertical-align: middle;\n",
       "    }\n",
       "\n",
       "    .dataframe tbody tr th {\n",
       "        vertical-align: top;\n",
       "    }\n",
       "\n",
       "    .dataframe thead th {\n",
       "        text-align: right;\n",
       "    }\n",
       "</style>\n",
       "<table border=\"1\" class=\"dataframe\">\n",
       "  <thead>\n",
       "    <tr style=\"text-align: right;\">\n",
       "      <th></th>\n",
       "      <th>Date</th>\n",
       "      <th>Order ID</th>\n",
       "      <th>Product</th>\n",
       "      <th>City</th>\n",
       "      <th>Discount</th>\n",
       "      <th>Shipping Cost</th>\n",
       "      <th>Sales</th>\n",
       "      <th>Net Revenue</th>\n",
       "    </tr>\n",
       "  </thead>\n",
       "  <tbody>\n",
       "    <tr>\n",
       "      <th>0</th>\n",
       "      <td>01-01-2021</td>\n",
       "      <td>ORD10001</td>\n",
       "      <td>PROD3</td>\n",
       "      <td>Mumbai</td>\n",
       "      <td>0</td>\n",
       "      <td>118</td>\n",
       "      <td>2682.0</td>\n",
       "      <td>2564.00</td>\n",
       "    </tr>\n",
       "    <tr>\n",
       "      <th>1</th>\n",
       "      <td>01-01-2021</td>\n",
       "      <td>ORD10002</td>\n",
       "      <td>PROD3</td>\n",
       "      <td>Pune</td>\n",
       "      <td>0</td>\n",
       "      <td>138</td>\n",
       "      <td>2662.0</td>\n",
       "      <td>2524.00</td>\n",
       "    </tr>\n",
       "    <tr>\n",
       "      <th>2</th>\n",
       "      <td>03-01-2021</td>\n",
       "      <td>ORD10003</td>\n",
       "      <td>PROD6</td>\n",
       "      <td>Pune</td>\n",
       "      <td>15</td>\n",
       "      <td>140</td>\n",
       "      <td>2410.0</td>\n",
       "      <td>1908.50</td>\n",
       "    </tr>\n",
       "    <tr>\n",
       "      <th>3</th>\n",
       "      <td>03-01-2021</td>\n",
       "      <td>ORD10004</td>\n",
       "      <td>PROD6</td>\n",
       "      <td>Surat</td>\n",
       "      <td>0</td>\n",
       "      <td>90</td>\n",
       "      <td>2910.0</td>\n",
       "      <td>2820.00</td>\n",
       "    </tr>\n",
       "    <tr>\n",
       "      <th>4</th>\n",
       "      <td>04-01-2021</td>\n",
       "      <td>ORD10005</td>\n",
       "      <td>PROD7</td>\n",
       "      <td>Surat</td>\n",
       "      <td>3</td>\n",
       "      <td>86</td>\n",
       "      <td>2436.0</td>\n",
       "      <td>2276.92</td>\n",
       "    </tr>\n",
       "  </tbody>\n",
       "</table>\n",
       "</div>"
      ],
      "text/plain": [
       "         Date  Order ID Product    City  Discount  Shipping Cost   Sales  \\\n",
       "0  01-01-2021  ORD10001   PROD3  Mumbai         0            118  2682.0   \n",
       "1  01-01-2021  ORD10002   PROD3    Pune         0            138  2662.0   \n",
       "2  03-01-2021  ORD10003   PROD6    Pune        15            140  2410.0   \n",
       "3  03-01-2021  ORD10004   PROD6   Surat         0             90  2910.0   \n",
       "4  04-01-2021  ORD10005   PROD7   Surat         3             86  2436.0   \n",
       "\n",
       "   Net Revenue  \n",
       "0      2564.00  \n",
       "1      2524.00  \n",
       "2      1908.50  \n",
       "3      2820.00  \n",
       "4      2276.92  "
      ]
     },
     "execution_count": 170,
     "metadata": {},
     "output_type": "execute_result"
    }
   ],
   "source": [
    "df[\"Net Revenue\"] = df[\"Sales\"] * (1 - df[\"Discount\"]/100) - df[\"Shipping Cost\"]\n",
    "df.head()"
   ]
  },
  {
   "cell_type": "markdown",
   "metadata": {},
   "source": [
    "###### Ex. How many unique products are sold?"
   ]
  },
  {
   "cell_type": "code",
   "execution_count": 141,
   "metadata": {},
   "outputs": [
    {
     "data": {
      "text/plain": [
       "array(['PROD3', 'PROD6', 'PROD7', 'PROD9', 'PROD8', 'PROD1', 'PROD2',\n",
       "       'PROD5', 'PROD4'], dtype=object)"
      ]
     },
     "execution_count": 141,
     "metadata": {},
     "output_type": "execute_result"
    }
   ],
   "source": [
    "df[\"Product\"].unique()"
   ]
  },
  {
   "cell_type": "markdown",
   "metadata": {},
   "source": [
    "###### Ex. How many times each product was sold?"
   ]
  },
  {
   "cell_type": "code",
   "execution_count": 143,
   "metadata": {
    "id": "soNzjwLqaQpt"
   },
   "outputs": [
    {
     "data": {
      "text/plain": [
       "Product\n",
       "PROD6    2494\n",
       "PROD5    1941\n",
       "PROD3    1200\n",
       "PROD8    1045\n",
       "PROD7     900\n",
       "PROD9     850\n",
       "PROD1     706\n",
       "PROD2     639\n",
       "PROD4     225\n",
       "Name: count, dtype: int64"
      ]
     },
     "execution_count": 143,
     "metadata": {},
     "output_type": "execute_result"
    }
   ],
   "source": [
    "df[\"Product\"].value_counts()"
   ]
  },
  {
   "cell_type": "code",
   "execution_count": 147,
   "metadata": {
    "id": "soNzjwLqaQpt"
   },
   "outputs": [
    {
     "data": {
      "text/plain": [
       "Product\n",
       "PROD6    24.9%\n",
       "PROD5    19.4%\n",
       "PROD3    12.0%\n",
       "PROD8    10.4%\n",
       "PROD7     9.0%\n",
       "PROD9     8.5%\n",
       "PROD1     7.1%\n",
       "PROD2     6.4%\n",
       "PROD4     2.2%\n",
       "Name: proportion, dtype: object"
      ]
     },
     "execution_count": 147,
     "metadata": {},
     "output_type": "execute_result"
    }
   ],
   "source": [
    "(df[\"Product\"].value_counts(normalize=True)* 100).round(1).astype(str) + \"%\""
   ]
  },
  {
   "cell_type": "code",
   "execution_count": 156,
   "metadata": {},
   "outputs": [
    {
     "data": {
      "text/plain": [
       "<Axes: xlabel='Product'>"
      ]
     },
     "execution_count": 156,
     "metadata": {},
     "output_type": "execute_result"
    },
    {
     "data": {
      "image/png": "[encoded data removed]",
      "text/plain": [
       "<Figure size 300x200 with 1 Axes>"
      ]
     },
     "metadata": {},
     "output_type": "display_data"
    }
   ],
   "source": [
    "# Visualise using pandas function - \n",
    "df[\"Product\"].value_counts().plot(kind = \"bar\", figsize = (3, 2))"
   ]
  },
  {
   "cell_type": "code",
   "execution_count": 154,
   "metadata": {},
   "outputs": [
    {
     "data": {
      "image/png": "[encoded data removed]",
      "text/plain": [
       "<Figure size 800x200 with 1 Axes>"
      ]
     },
     "metadata": {},
     "output_type": "display_data"
    }
   ],
   "source": [
    "# Visualise using sns.countplot function - \n",
    "plt.figure(figsize = (8, 2))\n",
    "sns.countplot(x = df[\"Product\"])\n",
    "# plt.savefig(\"chart.png\")"
   ]
  },
  {
   "cell_type": "markdown",
   "metadata": {
    "id": "j9maHWoUaQp7"
   },
   "source": [
    "#### Insert a column in between\n",
    "df.insert(`index`, `column_name`, `default_value`)"
   ]
  },
  {
   "cell_type": "markdown",
   "metadata": {
    "id": "dNRt8QUXaQp7"
   },
   "source": [
    "###### Create columns Year and Month - extract data using pd.DatetimeIndex"
   ]
  },
  {
   "cell_type": "code",
   "execution_count": 186,
   "metadata": {},
   "outputs": [
    {
     "data": {
      "text/html": [
       "<div>\n",
       "<style scoped>\n",
       "    .dataframe tbody tr th:only-of-type {\n",
       "        vertical-align: middle;\n",
       "    }\n",
       "\n",
       "    .dataframe tbody tr th {\n",
       "        vertical-align: top;\n",
       "    }\n",
       "\n",
       "    .dataframe thead th {\n",
       "        text-align: right;\n",
       "    }\n",
       "</style>\n",
       "<table border=\"1\" class=\"dataframe\">\n",
       "  <thead>\n",
       "    <tr style=\"text-align: right;\">\n",
       "      <th></th>\n",
       "      <th>Date</th>\n",
       "      <th>Year/Month</th>\n",
       "      <th>Month_</th>\n",
       "      <th>Year</th>\n",
       "      <th>Month</th>\n",
       "      <th>Order ID</th>\n",
       "      <th>Product</th>\n",
       "      <th>City</th>\n",
       "      <th>Discount</th>\n",
       "      <th>Shipping Cost</th>\n",
       "      <th>Sales</th>\n",
       "      <th>Net Revenue</th>\n",
       "    </tr>\n",
       "  </thead>\n",
       "  <tbody>\n",
       "    <tr>\n",
       "      <th>0</th>\n",
       "      <td>2021-01-01</td>\n",
       "      <td>2021-01</td>\n",
       "      <td>January</td>\n",
       "      <td>2021</td>\n",
       "      <td>1</td>\n",
       "      <td>ORD10001</td>\n",
       "      <td>PROD3</td>\n",
       "      <td>Mumbai</td>\n",
       "      <td>0</td>\n",
       "      <td>118</td>\n",
       "      <td>2682.0</td>\n",
       "      <td>2564.0</td>\n",
       "    </tr>\n",
       "    <tr>\n",
       "      <th>1</th>\n",
       "      <td>2021-01-01</td>\n",
       "      <td>2021-01</td>\n",
       "      <td>January</td>\n",
       "      <td>2021</td>\n",
       "      <td>1</td>\n",
       "      <td>ORD10002</td>\n",
       "      <td>PROD3</td>\n",
       "      <td>Pune</td>\n",
       "      <td>0</td>\n",
       "      <td>138</td>\n",
       "      <td>2662.0</td>\n",
       "      <td>2524.0</td>\n",
       "    </tr>\n",
       "  </tbody>\n",
       "</table>\n",
       "</div>"
      ],
      "text/plain": [
       "        Date Year/Month   Month_  Year  Month  Order ID Product    City  \\\n",
       "0 2021-01-01    2021-01  January  2021      1  ORD10001   PROD3  Mumbai   \n",
       "1 2021-01-01    2021-01  January  2021      1  ORD10002   PROD3    Pune   \n",
       "\n",
       "   Discount  Shipping Cost   Sales  Net Revenue  \n",
       "0         0            118  2682.0       2564.0  \n",
       "1         0            138  2662.0       2524.0  "
      ]
     },
     "execution_count": 186,
     "metadata": {},
     "output_type": "execute_result"
    }
   ],
   "source": [
    "df[\"Date\"] = pd.to_datetime(df.Date, format = \"mixed\")\n",
    "# df.insert(1, \"Year\", df[\"Date\"].dt.year)\n",
    "# df.insert(2, \"Month\", df[\"Date\"].dt.month)\n",
    "df.insert(2, \"Month_\", df[\"Date\"].dt.month_name())\n",
    "# df.insert(1, \"Year/Month\", df[\"Date\"].dt.to_period(\"M\"))\n",
    "df.head(2)"
   ]
  },
  {
   "cell_type": "markdown",
   "metadata": {},
   "source": [
    "###### Ex. What is the trend of order volumes over different months and years?"
   ]
  },
  {
   "cell_type": "code",
   "execution_count": 185,
   "metadata": {},
   "outputs": [
    {
     "data": {
      "text/plain": [
       "<Axes: xlabel='Date'>"
      ]
     },
     "execution_count": 185,
     "metadata": {},
     "output_type": "execute_result"
    },
    {
     "data": {
      "image/png": "[encoded data removed]",
      "text/plain": [
       "<Figure size 800x200 with 1 Axes>"
      ]
     },
     "metadata": {},
     "output_type": "display_data"
    }
   ],
   "source": [
    "df.groupby(\"Date\")[\"Order ID\"].count().plot(kind = \"line\", figsize = (8, 2))"
   ]
  },
  {
   "cell_type": "markdown",
   "metadata": {},
   "source": [
    "###### Ex. What is the trend of sales over different months and years?"
   ]
  },
  {
   "cell_type": "code",
   "execution_count": 181,
   "metadata": {},
   "outputs": [
    {
     "data": {
      "text/plain": [
       "<Axes: xlabel='Date'>"
      ]
     },
     "execution_count": 181,
     "metadata": {},
     "output_type": "execute_result"
    },
    {
     "data": {
      "image/png": "[encoded data removed]",
      "text/plain": [
       "<Figure size 800x200 with 1 Axes>"
      ]
     },
     "metadata": {},
     "output_type": "display_data"
    }
   ],
   "source": [
    "df.groupby(\"Date\")[\"Sales\"].sum().plot(kind = \"line\", figsize = (8, 2))"
   ]
  },
  {
   "cell_type": "code",
   "execution_count": 184,
   "metadata": {},
   "outputs": [
    {
     "data": {
      "text/plain": [
       "<Axes: xlabel='Year/Month'>"
      ]
     },
     "execution_count": 184,
     "metadata": {},
     "output_type": "execute_result"
    },
    {
     "data": {
      "image/png": "[encoded data removed]",
      "text/plain": [
       "<Figure size 800x200 with 1 Axes>"
      ]
     },
     "metadata": {},
     "output_type": "display_data"
    }
   ],
   "source": [
    "df.groupby(\"Year/Month\")[\"Sales\"].sum().plot(kind = \"line\", figsize = (8, 2))"
   ]
  },
  {
   "cell_type": "markdown",
   "metadata": {},
   "source": [
    "###### Ex. Sesonality Analysis for Sales"
   ]
  },
  {
   "cell_type": "code",
   "execution_count": null,
   "metadata": {},
   "outputs": [],
   "source": [
    "df.groupby([\"Month\", \"Month_\"])[\"Sales\"].sum().plot(kind = \"bar\", figsize = (8, 2))"
   ]
  },
  {
   "cell_type": "code",
   "execution_count": null,
   "metadata": {},
   "outputs": [],
   "source": [
    "plt.figure(figsize = (10, 2))\n",
    "sns.barplot(data = df, x = \"Month_\", y = \"Sales\", estimator=\"sum\")"
   ]
  },
  {
   "cell_type": "markdown",
   "metadata": {},
   "source": [
    "###### Ex. Analyse Growth over years"
   ]
  },
  {
   "cell_type": "code",
   "execution_count": 225,
   "metadata": {},
   "outputs": [
    {
     "data": {
      "text/html": [
       "<div>\n",
       "<style scoped>\n",
       "    .dataframe tbody tr th:only-of-type {\n",
       "        vertical-align: middle;\n",
       "    }\n",
       "\n",
       "    .dataframe tbody tr th {\n",
       "        vertical-align: top;\n",
       "    }\n",
       "\n",
       "    .dataframe thead th {\n",
       "        text-align: right;\n",
       "    }\n",
       "</style>\n",
       "<table border=\"1\" class=\"dataframe\">\n",
       "  <thead>\n",
       "    <tr style=\"text-align: right;\">\n",
       "      <th></th>\n",
       "      <th>Year</th>\n",
       "      <th>Sales</th>\n",
       "      <th>Growth</th>\n",
       "    </tr>\n",
       "  </thead>\n",
       "  <tbody>\n",
       "    <tr>\n",
       "      <th>0</th>\n",
       "      <td>2021</td>\n",
       "      <td>3100454.5</td>\n",
       "      <td>0</td>\n",
       "    </tr>\n",
       "    <tr>\n",
       "      <th>1</th>\n",
       "      <td>2022</td>\n",
       "      <td>4678492.0</td>\n",
       "      <td>50.9%</td>\n",
       "    </tr>\n",
       "    <tr>\n",
       "      <th>2</th>\n",
       "      <td>2023</td>\n",
       "      <td>6709759.0</td>\n",
       "      <td>43.4%</td>\n",
       "    </tr>\n",
       "    <tr>\n",
       "      <th>3</th>\n",
       "      <td>2024</td>\n",
       "      <td>9255370.2</td>\n",
       "      <td>37.9%</td>\n",
       "    </tr>\n",
       "  </tbody>\n",
       "</table>\n",
       "</div>"
      ],
      "text/plain": [
       "   Year      Sales Growth\n",
       "0  2021  3100454.5      0\n",
       "1  2022  4678492.0  50.9%\n",
       "2  2023  6709759.0  43.4%\n",
       "3  2024  9255370.2  37.9%"
      ]
     },
     "execution_count": 225,
     "metadata": {},
     "output_type": "execute_result"
    }
   ],
   "source": [
    "data = df.groupby(\"Year\", as_index=False)[\"Sales\"].sum()\n",
    "data[\"Growth\"] = \"0\"\n",
    "data.loc[1:, \"Growth\"] = list((np.diff(data.Sales) / data.Sales[:-1] * 100).round(1).astype(str) + \"%\")\n",
    "data"
   ]
  },
  {
   "cell_type": "code",
   "execution_count": 230,
   "metadata": {},
   "outputs": [
    {
     "data": {
      "text/plain": [
       "<Axes: xlabel='Year'>"
      ]
     },
     "execution_count": 230,
     "metadata": {},
     "output_type": "execute_result"
    },
    {
     "data": {
      "image/png": "[encoded data removed]",
      "text/plain": [
       "<Figure size 600x200 with 1 Axes>"
      ]
     },
     "metadata": {},
     "output_type": "display_data"
    }
   ],
   "source": [
    "data = df.groupby(\"Year\", as_index=False)[\"Sales\"].sum()\n",
    "data[\"Growth\"] = 0.0\n",
    "data.loc[1:, \"Growth\"] = list((np.diff(data.Sales) / data.Sales[:-1] * 100).round(1))\n",
    "data = data.loc[1:]\n",
    "data.plot(kind = \"bar\", x = \"Year\", y = \"Growth\", figsize = (6, 2))"
   ]
  },
  {
   "cell_type": "markdown",
   "metadata": {
    "id": "S_rTrXHTaQp_"
   },
   "source": [
    "###### Ex. Find product wise total Sales - bar chart"
   ]
  },
  {
   "cell_type": "code",
   "execution_count": 315,
   "metadata": {},
   "outputs": [
    {
     "data": {
      "text/html": [
       "<div>\n",
       "<style scoped>\n",
       "    .dataframe tbody tr th:only-of-type {\n",
       "        vertical-align: middle;\n",
       "    }\n",
       "\n",
       "    .dataframe tbody tr th {\n",
       "        vertical-align: top;\n",
       "    }\n",
       "\n",
       "    .dataframe thead th {\n",
       "        text-align: right;\n",
       "    }\n",
       "</style>\n",
       "<table border=\"1\" class=\"dataframe\">\n",
       "  <thead>\n",
       "    <tr style=\"text-align: right;\">\n",
       "      <th></th>\n",
       "      <th>Product</th>\n",
       "      <th>Sales</th>\n",
       "    </tr>\n",
       "  </thead>\n",
       "  <tbody>\n",
       "    <tr>\n",
       "      <th>0</th>\n",
       "      <td>PROD6</td>\n",
       "      <td>6468200.0</td>\n",
       "    </tr>\n",
       "    <tr>\n",
       "      <th>1</th>\n",
       "      <td>PROD5</td>\n",
       "      <td>3623786.0</td>\n",
       "    </tr>\n",
       "    <tr>\n",
       "      <th>2</th>\n",
       "      <td>PROD9</td>\n",
       "      <td>3347090.0</td>\n",
       "    </tr>\n",
       "    <tr>\n",
       "      <th>3</th>\n",
       "      <td>PROD3</td>\n",
       "      <td>2898116.0</td>\n",
       "    </tr>\n",
       "    <tr>\n",
       "      <th>4</th>\n",
       "      <td>PROD8</td>\n",
       "      <td>2534081.5</td>\n",
       "    </tr>\n",
       "    <tr>\n",
       "      <th>5</th>\n",
       "      <td>PROD7</td>\n",
       "      <td>2001102.0</td>\n",
       "    </tr>\n",
       "    <tr>\n",
       "      <th>6</th>\n",
       "      <td>PROD2</td>\n",
       "      <td>1368370.0</td>\n",
       "    </tr>\n",
       "    <tr>\n",
       "      <th>7</th>\n",
       "      <td>PROD1</td>\n",
       "      <td>1184210.0</td>\n",
       "    </tr>\n",
       "    <tr>\n",
       "      <th>8</th>\n",
       "      <td>PROD4</td>\n",
       "      <td>319120.2</td>\n",
       "    </tr>\n",
       "  </tbody>\n",
       "</table>\n",
       "</div>"
      ],
      "text/plain": [
       "  Product      Sales\n",
       "0   PROD6  6468200.0\n",
       "1   PROD5  3623786.0\n",
       "2   PROD9  3347090.0\n",
       "3   PROD3  2898116.0\n",
       "4   PROD8  2534081.5\n",
       "5   PROD7  2001102.0\n",
       "6   PROD2  1368370.0\n",
       "7   PROD1  1184210.0\n",
       "8   PROD4   319120.2"
      ]
     },
     "execution_count": 315,
     "metadata": {},
     "output_type": "execute_result"
    }
   ],
   "source": [
    "data = df.groupby(\"Product\", as_index=False)[\"Sales\"].sum().sort_values(\"Sales\", ascending=False, ignore_index=True)\n",
    "data"
   ]
  },
  {
   "cell_type": "code",
   "execution_count": 316,
   "metadata": {},
   "outputs": [
    {
     "data": {
      "image/png": "[encoded data removed]",
      "text/plain": [
       "<Figure size 1000x300 with 1 Axes>"
      ]
     },
     "metadata": {},
     "output_type": "display_data"
    }
   ],
   "source": [
    "data.plot(kind = \"bar\", figsize = (10, 3), x = \"Product\", y = \"Sales\", color = \"Teal\")\n",
    "plt.title(\"Sales across Products\", loc = \"left\", size = \"medium\", color = \"darkslategrey\")\n",
    "plt.xticks(rotation = 0, size = \"x-small\", color = \"darkslategrey\")\n",
    "y_axis_labels = (pd.Series(range(0, int(data.Sales.max()) + 1000000, 1000000))//1000).astype(str) + \"k\"\n",
    "y_axis = range(0, int(data.Sales.max()) + 1000000, 1000000)\n",
    "plt.yticks(y_axis, labels=y_axis_labels, size = \"x-small\", color = \"darkslategrey\")\n",
    "plt.xlabel(\"\")\n",
    "plt.grid(axis = \"y\", color = \"lightgrey\", linestyle='--', linewidth=0.6)\n",
    "plt.legend(labelcolor = \"Blue\")\n",
    "plt.axhline(data.Sales.mean())\n",
    "\n",
    "for x, y in list(zip(data.index, data.Sales)) :\n",
    "    plt.annotate(f\"{y//1000}k\",xy = (x, y+10000), ha= \"center\", size = \"x-small\")\n",
    "plt.show()"
   ]
  },
  {
   "cell_type": "code",
   "execution_count": 297,
   "metadata": {},
   "outputs": [
    {
     "data": {
      "text/plain": [
       "0       0k\n",
       "1    1000k\n",
       "2    2000k\n",
       "3    3000k\n",
       "4    4000k\n",
       "5    5000k\n",
       "6    6000k\n",
       "7    7000k\n",
       "dtype: object"
      ]
     },
     "execution_count": 297,
     "metadata": {},
     "output_type": "execute_result"
    }
   ],
   "source": [
    "y_axis = (pd.Series(range(0, int(data.Sales.max()) + 1000000, 1000000))//1000).astype(str) + \"k\""
   ]
  },
  {
   "cell_type": "code",
   "execution_count": 311,
   "metadata": {},
   "outputs": [
    {
     "data": {
      "text/plain": [
       "<matplotlib.legend.Legend at 0x23813f9e8d0>"
      ]
     },
     "execution_count": 311,
     "metadata": {},
     "output_type": "execute_result"
    },
    {
     "data": {
      "image/png": "[encoded data removed]",
      "text/plain": [
       "<Figure size 1000x300 with 1 Axes>"
      ]
     },
     "metadata": {},
     "output_type": "display_data"
    }
   ],
   "source": [
    "data = df.groupby(\"Product\")[[\"Sales\", \"Net Revenue\"]].sum().sort_values(\"Sales\", ascending=False)\n",
    "data.plot(kind = \"bar\", figsize = (10, 3), color = [\"Teal\", \"Cyan\"], edgecolor = \"Black\", linewidth = 0.6)\n",
    "plt.title(\"Sales and Net Revenue across Products\", loc = \"left\", size = \"medium\", color = \"darkslategrey\")\n",
    "plt.xticks(rotation = 0, size = \"x-small\", color = \"darkslategrey\")\n",
    "plt.grid(axis = \"y\", color = \"lightgrey\", linestyle='--', linewidth=0.6)\n",
    "plt.legend(labelcolor = \"Blue\")"
   ]
  },
  {
   "cell_type": "code",
   "execution_count": 323,
   "metadata": {},
   "outputs": [
    {
     "data": {
      "text/plain": [
       "[<matplotlib.lines.Line2D at 0x2380f4056a0>]"
      ]
     },
     "execution_count": 323,
     "metadata": {},
     "output_type": "execute_result"
    },
    {
     "data": {
      "image/png": "[encoded data removed]",
      "text/plain": [
       "<Figure size 640x480 with 1 Axes>"
      ]
     },
     "metadata": {},
     "output_type": "display_data"
    }
   ],
   "source": [
    "df.plot(kind = \"scatter\", x = \"Discount\", y = \"Net Revenue\")\n",
    "m, c = np.polyfit(df.Discount, df[\"Net Revenue\"], 1)\n",
    "y = m * df.Discount + c\n",
    "plt.plot(df.Discount, y, ls = \"-\")"
   ]
  },
  {
   "cell_type": "code",
   "execution_count": null,
   "metadata": {},
   "outputs": [],
   "source": []
  },
  {
   "cell_type": "code",
   "execution_count": null,
   "metadata": {},
   "outputs": [],
   "source": []
  },
  {
   "cell_type": "code",
   "execution_count": null,
   "metadata": {},
   "outputs": [],
   "source": []
  },
  {
   "cell_type": "code",
   "execution_count": null,
   "metadata": {},
   "outputs": [],
   "source": []
  }
 ],
 "metadata": {
  "colab": {
   "provenance": []
  },
  "kernelspec": {
   "display_name": "Python 3 (ipykernel)",
   "language": "python",
   "name": "python3"
  },
  "language_info": {
   "codemirror_mode": {
    "name": "ipython",
    "version": 3
   },
   "file_extension": ".py",
   "mimetype": "text/x-python",
   "name": "python",
   "nbconvert_exporter": "python",
   "pygments_lexer": "ipython3",
   "version": "3.12.4"
  }
 },
 "nbformat": 4,
 "nbformat_minor": 4
}
