{
 "cells": [
  {
   "cell_type": "markdown",
   "metadata": {},
   "source": [
    "# Training Program on Advanced Python\n",
    "### Course Agenda - \n",
    "\n",
    "1. **Python Basics**\n",
    "   - Overview, syntax, variables, and data types (integers, floats, strings, Booleans)\n",
    "   - Basic input/output (using `input()` and `print()`)\n",
    "   - Arithmetic, comparison, and logical operators\n",
    "\n",
    "2. **Control Flow**\n",
    "   - Conditional statements (if, elif, else)\n",
    "   - Loops (for and while loops) and control statements (break, continue, pass)\n",
    "\n",
    "3. **Data Structures**\n",
    "   - Lists, tuples, dictionaries, and sets (creating, accessing, modifying)\n",
    "   - List and dictionary comprehensions\n",
    "     \n",
    "4. **Functions**\n",
    "   - Defining functions, parameters, and return statements\n",
    "   - Variable scope (local vs global), lambda functions, and recursion\n",
    "\n",
    "5. **Modules and Libraries**\n",
    "   - Importing and using standard libraries (math, os, datetime, re)\n",
    "   - Popular libraries for data science (NumPy, pandas, matplotlib)"
   ]
  },
  {
   "cell_type": "markdown",
   "metadata": {},
   "source": [
    "### Python Basics\n",
    "\n",
    "- Overview, syntax, variables, and data types (integers, floats, strings, Booleans)\n",
    "- Basic input/output (using input() and print())\n",
    "- Arithmetic, comparison, and logical operators"
   ]
  },
  {
   "cell_type": "markdown",
   "metadata": {},
   "source": [
    "#### Python is – \n",
    "- Open source\n",
    "- Interpreter based\n",
    "- Platform independent\n",
    "- Current version – 3.13.x\n",
    "- Download it from here - https://www.python.org/download/releases/3.0/"
   ]
  },
  {
   "cell_type": "markdown",
   "metadata": {},
   "source": [
    "Tools - \n",
    "1. Jupyter Notebook - .ipynb\n",
    "2. Visual Studio code - .py and .ipynb\n",
    "3. Pycharm - .py\n",
    "4. Spyder - .py"
   ]
  },
  {
   "cell_type": "markdown",
   "metadata": {},
   "source": [
    "### Python Data Types\n",
    "\n",
    "1. int: Integer numbers, e.g., 42, -7\n",
    "2. float: Floating-point numbers (decimal), e.g., 3.14, -0.001\n",
    "3. complex: Complex numbers, e.g., 1+2j, -3+4j\n",
    "4. bool: Boolean values, either True or False\n",
    "5. str: String, a sequence of characters, e.g., \"hello\", 'world'\n",
    "6. bytes: Immutable sequence of bytes, e.g., b'hello'\n",
    "\n"
   ]
  },
  {
   "cell_type": "code",
   "execution_count": 1,
   "metadata": {},
   "outputs": [
    {
     "data": {
      "text/plain": [
       "10"
      ]
     },
     "execution_count": 1,
     "metadata": {},
     "output_type": "execute_result"
    }
   ],
   "source": [
    "10 # int"
   ]
  },
  {
   "cell_type": "code",
   "execution_count": 2,
   "metadata": {},
   "outputs": [
    {
     "data": {
      "text/plain": [
       "15.5"
      ]
     },
     "execution_count": 2,
     "metadata": {},
     "output_type": "execute_result"
    }
   ],
   "source": [
    "15.5 # float"
   ]
  },
  {
   "cell_type": "code",
   "execution_count": 3,
   "metadata": {},
   "outputs": [
    {
     "data": {
      "text/plain": [
       "'abcd'"
      ]
     },
     "execution_count": 3,
     "metadata": {},
     "output_type": "execute_result"
    }
   ],
   "source": [
    "\"abcd\" # str"
   ]
  },
  {
   "cell_type": "code",
   "execution_count": 4,
   "metadata": {},
   "outputs": [
    {
     "data": {
      "text/plain": [
       "True"
      ]
     },
     "execution_count": 4,
     "metadata": {},
     "output_type": "execute_result"
    }
   ],
   "source": [
    "True # bool"
   ]
  },
  {
   "cell_type": "code",
   "execution_count": 5,
   "metadata": {},
   "outputs": [
    {
     "data": {
      "text/plain": [
       "(2+3j)"
      ]
     },
     "execution_count": 5,
     "metadata": {},
     "output_type": "execute_result"
    }
   ],
   "source": [
    "complex(2,3) # complex"
   ]
  },
  {
   "cell_type": "markdown",
   "metadata": {},
   "source": [
    "#### Examples - "
   ]
  },
  {
   "cell_type": "markdown",
   "metadata": {},
   "source": [
    "###### Ex. WAP to take name of user as input and print a welcome message"
   ]
  },
  {
   "cell_type": "code",
   "execution_count": 6,
   "metadata": {},
   "outputs": [
    {
     "name": "stdin",
     "output_type": "stream",
     "text": [
      "Enter your name -  Jane\n"
     ]
    },
    {
     "name": "stdout",
     "output_type": "stream",
     "text": [
      "Welcome Jane\n"
     ]
    }
   ],
   "source": [
    "name = input(\"Enter your name - \")\n",
    "print(\"Welcome\", name)"
   ]
  },
  {
   "cell_type": "markdown",
   "metadata": {},
   "source": [
    "###### Ex. WAP to take two numbers as input from user and print their sum."
   ]
  },
  {
   "cell_type": "code",
   "execution_count": 10,
   "metadata": {},
   "outputs": [
    {
     "name": "stdin",
     "output_type": "stream",
     "text": [
      "Enter a number -  5.7\n",
      "Enter a number -  6\n"
     ]
    },
    {
     "name": "stdout",
     "output_type": "stream",
     "text": [
      "11.7\n"
     ]
    }
   ],
   "source": [
    "num1 = float(input(\"Enter a number - \"))\n",
    "num2 = int(input(\"Enter a number - \"))\n",
    "print(num1 + num2)"
   ]
  },
  {
   "cell_type": "markdown",
   "metadata": {},
   "source": [
    "##### Note - input() always stores value in str format"
   ]
  },
  {
   "cell_type": "markdown",
   "metadata": {},
   "source": [
    "<hr><hr>"
   ]
  },
  {
   "attachments": {},
   "cell_type": "markdown",
   "metadata": {
    "scrolled": false
   },
   "source": [
    "### Operators in Python\n",
    "- Operators are special symbols in Python that carry out computations. The value that the operator operates on is called as operand.\n",
    "\n",
    "<table style=\"width: 60%; border-collapse: collapse; border: 1px solid #ccc; text-align: left; margin-left: 0;\">\n",
    "  <thead>\n",
    "    <tr style=\"background-color: #050A30; color: white;\">\n",
    "    <th>Type</th>\n",
    "    <th>Operator</th>\n",
    "    <th>Description</th>\n",
    "    <th>Example</th>\n",
    "  </tr>\n",
    "  <tr style = \"border: 1px solid #ccc;\">\n",
    "    <td rowspan=\"7\" style=\"text-align:center;\">Arithmetic</td>\n",
    "    <td>+</td>\n",
    "    <td>Addition</td>\n",
    "    <td><code>3 + 2 = 5</code></td>\n",
    "  </tr>\n",
    "  <tr style = \"border: 1px solid #ccc;\">\n",
    "    <td>-</td>\n",
    "    <td>Subtraction</td>\n",
    "    <td><code>5 - 2 = 3</code></td>\n",
    "  </tr>\n",
    "  <tr style = \"border: 1px solid #ccc;\">\n",
    "    <td>*</td>\n",
    "    <td>Multiplication</td>\n",
    "    <td><code>3 * 2 = 6</code></td>\n",
    "  </tr>\n",
    "  <tr style = \"border: 1px solid #ccc;\">\n",
    "    <td>/</td>\n",
    "    <td>Division</td>\n",
    "    <td><code>6 / 2 = 3.0</code></td>\n",
    "  </tr>\n",
    "   <tr style = \"border: 1px solid #ccc;\">\n",
    "    <td>%</td>\n",
    "    <td>Modulus</td>\n",
    "    <td><code>5 % 2 = 1</code></td>\n",
    "  </tr>\n",
    "   <tr style = \"border: 1px solid #ccc;\">\n",
    "    <td>**</td>\n",
    "    <td>Exponentiation</td>\n",
    "    <td><code>3 ** 2 = 9</code></td>\n",
    "  </tr>\n",
    "  <tr style = \"border: 1px solid #ccc;\">\n",
    "    <td>//</td>\n",
    "    <td>Floor Division</td>\n",
    "    <td><code>7 // 2 = 3</code></td>\n",
    "  </tr>\n",
    "  <tr style = \"border: 1px solid #ccc;\">\n",
    "    <td rowspan=\"6\" style=\"text-align:center;\">Comparison</td>\n",
    "    <td>==</td>\n",
    "    <td>Equality</td>\n",
    "    <td><code>3 == 2  //False</code></td>\n",
    "  </tr>\n",
    "  <tr style = \"border: 1px solid #ccc;\">\n",
    "    <td>!=</td>\n",
    "    <td>Inequality</td>\n",
    "    <td><code>3 != 2  //True</code></td>\n",
    "  </tr>\n",
    "  <tr style = \"border: 1px solid #ccc;\">\n",
    "    <td>&gt;</td>\n",
    "    <td>Greater than</td>\n",
    "    <td><code>5 &gt; 3  //True</code></td>\n",
    "  </tr>\n",
    "  <tr style = \"border: 1px solid #ccc;\">\n",
    "    <td>&lt;</td>\n",
    "    <td>Less than</td>\n",
    "    <td><code>3 &lt; 5  //True</code></td>\n",
    "  </tr>\n",
    "  <tr style = \"border: 1px solid #ccc;\">\n",
    "    <td>&gt;=</td>\n",
    "    <td>Greater than or equal to</td>\n",
    "    <td><code>5 &gt;= 3  //True</code></td>\n",
    "  </tr>\n",
    "  <tr style = \"border: 1px solid #ccc;\">\n",
    "    <td>&lt;=</td>\n",
    "    <td>Less than or equal to</td>\n",
    "    <td><code>3 &lt;= 5  //True</code></td>\n",
    "  </tr>\n",
    "    <tr style = \"border: 1px solid #ccc;\">\n",
    "    <td rowspan=\"3\" style=\"text-align:center;\">Logical</td>\n",
    "    <td>and</td>\n",
    "    <td>Logical AND</td>\n",
    "    <td><code>(5 &gt; 3) and (3 &gt; 2)  //True</code></td>\n",
    "  </tr>\n",
    "    <tr style = \"border: 1px solid #ccc;\">\n",
    "    <td>or</td>\n",
    "    <td>Logical OR</td>\n",
    "    <td><code>(5 &gt; 3) or (3 &gt; 5)  //True</code></td>\n",
    "  </tr>\n",
    "    <tr style = \"border: 1px solid #ccc;\">\n",
    "    <td>not</td>\n",
    "    <td>Logical NOT</td>\n",
    "    <td><code>not (3 &gt; 5)  //True</code></td>\n",
    "  </tr>\n",
    "    <tr style = \"border: 1px solid #ccc;\">\n",
    "    <td rowspan=\"8\" style=\"text-align:center;\">Assignment</td>\n",
    "    <td>=</td>\n",
    "    <td>Assignment</td>\n",
    "    <td><code>x = 5</code></td>\n",
    "  </tr>\n",
    "    <tr style = \"border: 1px solid #ccc;\">\n",
    "    <td>+=</td>\n",
    "    <td>Add and assign</td>\n",
    "    <td><code>x += 3</code></td>\n",
    "  </tr>\n",
    "    <tr style = \"border: 1px solid #ccc;\">\n",
    "    <td>-=</td>\n",
    "    <td>Subtract and assign</td>\n",
    "    <td><code>x -= 2</code></td>\n",
    "  </tr>\n",
    "    <tr style = \"border: 1px solid #ccc;\">\n",
    "    <td>*=</td>\n",
    "    <td>Multiply and assign</td>\n",
    "    <td><code>x *= 3</code></td>\n",
    "  </tr>\n",
    "    <tr style = \"border: 1px solid #ccc;\">\n",
    "    <td>/=</td>\n",
    "    <td>Divide and assign</td>\n",
    "    <td><code>x /= 2</code></td>\n",
    "  </tr>\n",
    "    <tr style = \"border: 1px solid #ccc;\">\n",
    "    <td>%=</td>\n",
    "    <td>Modulus and assign</td>\n",
    "    <td><code>x %= 2</code></td>\n",
    "  </tr>\n",
    "    <tr style = \"border: 1px solid #ccc;\">\n",
    "    <td>**=</td>\n",
    "    <td>Exponentiation and assign</td>\n",
    "    <td><code>x **= 2</code></td>\n",
    "  </tr>\n",
    "    <tr style = \"border: 1px solid #ccc;\">\n",
    "    <td>//=</td>\n",
    "    <td>Floor division and assign</td>\n",
    "    <td><code>x //= 2</code></td>\n",
    "  </tr>\n",
    "    <tr style = \"border: 1px solid #ccc;\">\n",
    "    <td rowspan=\"2\" style=\"text-align:center;\">Membership</td>\n",
    "    <td>in</td>\n",
    "    <td>Membership (in)</td>\n",
    "    <td><code>'a' in 'apple'  //True</code></td>\n",
    "  </tr>\n",
    "    <tr style = \"border: 1px solid #ccc;\">\n",
    "    <td>not in</td>\n",
    "    <td>Membership (not in)</td>\n",
    "    <td><code>'b' not in 'apple'  //True</code></td>\n",
    "  </tr>\n",
    "</table>\n"
   ]
  },
  {
   "cell_type": "markdown",
   "metadata": {},
   "source": [
    "###### Ex. WAP to accept hours and rate per hour from user and compute gross pay."
   ]
  },
  {
   "cell_type": "code",
   "execution_count": 11,
   "metadata": {},
   "outputs": [
    {
     "name": "stdin",
     "output_type": "stream",
     "text": [
      "Enter number of hours -  40\n",
      "Enter rate per Hour -  1000\n"
     ]
    },
    {
     "name": "stdout",
     "output_type": "stream",
     "text": [
      "40000.0\n"
     ]
    }
   ],
   "source": [
    "hrs = int(input(\"Enter number of hours - \"))\n",
    "rate = float(input(\"Enter rate per Hour - \"))\n",
    "gross_pay = hrs * rate\n",
    "print(gross_pay)"
   ]
  },
  {
   "cell_type": "markdown",
   "metadata": {},
   "source": [
    "<hr><hr>"
   ]
  },
  {
   "cell_type": "markdown",
   "metadata": {},
   "source": [
    "## Decision Making"
   ]
  },
  {
   "cell_type": "markdown",
   "metadata": {},
   "source": [
    "Decision-making statements in Python allow you to control the flow of execution based on certain conditions. These statements include if, elif, and else and can be used to execute different blocks of code depending on whether conditions are True or False.\n",
    "\n",
    "- #### Basic if Statement\n",
    "    - The if statement evaluates a condition and executes a block of code if the condition is True.\n",
    "    - Syntax:<br>\n",
    "      `if condition:`<br>\n",
    "          &emsp;&emsp;`# block of code`\n",
    "\n",
    "- #### if-else Statement\n",
    "    - The if-else statement evaluates a condition and executes one block of code if the condition is True, and another block if the condition is False.\n",
    "    - Syntax:<br>\n",
    "    `if condition:`<br>\n",
    "    &emsp;&emsp;`# block of code if condition is True`<br>\n",
    "       `else:`<br>\n",
    "    &emsp;&emsp;`# block of code if condition is False`\n",
    "- #### if-elif-else Statement\n",
    "    - The if-elif-else statement allows you to check multiple expressions for True and execute a block of code as soon as one of the conditions evaluates to True.\n",
    "    - If none of the conditions are True, the else block is executed.\n",
    "    - Syntax:<br>\n",
    "    `if condition1:`<br>\n",
    "    &emsp;&emsp;`# block of code if condition1 is True`<br>\n",
    "    `elif condition2:`<br>\n",
    "        &emsp;&emsp;`# block of code if condition2 is True`<br>\n",
    "    `elif condition3:`<br>\n",
    "        &emsp;&emsp;`# block of code if condition3 is True`<br>\n",
    "    `else:`<br>\n",
    "    &emsp;&emsp;`# block of code if none of the conditions are True`\n",
    "\n",
    "- #### Nested if Statements\n",
    "    - You can nest if statements within other if statements to check multiple conditions in a hierarchical manner.\n",
    "    - Syntax:<br>\n",
    "    `if condition1:`<br>\n",
    "    &emsp;&emsp;`# block of code if condition1 is True`<br>\n",
    "    &emsp;&emsp;`if condition2:`<br>\n",
    "        &emsp;&emsp;&emsp;&emsp;`# block of code if condition2 is True`<br>\n",
    "    &emsp;&emsp;`else condition3:`<br>\n",
    "        &emsp;&emsp;&emsp;&emsp;`# block of code if condition2 is False`<br>\n",
    "    `else:`<br>\n",
    "    &emsp;&emsp;`# block of code if condition1 is False`\n",
    "\n",
    "- #### One-Line if-else\n",
    "\n",
    "    - Syntax: <br>\n",
    "  `value_if_true if condition else value_if_false`\n"
   ]
  },
  {
   "cell_type": "markdown",
   "metadata": {},
   "source": [
    "#### Examples -"
   ]
  },
  {
   "cell_type": "markdown",
   "metadata": {},
   "source": [
    "###### Ex. Write a program to accept the number of hours worked and the rate per hour from the user, then compute the gross pay.\n",
    "\n",
    "- For up to 40 hours, pay the standard rate.\n",
    "- For any overtime (hours worked beyond 40), pay 1.5 times the standard rate for the additional hours.\n"
   ]
  },
  {
   "cell_type": "code",
   "execution_count": 12,
   "metadata": {},
   "outputs": [
    {
     "name": "stdin",
     "output_type": "stream",
     "text": [
      "Enter number of hours -  45\n",
      "Enter rate per Hour -  1000\n"
     ]
    },
    {
     "name": "stdout",
     "output_type": "stream",
     "text": [
      "47500.0\n"
     ]
    }
   ],
   "source": [
    "hrs = int(input(\"Enter number of hours - \"))\n",
    "rate = float(input(\"Enter rate per Hour - \"))\n",
    "if hrs <= 40 :\n",
    "    gross_pay = hrs * rate\n",
    "else:\n",
    "    gross_pay = (40 * rate) + ((hrs - 40) * 1.5 * rate)\n",
    "print(gross_pay)"
   ]
  },
  {
   "cell_type": "code",
   "execution_count": null,
   "metadata": {},
   "outputs": [],
   "source": [
    "40 - 1000 = 40000\n",
    "45 - 1000 = 47500"
   ]
  },
  {
   "cell_type": "markdown",
   "metadata": {},
   "source": [
    "###### Ex. Write a program to check if the customer is eligible for a loan based on the following conditions:\n",
    "\n",
    "- Income is greater than or equal to 50,000\n",
    "- Credit score is greater than or equal to 700\n",
    "- Loan amount is less than or equal to 10 times the income"
   ]
  },
  {
   "cell_type": "code",
   "execution_count": 23,
   "metadata": {},
   "outputs": [
    {
     "name": "stdin",
     "output_type": "stream",
     "text": [
      "Enter your income -  75000\n",
      "Enter your credit score -  800\n",
      "Enter your loan amount -  5000000\n"
     ]
    },
    {
     "name": "stdout",
     "output_type": "stream",
     "text": [
      "Not Eligible for loan\n"
     ]
    }
   ],
   "source": [
    "income = int(input(\"Enter your income - \"))\n",
    "credit_score = int(input(\"Enter your credit score - \"))\n",
    "loan_amt = int(input(\"Enter your loan amount - \"))\n",
    "if (income >= 50000) and (credit_score >= 700) and (loan_amt <= (income * 10)) :\n",
    "    print(\"Eligible for loan\")\n",
    "else:\n",
    "    print(\"Not Eligible for loan\")"
   ]
  },
  {
   "cell_type": "markdown",
   "metadata": {},
   "source": [
    "###### Ex. Write a program to categorise the product entered by user based on the mentioned categories"
   ]
  },
  {
   "cell_type": "code",
   "execution_count": 21,
   "metadata": {},
   "outputs": [
    {
     "name": "stdin",
     "output_type": "stream",
     "text": [
      "Enter a product -  Eggs\n"
     ]
    },
    {
     "name": "stdout",
     "output_type": "stream",
     "text": [
      "Product eggs belongs to groceries category\n"
     ]
    }
   ],
   "source": [
    "electronics = [\"laptop\", \"smartphone\", \"headphones\"]  # lists\n",
    "clothing = [\"t-shirt\", \"jeans\", \"jacket\"]\n",
    "groceries = [\"milk\", \"bread\", \"eggs\"]\n",
    "\n",
    "product = input(\"Enter a product - \").lower()\n",
    "if product in electronics :\n",
    "    print(f\"Product {product} belongs to electronics category\")\n",
    "elif product in clothing :\n",
    "    print(f\"Product {product} belongs to clothing category\")\n",
    "elif product in groceries :\n",
    "    print(f\"Product {product} belongs to groceries category\")\n",
    "else:\n",
    "    print(f\"Product {product} is not present in the inventory\")"
   ]
  },
  {
   "cell_type": "markdown",
   "metadata": {},
   "source": [
    "##### Note - Every object in python has its own set of functionalites called as methods"
   ]
  },
  {
   "cell_type": "markdown",
   "metadata": {},
   "source": [
    "- variables, input(), print(), type conversion\n",
    "- Operators\n",
    "- if-else\n",
    "- formatted string using `f\"\"`\n",
    "- string methods\n",
    "##### - python is case sensitive\n",
    "##### - python is dynbamically types hence it needs validations"
   ]
  },
  {
   "cell_type": "markdown",
   "metadata": {},
   "source": [
    "<hr><hr>"
   ]
  },
  {
   "cell_type": "markdown",
   "metadata": {},
   "source": [
    "### Loops\n",
    "\n",
    "<table style=\"width: 90%; border-collapse: collapse; border: 1px solid #ccc; text-align: left; margin-left: 0;\">\n",
    "  <thead>\n",
    "    <tr style=\"background-color: #050A30; color: white; text-align: left;\">\n",
    "      <th style = \"width: 10%\">Loop Type</th>\n",
    "      <th style = \"width: 40%\">Description</th>\n",
    "      <th style = \"width: 20%\">Syntax</th>\n",
    "      <th style = \"width: 30%\">Example</th>\n",
    "    </tr>\n",
    "  </thead>\n",
    "  <tbody>\n",
    "    <tr>\n",
    "      <td style=\"border: 1px solid #ccc;\">for loop</td>\n",
    "      <td style=\"border: 1px solid #ccc;\">Iterates over a sequence (e.g., list, tuple, string) and executes a block of code for each element.</td>\n",
    "      <td style=\"border: 1px solid #ccc; text-align: left;\">\n",
    "        for element in sequence:<br>\n",
    "        &emsp;# Code block<br>\n",
    "      </td>\n",
    "      <td style=\"border: 1px solid #ccc; text-align: left;\">\n",
    "        numbers = [1, 2, 3, 4, 5]<br>\n",
    "        for num in numbers:<br>\n",
    "        &emsp;print(num)<br>\n",
    "        # Output: 1 2 3 4 5<br>\n",
    "      </td>\n",
    "    </tr>\n",
    "    <tr>\n",
    "      <td style=\"border: 1px solid #ccc;\">while loop</td>\n",
    "      <td style=\"border: 1px solid #ccc;\">Repeats a block of code as long as a specified condition is `True`.</td>\n",
    "      <td style=\"border: 1px solid #ccc; text-align: left;\">\n",
    "        while condition:<br>\n",
    "        &emsp;# Code block<br>\n",
    "      </td>\n",
    "      <td style=\"border: 1px solid #ccc; text-align: left;\">\n",
    "        \n",
    "      </td>\n",
    "    </tr>\n",
    "  </tbody>\n",
    "</table>\n",
    "\n"
   ]
  },
  {
   "cell_type": "markdown",
   "metadata": {},
   "source": [
    "###### Ex. WAP to validate input for int value"
   ]
  },
  {
   "cell_type": "code",
   "execution_count": 24,
   "metadata": {},
   "outputs": [
    {
     "name": "stdin",
     "output_type": "stream",
     "text": [
      "Enter a number -  10\\\n",
      "Not a digit. Enter number again -  10\n"
     ]
    },
    {
     "name": "stdout",
     "output_type": "stream",
     "text": [
      "1000\n"
     ]
    }
   ],
   "source": [
    "var = input(\"Enter a number - \")\n",
    "while not var.isdigit() :   # str method\n",
    "    var = input(\"Not a digit. Enter number again - \")    \n",
    "var = int(var)\n",
    "print(var * 100)"
   ]
  },
  {
   "cell_type": "code",
   "execution_count": 26,
   "metadata": {},
   "outputs": [
    {
     "name": "stdin",
     "output_type": "stream",
     "text": [
      "Enter number -  abc\n"
     ]
    },
    {
     "name": "stdout",
     "output_type": "stream",
     "text": [
      "Not a digit!\n"
     ]
    },
    {
     "name": "stdin",
     "output_type": "stream",
     "text": [
      "Enter number -  5\n"
     ]
    },
    {
     "name": "stdout",
     "output_type": "stream",
     "text": [
      "500\n"
     ]
    }
   ],
   "source": [
    "while True :  # infinite loop\n",
    "    var = input(\"Enter number - \")    \n",
    "    \n",
    "    if var.isdigit() : \n",
    "        var = int(var)\n",
    "        break \n",
    "        \n",
    "    print(\"Not a digit!\")\n",
    "    \n",
    "print(var * 100)"
   ]
  },
  {
   "cell_type": "markdown",
   "metadata": {},
   "source": [
    "#### Sequence \n",
    "- Collection of elements\n",
    "- str sequence - characters\n",
    "- container sequence - objects\n",
    "- range() - numbers (int)"
   ]
  },
  {
   "cell_type": "markdown",
   "metadata": {},
   "source": [
    "###### Ex. WAP to print numbers from 1-10 with their squares"
   ]
  },
  {
   "cell_type": "code",
   "execution_count": null,
   "metadata": {},
   "outputs": [],
   "source": [
    "for i in range(1, 11) : # range() is seq \n",
    "    print(i, \" - \", i **2)"
   ]
  },
  {
   "cell_type": "code",
   "execution_count": null,
   "metadata": {},
   "outputs": [],
   "source": [
    "for ch in \"abcde\" : # str - seq of characters\n",
    "    print(ch)"
   ]
  },
  {
   "cell_type": "code",
   "execution_count": null,
   "metadata": {},
   "outputs": [],
   "source": [
    "lst = [10, 20, 30, 40] # lst - seq of objects\n",
    "for i in lst :\n",
    "    print(i)"
   ]
  },
  {
   "cell_type": "code",
   "execution_count": null,
   "metadata": {},
   "outputs": [],
   "source": [
    "groceries = [\"milk\", \"bread\", \"eggs\", \"brownie\", \"butter\"]\n",
    "product = input(\"Enter product - \")\n",
    "\n",
    "for item in groceries :\n",
    "    if item.startswith(product) :  # product input at the start of the string\n",
    "        print(item)"
   ]
  },
  {
   "cell_type": "code",
   "execution_count": null,
   "metadata": {},
   "outputs": [],
   "source": [
    "groceries = [\"milk\", \"bread\", \"eggs\", \"brownie\", \"butter\"]\n",
    "product = input(\"Enter product - \")\n",
    "\n",
    "for item in groceries :\n",
    "    if product in item :  # contains a substring - in operator in strings\n",
    "        print(item)"
   ]
  },
  {
   "cell_type": "code",
   "execution_count": null,
   "metadata": {},
   "outputs": [],
   "source": [
    "if product in groceries  : # in operator on a string in a list \"==\" comparision\n",
    "    print(product, \"is present in the list\")\n",
    "else:\n",
    "    print(product, \"is not present in the list\")"
   ]
  },
  {
   "cell_type": "code",
   "execution_count": 58,
   "metadata": {},
   "outputs": [
    {
     "name": "stdin",
     "output_type": "stream",
     "text": [
      "Enter product -  z\n"
     ]
    },
    {
     "name": "stdout",
     "output_type": "stream",
     "text": [
      "Unable to find matching product\n"
     ]
    }
   ],
   "source": [
    "groceries = [\"milk\", \"bread\", \"eggs\", \"brownie\", \"butter\", \"vegitable\"]\n",
    "product = input(\"Enter product - \")\n",
    "flag = True\n",
    "for item in groceries :\n",
    "    if product in item : \n",
    "        print(item)  \n",
    "        flag = False\n",
    "if flag :\n",
    "    print(\"Unable to find matching product\")"
   ]
  },
  {
   "cell_type": "markdown",
   "metadata": {},
   "source": [
    "#### for-else loop"
   ]
  },
  {
   "cell_type": "markdown",
   "metadata": {},
   "source": [
    "- if for-loop is executed till the end of the list/sequence else is executed\n",
    "- if for-loop is terminated by a break statement then else is not executed"
   ]
  },
  {
   "cell_type": "code",
   "execution_count": 57,
   "metadata": {},
   "outputs": [
    {
     "name": "stdout",
     "output_type": "stream",
     "text": [
      "Not prime\n"
     ]
    }
   ],
   "source": [
    "# prime numbers - \n",
    "num = 170\n",
    "for i in range(2, num) :\n",
    "    if num % i == 0 :\n",
    "        print(\"Not prime\")\n",
    "        break\n",
    "else:\n",
    "    print(\"Prime\")"
   ]
  },
  {
   "cell_type": "markdown",
   "metadata": {},
   "source": [
    "Use case - extract the first matching value from the sequence and break then use for-else"
   ]
  },
  {
   "cell_type": "code",
   "execution_count": 61,
   "metadata": {},
   "outputs": [
    {
     "name": "stdout",
     "output_type": "stream",
     "text": [
      "40k\n",
      "55k\n",
      "33k\n",
      "26k\n",
      "6k\n"
     ]
    }
   ],
   "source": [
    "sales = [40000, 55000, 33000, 26600, 6000]\n",
    "for value in sales :\n",
    "    print(f\"{value//1000}k\")"
   ]
  },
  {
   "cell_type": "code",
   "execution_count": 64,
   "metadata": {},
   "outputs": [
    {
     "name": "stdout",
     "output_type": "stream",
     "text": [
      "40k\n",
      "55k\n",
      "33k\n",
      "27k\n",
      "6k\n"
     ]
    }
   ],
   "source": [
    "sales = [40000, 55000, 33000, 26600, 6000]\n",
    "for i in sales :\n",
    "    print(f\"{round(i/1000)}k\")"
   ]
  },
  {
   "cell_type": "markdown",
   "metadata": {},
   "source": [
    "###### Ex. WAP to print sum of numbers from 1-10"
   ]
  },
  {
   "cell_type": "code",
   "execution_count": 66,
   "metadata": {},
   "outputs": [
    {
     "data": {
      "text/plain": [
       "55"
      ]
     },
     "execution_count": 66,
     "metadata": {},
     "output_type": "execute_result"
    }
   ],
   "source": [
    "sum(range(1, 11)) # sum() returns summation of all numbers in numeric sequence"
   ]
  },
  {
   "cell_type": "markdown",
   "metadata": {},
   "source": [
    "###### Ex. WAP to print product of numbers from 1-10"
   ]
  },
  {
   "cell_type": "code",
   "execution_count": 67,
   "metadata": {},
   "outputs": [
    {
     "data": {
      "text/plain": [
       "3628800"
      ]
     },
     "execution_count": 67,
     "metadata": {},
     "output_type": "execute_result"
    }
   ],
   "source": [
    "import math as m\n",
    "m.prod(range(1, 11)) # returns multiplication of all numbers in numeric sequence"
   ]
  },
  {
   "cell_type": "markdown",
   "metadata": {},
   "source": [
    "<hr><hr>"
   ]
  },
  {
   "cell_type": "markdown",
   "metadata": {},
   "source": [
    "### Sequence objects \n",
    "- collection of elements - str, range()\n",
    "- Container sequences/Objects  - list, tuple, dict, set\n",
    " \n",
    "#### `Operations on Generic Sequences`\n",
    "    - Membership - in | not in\n",
    "    - Iteration - for-loop\n",
    "\n",
    "#### `Operations on Ordered/Indexed Sequences`\n",
    "    - Indexing - obj[index_pos]\n",
    "    - Slicing - obj[start : stop]\n",
    "    - Concatenation - `+` operator\n",
    "    - Repeatition - `*` operator\n",
    "\n",
    "#### `Functions on Generic Sequences`\n",
    "     - len() - gives the number of elements in the sequence\n",
    "     - max() - gives the largest element in the sequence\n",
    "     - min() - gives the smallest element in the sequence\n",
    "     - sum() - applicable to numeric sequences, returns the sum of all elements in the sequence\n",
    "     - math.prod() - applicable to numeric sequences, returns the product of all elements in the sequence\n",
    "     - sorted() - sorts the elements in the sequence in ASC order and returns a list object\n",
    "     \n",
    "\n",
    "### Python Sequences and Containers\n",
    "   \n",
    "<table style=\"width: 100%; border-collapse: collapse; border: 1px solid #ccc; text-align: center;\">\n",
    "  <thead>\n",
    "    <tr style=\"background-color: #050A30; color: white;\">\n",
    "      <th style=\"border: 1px solid #ccc; padding: 8px;\">Object</th>\n",
    "      <th style=\"border: 1px solid #ccc; padding: 8px;\">Container Object</th>\n",
    "      <th style=\"border: 1px solid #ccc; padding: 8px;\">Sequence Type</th>\n",
    "      <th style=\"border: 1px solid #ccc; padding: 8px;\">Element Type</th>\n",
    "      <th style=\"border: 1px solid #ccc; padding: 8px;\">Enclosed in</th>\n",
    "      <th style=\"border: 1px solid #ccc; padding: 8px;\">Immutability</th>\n",
    "      <th style=\"border: 1px solid #ccc; padding: 8px;\">Duplicates</th>\n",
    "    </tr>\n",
    "  </thead>\n",
    "  <tbody>\n",
    "    <tr>\n",
    "      <td style=\"border: 1px solid #ccc; padding: 8px;\">str()</td>\n",
    "      <td style=\"border: 1px solid #ccc; padding: 8px;\">No</td>\n",
    "      <td style=\"border: 1px solid #ccc; padding: 8px;\">ordered/indexed</td>\n",
    "      <td style=\"border: 1px solid #ccc; padding: 8px;\">characters</td>\n",
    "      <td style=\"border: 1px solid #ccc; padding: 8px;\">\"\" or ''</td>\n",
    "      <td style=\"border: 1px solid #ccc; padding: 8px;\">Yes</td>\n",
    "      <td style=\"border: 1px solid #ccc; padding: 8px;\">Yes</td>\n",
    "    </tr>\n",
    "    <tr>\n",
    "      <td style=\"border: 1px solid #ccc; padding: 8px;\">tuple()</td>\n",
    "      <td style=\"border: 1px solid #ccc; padding: 8px;\">Yes</td>\n",
    "      <td style=\"border: 1px solid #ccc; padding: 8px;\">ordered/indexed</td>\n",
    "      <td style=\"border: 1px solid #ccc; padding: 8px;\">mixed data (heterogeneous)</td>\n",
    "      <td style=\"border: 1px solid #ccc; padding: 8px;\">()</td>\n",
    "      <td style=\"border: 1px solid #ccc; padding: 8px;\">Yes</td>\n",
    "      <td style=\"border: 1px solid #ccc; padding: 8px;\">Yes</td>\n",
    "    </tr>\n",
    "    <tr>\n",
    "      <td style=\"border: 1px solid #ccc; padding: 8px;\">list()</td>\n",
    "      <td style=\"border: 1px solid #ccc; padding: 8px;\">Yes</td>\n",
    "      <td style=\"border: 1px solid #ccc; padding: 8px;\">ordered/indexed</td>\n",
    "      <td style=\"border: 1px solid #ccc; padding: 8px;\">mixed data (heterogeneous)</td>\n",
    "      <td style=\"border: 1px solid #ccc; padding: 8px;\">[]</td>\n",
    "      <td style=\"border: 1px solid #ccc; padding: 8px;\">No</td>\n",
    "      <td style=\"border: 1px solid #ccc; padding: 8px;\">Yes</td>\n",
    "    </tr>\n",
    "    <tr>\n",
    "      <td style=\"border: 1px solid #ccc; padding: 8px;\">set()</td>\n",
    "      <td style=\"border: 1px solid #ccc; padding: 8px;\">Yes</td>\n",
    "      <td style=\"border: 1px solid #ccc; padding: 8px;\">unordered</td>\n",
    "      <td style=\"border: 1px solid #ccc; padding: 8px;\">heterogeneous (immutable objects)</td>\n",
    "      <td style=\"border: 1px solid #ccc; padding: 8px;\">{}</td>\n",
    "      <td style=\"border: 1px solid #ccc; padding: 8px;\">No</td>\n",
    "      <td style=\"border: 1px solid #ccc; padding: 8px;\">No</td>\n",
    "    </tr>\n",
    "    <tr>\n",
    "      <td style=\"border: 1px solid #ccc; padding: 8px;\">dict()</td>\n",
    "      <td style=\"border: 1px solid #ccc; padding: 8px;\">Yes</td>\n",
    "      <td style=\"border: 1px solid #ccc; padding: 8px;\">unordered</td>\n",
    "      <td style=\"border: 1px solid #ccc; padding: 8px;\">Key - immutable<br>Value - any type</td>\n",
    "      <td style=\"border: 1px solid #ccc; padding: 8px;\">{}</td>\n",
    "      <td style=\"border: 1px solid #ccc; padding: 8px;\">No</td>\n",
    "      <td style=\"border: 1px solid #ccc; padding: 8px;\">Key - No<br>Value - Yes</td>\n",
    "    </tr>\n"
   ]
  },
  {
   "cell_type": "code",
   "execution_count": 76,
   "metadata": {},
   "outputs": [
    {
     "data": {
      "text/plain": [
       "'Mumbai'"
      ]
     },
     "execution_count": 76,
     "metadata": {},
     "output_type": "execute_result"
    }
   ],
   "source": [
    "string = \"Mumbai\"\n",
    "string"
   ]
  },
  {
   "cell_type": "code",
   "execution_count": 79,
   "metadata": {},
   "outputs": [
    {
     "data": {
      "text/plain": [
       "[1, 2, 3, 4, 5, 'a', 'b']"
      ]
     },
     "execution_count": 79,
     "metadata": {},
     "output_type": "execute_result"
    }
   ],
   "source": [
    "[1, 2, 3, 4, 5, \"a\", \"b\"] # mutable - can be edited"
   ]
  },
  {
   "cell_type": "code",
   "execution_count": 80,
   "metadata": {},
   "outputs": [
    {
     "data": {
      "text/plain": [
       "(1, 2, 3, 4)"
      ]
     },
     "execution_count": 80,
     "metadata": {},
     "output_type": "execute_result"
    }
   ],
   "source": [
    "(1, 2, 3, 4) # immutable - cannot be edited"
   ]
  },
  {
   "cell_type": "code",
   "execution_count": 83,
   "metadata": {},
   "outputs": [
    {
     "data": {
      "text/plain": [
       "{10, 20, 30, 40, 50}"
      ]
     },
     "execution_count": 83,
     "metadata": {},
     "output_type": "execute_result"
    }
   ],
   "source": [
    "{10, 20, 30, 40, 50, 20} # no duplicates, no specific order"
   ]
  },
  {
   "cell_type": "code",
   "execution_count": 84,
   "metadata": {},
   "outputs": [
    {
     "data": {
      "text/plain": [
       "{'India': 'INR', 'Japan': 'Yen'}"
      ]
     },
     "execution_count": 84,
     "metadata": {},
     "output_type": "execute_result"
    }
   ],
   "source": [
    "{\"India\" : \"INR\", \"Japan\" : \"Yen\"}"
   ]
  },
  {
   "cell_type": "markdown",
   "metadata": {},
   "source": [
    "### Indexing and Slicing\n",
    "- Each character in a string has a unique index, starting from 0 for the first character up to n-1 for the last character, where n is the length of the string.\n",
    "\n",
    "- **Positive Indexing** - Positive indexing starts from 0 and goes up to n-1.\n",
    "    - Index 0 corresponds to the first character.\n",
    "    - Index 1 corresponds to the second character, and so on.\n",
    "      \n",
    "- **Negative Indexing** - Negative indexing starts from -1 for the last character and goes up to -n for the first character.\n",
    "    - Index -1 corresponds to the last character.\n",
    "    - Index -2 corresponds to the second last character, and so on.\n",
    "      \n",
    "- **Accessing Substrings** - You can also use slicing to access substrings. The syntax for slicing is `string[start:stop:step]` , where:\n",
    "    - start is the starting index (inclusive).\n",
    "    - stop is the ending index (exclusive).\n",
    "    - step is the step size (optional)."
   ]
  },
  {
   "cell_type": "code",
   "execution_count": 87,
   "metadata": {},
   "outputs": [],
   "source": [
    "phones = [\"Galaxy S23\", \"Galaxy S24\", \"Galaxy S25\", \"Galaxy fold 3\",\"Galaxy fold 4\", \"Galaxy fold 5\"]"
   ]
  },
  {
   "cell_type": "markdown",
   "metadata": {},
   "source": [
    "###### Extract first element from the list"
   ]
  },
  {
   "cell_type": "code",
   "execution_count": 88,
   "metadata": {},
   "outputs": [
    {
     "data": {
      "text/plain": [
       "'Galaxy S23'"
      ]
     },
     "execution_count": 88,
     "metadata": {},
     "output_type": "execute_result"
    }
   ],
   "source": [
    "phones[0]"
   ]
  },
  {
   "cell_type": "markdown",
   "metadata": {},
   "source": [
    "###### Extract 5th element from the list"
   ]
  },
  {
   "cell_type": "code",
   "execution_count": 90,
   "metadata": {},
   "outputs": [
    {
     "data": {
      "text/plain": [
       "'Galaxy fold 4'"
      ]
     },
     "execution_count": 90,
     "metadata": {},
     "output_type": "execute_result"
    }
   ],
   "source": [
    "phones[4]"
   ]
  },
  {
   "cell_type": "markdown",
   "metadata": {},
   "source": [
    "###### Ex. Extract last element from the list"
   ]
  },
  {
   "cell_type": "code",
   "execution_count": 91,
   "metadata": {},
   "outputs": [
    {
     "data": {
      "text/plain": [
       "'Galaxy fold 5'"
      ]
     },
     "execution_count": 91,
     "metadata": {},
     "output_type": "execute_result"
    }
   ],
   "source": [
    "phones[-1]"
   ]
  },
  {
   "cell_type": "markdown",
   "metadata": {},
   "source": [
    "###### Ex. Extract first 3 elements from list"
   ]
  },
  {
   "cell_type": "code",
   "execution_count": 92,
   "metadata": {},
   "outputs": [
    {
     "data": {
      "text/plain": [
       "['Galaxy S23', 'Galaxy S24', 'Galaxy S25']"
      ]
     },
     "execution_count": 92,
     "metadata": {},
     "output_type": "execute_result"
    }
   ],
   "source": [
    "phones[0 : 3]"
   ]
  },
  {
   "cell_type": "markdown",
   "metadata": {},
   "source": [
    "###### Ex. Extract all elements from index position 3"
   ]
  },
  {
   "cell_type": "code",
   "execution_count": 93,
   "metadata": {},
   "outputs": [
    {
     "data": {
      "text/plain": [
       "['Galaxy fold 3', 'Galaxy fold 4', 'Galaxy fold 5']"
      ]
     },
     "execution_count": 93,
     "metadata": {},
     "output_type": "execute_result"
    }
   ],
   "source": [
    "phones[3 : ]"
   ]
  },
  {
   "cell_type": "markdown",
   "metadata": {},
   "source": [
    "###### Ex. Extract last 4 characters from the string"
   ]
  },
  {
   "cell_type": "code",
   "execution_count": 95,
   "metadata": {},
   "outputs": [
    {
     "data": {
      "text/plain": [
       "['Galaxy S25', 'Galaxy fold 3', 'Galaxy fold 4', 'Galaxy fold 5']"
      ]
     },
     "execution_count": 95,
     "metadata": {},
     "output_type": "execute_result"
    }
   ],
   "source": [
    "phones[ -4 : ]"
   ]
  },
  {
   "cell_type": "markdown",
   "metadata": {},
   "source": [
    "##### Note - Applicable to str, list and tuples"
   ]
  },
  {
   "cell_type": "code",
   "execution_count": 96,
   "metadata": {},
   "outputs": [
    {
     "data": {
      "text/plain": [
       "{'India': 'INR', 'USA': 'USD', 'Japan': 'Yen', 'Singapore': 'SGD'}"
      ]
     },
     "execution_count": 96,
     "metadata": {},
     "output_type": "execute_result"
    }
   ],
   "source": [
    "countries = {\"India\" : \"INR\", \"USA\" : \"USD\", \"Japan\" : \"Yen\", \"Singapore\" : \"SGD\"} # dict object\n",
    "countries"
   ]
  },
  {
   "cell_type": "markdown",
   "metadata": {},
   "source": [
    "###### Ex. Extract currency for country Japan"
   ]
  },
  {
   "cell_type": "code",
   "execution_count": 99,
   "metadata": {},
   "outputs": [
    {
     "data": {
      "text/plain": [
       "'Yen'"
      ]
     },
     "execution_count": 99,
     "metadata": {},
     "output_type": "execute_result"
    }
   ],
   "source": [
    "countries[\"Japan\"]"
   ]
  },
  {
   "cell_type": "code",
   "execution_count": 102,
   "metadata": {},
   "outputs": [
    {
     "name": "stdout",
     "output_type": "stream",
     "text": [
      "None\n"
     ]
    }
   ],
   "source": [
    "print(countries.get(\"China\")) # return none if key is not present"
   ]
  },
  {
   "cell_type": "code",
   "execution_count": 103,
   "metadata": {},
   "outputs": [
    {
     "name": "stdout",
     "output_type": "stream",
     "text": [
      "Country not present\n"
     ]
    }
   ],
   "source": [
    "print(countries.get(\"China\", \"Country not present\"))"
   ]
  },
  {
   "cell_type": "code",
   "execution_count": 128,
   "metadata": {},
   "outputs": [
    {
     "data": {
      "text/plain": [
       "['India', 'USA', 'Japan', 'Singapore']"
      ]
     },
     "execution_count": 128,
     "metadata": {},
     "output_type": "execute_result"
    }
   ],
   "source": [
    "keys = list(countries.keys())\n",
    "keys"
   ]
  },
  {
   "cell_type": "code",
   "execution_count": 127,
   "metadata": {},
   "outputs": [
    {
     "data": {
      "text/plain": [
       "['INR', 'USD', 'Yen', 'SGD']"
      ]
     },
     "execution_count": 127,
     "metadata": {},
     "output_type": "execute_result"
    }
   ],
   "source": [
    "values = list(countries.values())\n",
    "values"
   ]
  },
  {
   "cell_type": "code",
   "execution_count": 130,
   "metadata": {},
   "outputs": [
    {
     "data": {
      "text/plain": [
       "'Japan'"
      ]
     },
     "execution_count": 130,
     "metadata": {},
     "output_type": "execute_result"
    }
   ],
   "source": [
    "keys[values.index(\"Yen\")] \n",
    "# Get index position of value\n",
    "# pass the index to the indexing []"
   ]
  },
  {
   "cell_type": "markdown",
   "metadata": {},
   "source": [
    "##### Note - \n",
    "- python is dynamically typed, hence developer has to validate the inputs or variables before performing operations.\n",
    "- To reduce error handling tasks, python has many built-in functions or methods to perform validations on the data"
   ]
  },
  {
   "cell_type": "code",
   "execution_count": 142,
   "metadata": {},
   "outputs": [
    {
     "data": {
      "text/plain": [
       "{10, 20, 30, 40, 50}"
      ]
     },
     "execution_count": 142,
     "metadata": {},
     "output_type": "execute_result"
    }
   ],
   "source": [
    "numbers = {10, 20, 30, 40, 50}\n",
    "numbers"
   ]
  },
  {
   "cell_type": "code",
   "execution_count": 109,
   "metadata": {},
   "outputs": [
    {
     "ename": "KeyError",
     "evalue": "30",
     "output_type": "error",
     "traceback": [
      "\u001b[1;31m---------------------------------------------------------------------------\u001b[0m",
      "\u001b[1;31mKeyError\u001b[0m                                  Traceback (most recent call last)",
      "Cell \u001b[1;32mIn[109], line 1\u001b[0m\n\u001b[1;32m----> 1\u001b[0m \u001b[43mnumbers\u001b[49m\u001b[38;5;241;43m.\u001b[39;49m\u001b[43mremove\u001b[49m\u001b[43m(\u001b[49m\u001b[38;5;241;43m30\u001b[39;49m\u001b[43m)\u001b[49m \u001b[38;5;66;03m# delete the object from the set\u001b[39;00m\n\u001b[0;32m      2\u001b[0m numbers\n",
      "\u001b[1;31mKeyError\u001b[0m: 30"
     ]
    }
   ],
   "source": [
    "numbers.remove(30) # delete the object from the set\n",
    "numbers"
   ]
  },
  {
   "cell_type": "code",
   "execution_count": 122,
   "metadata": {},
   "outputs": [
    {
     "data": {
      "text/plain": [
       "{10, 20, 50}"
      ]
     },
     "execution_count": 122,
     "metadata": {},
     "output_type": "execute_result"
    }
   ],
   "source": [
    "numbers.discard(40) # delete the object from the set\n",
    "numbers"
   ]
  },
  {
   "cell_type": "code",
   "execution_count": 145,
   "metadata": {},
   "outputs": [
    {
     "data": {
      "text/plain": [
       "[50, 20, 40, 10, 30]"
      ]
     },
     "execution_count": 145,
     "metadata": {},
     "output_type": "execute_result"
    }
   ],
   "source": [
    "lst = list(numbers) # set to list\n",
    "lst"
   ]
  },
  {
   "cell_type": "code",
   "execution_count": 133,
   "metadata": {},
   "outputs": [
    {
     "data": {
      "text/plain": [
       "[10, 30, 40, 50]"
      ]
     },
     "execution_count": 133,
     "metadata": {},
     "output_type": "execute_result"
    }
   ],
   "source": [
    "lst = [10, 20, 30, 40, 50]\n",
    "lst.remove(20)\n",
    "lst"
   ]
  },
  {
   "cell_type": "code",
   "execution_count": 132,
   "metadata": {},
   "outputs": [
    {
     "data": {
      "text/plain": [
       "[30, 40, 50]"
      ]
     },
     "execution_count": 132,
     "metadata": {},
     "output_type": "execute_result"
    }
   ],
   "source": [
    "del lst[0]\n",
    "lst"
   ]
  },
  {
   "cell_type": "code",
   "execution_count": 135,
   "metadata": {},
   "outputs": [
    {
     "data": {
      "text/plain": [
       "{'Jack': None, 'Jane': None, 'Jasmine': None}"
      ]
     },
     "execution_count": 135,
     "metadata": {},
     "output_type": "execute_result"
    }
   ],
   "source": [
    "names = [\"Jack\", \"Jane\", \"Jasmine\"]\n",
    "emp = dict.fromkeys(names)\n",
    "emp"
   ]
  },
  {
   "cell_type": "code",
   "execution_count": 141,
   "metadata": {},
   "outputs": [
    {
     "data": {
      "text/plain": [
       "{'Jack': 10, 'Jane': 10, 'Jasmine': 10}"
      ]
     },
     "execution_count": 141,
     "metadata": {},
     "output_type": "execute_result"
    }
   ],
   "source": [
    "names = [\"Jack\", \"Jane\", \"Jasmine\"]\n",
    "emp = dict.fromkeys(names, 10)\n",
    "emp"
   ]
  },
  {
   "cell_type": "code",
   "execution_count": 146,
   "metadata": {},
   "outputs": [
    {
     "data": {
      "text/plain": [
       "<zip at 0x1bf5d8e5dc0>"
      ]
     },
     "execution_count": 146,
     "metadata": {},
     "output_type": "execute_result"
    }
   ],
   "source": [
    "names = [\"Jack\", \"Jane\", \"Jasmine\"]\n",
    "ages = [30, 25, 40]\n",
    "zip(names, ages) # returns a sequence object"
   ]
  },
  {
   "cell_type": "code",
   "execution_count": 147,
   "metadata": {},
   "outputs": [
    {
     "data": {
      "text/plain": [
       "[('Jack', 30), ('Jane', 25), ('Jasmine', 40)]"
      ]
     },
     "execution_count": 147,
     "metadata": {},
     "output_type": "execute_result"
    }
   ],
   "source": [
    "list(zip(names, ages)) # convert to list to view the elements\n",
    "# sequence of tuples combining elements index-wise"
   ]
  },
  {
   "cell_type": "code",
   "execution_count": 148,
   "metadata": {},
   "outputs": [
    {
     "data": {
      "text/plain": [
       "{'Jack': 30, 'Jane': 25, 'Jasmine': 40}"
      ]
     },
     "execution_count": 148,
     "metadata": {},
     "output_type": "execute_result"
    }
   ],
   "source": [
    "dict(zip(names, ages))"
   ]
  },
  {
   "cell_type": "code",
   "execution_count": 151,
   "metadata": {},
   "outputs": [
    {
     "name": "stdout",
     "output_type": "stream",
     "text": [
      "Price of product P1 is 4k/-.\n",
      "Price of product P2 is 5k/-.\n",
      "Price of product P3 is 2k/-.\n"
     ]
    }
   ],
   "source": [
    "products = [\"P1\", \"P2\", \"P3\"]\n",
    "prices = [4000, 5000, 2000]\n",
    "\n",
    "for i, j in zip(products, prices) :\n",
    "    print(f\"Price of product {i} is {j//1000}k/-.\")"
   ]
  },
  {
   "cell_type": "markdown",
   "metadata": {},
   "source": [
    "#### Examples - "
   ]
  },
  {
   "cell_type": "markdown",
   "metadata": {},
   "source": [
    "###### Ex. Extract file name and extension from the string"
   ]
  },
  {
   "cell_type": "code",
   "execution_count": 3,
   "metadata": {},
   "outputs": [
    {
     "name": "stdin",
     "output_type": "stream",
     "text": [
      "Enter file name -  demo.py\n"
     ]
    },
    {
     "name": "stdout",
     "output_type": "stream",
     "text": [
      "Filename - demo and extn - py\n"
     ]
    }
   ],
   "source": [
    "file = input(\"Enter file name - \")\n",
    "filename = file.split(\".\")[0]\n",
    "ext = file.split(\".\")[-1]\n",
    "print(f\"Filename - {filename} and extn - {ext}\")"
   ]
  },
  {
   "cell_type": "markdown",
   "metadata": {},
   "source": [
    "###### Ex. Remove the currency symbol and convert the string into int"
   ]
  },
  {
   "cell_type": "code",
   "execution_count": 7,
   "metadata": {},
   "outputs": [
    {
     "data": {
      "text/plain": [
       "1200"
      ]
     },
     "execution_count": 7,
     "metadata": {},
     "output_type": "execute_result"
    }
   ],
   "source": [
    "sales = \"$1,200\"\n",
    "int(sales.replace(\"$\", \"\").replace(\",\", \"\"))"
   ]
  },
  {
   "cell_type": "code",
   "execution_count": 14,
   "metadata": {},
   "outputs": [
    {
     "data": {
      "text/plain": [
       "-1200"
      ]
     },
     "execution_count": 14,
     "metadata": {},
     "output_type": "execute_result"
    }
   ],
   "source": [
    "profit = \"($1,200)\"  # - -1200\n",
    "trans_obj = str.maketrans(\"(\", \"-\", \"$),\")\n",
    "int(profit.translate(trans_obj))"
   ]
  },
  {
   "cell_type": "markdown",
   "metadata": {},
   "source": [
    "###### Ex. Replace all vowels in a string with `*`"
   ]
  },
  {
   "cell_type": "code",
   "execution_count": 10,
   "metadata": {},
   "outputs": [
    {
     "data": {
      "text/plain": [
       "'* *t* *n *ppl*'"
      ]
     },
     "execution_count": 10,
     "metadata": {},
     "output_type": "execute_result"
    }
   ],
   "source": [
    "string = \"I ate an apple\"\n",
    "trans_obj = str.maketrans(\"aeiou\", \"*****\")\n",
    "string.lower().translate(trans_obj)"
   ]
  },
  {
   "cell_type": "code",
   "execution_count": 11,
   "metadata": {},
   "outputs": [
    {
     "data": {
      "text/plain": [
       "{97: 42, 101: 42, 105: 42, 111: 42, 117: 42}"
      ]
     },
     "execution_count": 11,
     "metadata": {},
     "output_type": "execute_result"
    }
   ],
   "source": [
    "trans_obj"
   ]
  },
  {
   "cell_type": "code",
   "execution_count": 15,
   "metadata": {},
   "outputs": [
    {
     "name": "stdout",
     "output_type": "stream",
     "text": [
      "['__add__', '__class__', '__contains__', '__delattr__', '__dir__', '__doc__', '__eq__', '__format__', '__ge__', '__getattribute__', '__getitem__', '__getnewargs__', '__getstate__', '__gt__', '__hash__', '__init__', '__init_subclass__', '__iter__', '__le__', '__len__', '__lt__', '__mod__', '__mul__', '__ne__', '__new__', '__reduce__', '__reduce_ex__', '__repr__', '__rmod__', '__rmul__', '__setattr__', '__sizeof__', '__str__', '__subclasshook__', 'capitalize', 'casefold', 'center', 'count', 'encode', 'endswith', 'expandtabs', 'find', 'format', 'format_map', 'index', 'isalnum', 'isalpha', 'isascii', 'isdecimal', 'isdigit', 'isidentifier', 'islower', 'isnumeric', 'isprintable', 'isspace', 'istitle', 'isupper', 'join', 'ljust', 'lower', 'lstrip', 'maketrans', 'partition', 'removeprefix', 'removesuffix', 'replace', 'rfind', 'rindex', 'rjust', 'rpartition', 'rsplit', 'rstrip', 'split', 'splitlines', 'startswith', 'strip', 'swapcase', 'title', 'translate', 'upper', 'zfill']\n"
     ]
    }
   ],
   "source": [
    "print(dir(str))"
   ]
  },
  {
   "cell_type": "markdown",
   "metadata": {},
   "source": [
    "### Comprehensions\n",
    "\n",
    "`[<expression> for <var> in <sequence> if <condition>]`\n",
    "\n",
    "#### Steps - \n",
    "1. Identify the sequence\n",
    "2. Check for any condition (optional)\n",
    "3. Identify the expression\n",
    "4. Enclosed inside the container brackets"
   ]
  },
  {
   "cell_type": "markdown",
   "metadata": {},
   "source": [
    "###### Ex. WAP to create a list of squares of numbers from 1 to 5"
   ]
  },
  {
   "cell_type": "code",
   "execution_count": 17,
   "metadata": {},
   "outputs": [
    {
     "data": {
      "text/plain": [
       "[1, 4, 9, 16, 25]"
      ]
     },
     "execution_count": 17,
     "metadata": {},
     "output_type": "execute_result"
    }
   ],
   "source": [
    "lst = []\n",
    "for i in range(1, 6) :\n",
    "    lst.append(i**2)  # Adding elements to a list\n",
    "lst"
   ]
  },
  {
   "cell_type": "code",
   "execution_count": 18,
   "metadata": {},
   "outputs": [
    {
     "data": {
      "text/plain": [
       "[1, 4, 9, 16, 25]"
      ]
     },
     "execution_count": 18,
     "metadata": {},
     "output_type": "execute_result"
    }
   ],
   "source": [
    "[i**2 for i in range(1, 6)]"
   ]
  },
  {
   "cell_type": "markdown",
   "metadata": {},
   "source": [
    "###### Ex. WAP to create a list of squares of even numbers between 1-20"
   ]
  },
  {
   "cell_type": "code",
   "execution_count": 19,
   "metadata": {},
   "outputs": [
    {
     "data": {
      "text/plain": [
       "[4, 16, 36, 64, 100, 144, 196, 256, 324, 400]"
      ]
     },
     "execution_count": 19,
     "metadata": {},
     "output_type": "execute_result"
    }
   ],
   "source": [
    "[i**2 for i in range(1, 21) if i%2 == 0]"
   ]
  },
  {
   "cell_type": "markdown",
   "metadata": {},
   "source": [
    "###### Ex. WAP to generate a dict of numbers from 1-5 as keys and their squares as values"
   ]
  },
  {
   "cell_type": "code",
   "execution_count": 20,
   "metadata": {},
   "outputs": [
    {
     "data": {
      "text/plain": [
       "{1: 1, 2: 4, 3: 9, 4: 16, 5: 25}"
      ]
     },
     "execution_count": 20,
     "metadata": {},
     "output_type": "execute_result"
    }
   ],
   "source": [
    "{i : i**2 for i in range(1, 6)}"
   ]
  },
  {
   "cell_type": "markdown",
   "metadata": {},
   "source": [
    "###### Ex. WAP to convert the sales values to thousands format and store in a list"
   ]
  },
  {
   "cell_type": "code",
   "execution_count": 23,
   "metadata": {},
   "outputs": [
    {
     "name": "stdout",
     "output_type": "stream",
     "text": [
      "['3k', '2k', '5k', '1k']\n"
     ]
    }
   ],
   "source": [
    "sales = [3000, 2000, 5000, 1000]\n",
    "values = [f\"{i//1000}k\" for i in sales]\n",
    "print(values)"
   ]
  },
  {
   "cell_type": "markdown",
   "metadata": {},
   "source": [
    "###### Ex. WAP to calculate sum of sales"
   ]
  },
  {
   "cell_type": "code",
   "execution_count": 26,
   "metadata": {},
   "outputs": [
    {
     "data": {
      "text/plain": [
       "1500"
      ]
     },
     "execution_count": 26,
     "metadata": {},
     "output_type": "execute_result"
    }
   ],
   "source": [
    "sales = [\"$200\", \"$500\", \"$800\"]\n",
    "sum([int(i.replace(\"$\", \"\")) for i in sales])"
   ]
  },
  {
   "cell_type": "markdown",
   "metadata": {},
   "source": [
    "## Functions in python"
   ]
  },
  {
   "cell_type": "code",
   "execution_count": 28,
   "metadata": {},
   "outputs": [],
   "source": [
    "# Function definition\n",
    "def factorial(num) :  # num - parameter\n",
    "    fact = 1\n",
    "    for i in range(1, num+1) :\n",
    "        fact *= i\n",
    "    return fact"
   ]
  },
  {
   "cell_type": "code",
   "execution_count": 30,
   "metadata": {},
   "outputs": [
    {
     "data": {
      "text/plain": [
       "120"
      ]
     },
     "execution_count": 30,
     "metadata": {},
     "output_type": "execute_result"
    }
   ],
   "source": [
    "var = factorial(5) # Function call\n",
    "var"
   ]
  },
  {
   "cell_type": "markdown",
   "metadata": {},
   "source": [
    "### Function Arguments"
   ]
  },
  {
   "cell_type": "markdown",
   "metadata": {},
   "source": [
    "#### 1. Required Positional Argument"
   ]
  },
  {
   "cell_type": "code",
   "execution_count": 35,
   "metadata": {},
   "outputs": [
    {
     "name": "stdout",
     "output_type": "stream",
     "text": [
      "Name - Jane | Age - 30\n",
      "Name - 30 | Age - Jane\n"
     ]
    },
    {
     "ename": "TypeError",
     "evalue": "demo() missing 1 required positional argument: 'age'",
     "output_type": "error",
     "traceback": [
      "\u001b[1;31m---------------------------------------------------------------------------\u001b[0m",
      "\u001b[1;31mTypeError\u001b[0m                                 Traceback (most recent call last)",
      "Cell \u001b[1;32mIn[35], line 6\u001b[0m\n\u001b[0;32m      4\u001b[0m demo(\u001b[38;5;124m\"\u001b[39m\u001b[38;5;124mJane\u001b[39m\u001b[38;5;124m\"\u001b[39m, \u001b[38;5;241m30\u001b[39m)\n\u001b[0;32m      5\u001b[0m demo(\u001b[38;5;241m30\u001b[39m, \u001b[38;5;124m\"\u001b[39m\u001b[38;5;124mJane\u001b[39m\u001b[38;5;124m\"\u001b[39m)  \u001b[38;5;66;03m# Positional arguments\u001b[39;00m\n\u001b[1;32m----> 6\u001b[0m \u001b[43mdemo\u001b[49m\u001b[43m(\u001b[49m\u001b[38;5;124;43m\"\u001b[39;49m\u001b[38;5;124;43mJane\u001b[39;49m\u001b[38;5;124;43m\"\u001b[39;49m\u001b[43m)\u001b[49m   \u001b[38;5;66;03m# Required Arguments\u001b[39;00m\n",
      "\u001b[1;31mTypeError\u001b[0m: demo() missing 1 required positional argument: 'age'"
     ]
    }
   ],
   "source": [
    "def demo(name, age) :\n",
    "    print(f\"Name - {name} | Age - {age}\")\n",
    "\n",
    "demo(\"Jane\", 30)\n",
    "demo(30, \"Jane\")  # Positional arguments\n",
    "demo(\"Jane\")   # Required Arguments"
   ]
  },
  {
   "cell_type": "code",
   "execution_count": 40,
   "metadata": {},
   "outputs": [
    {
     "data": {
      "text/plain": [
       "'Mississippi'"
      ]
     },
     "execution_count": 40,
     "metadata": {},
     "output_type": "execute_result"
    }
   ],
   "source": [
    "string = \"Mississippi\"\n",
    "string.replace(\"*\", \"i\")"
   ]
  },
  {
   "cell_type": "code",
   "execution_count": 38,
   "metadata": {},
   "outputs": [
    {
     "name": "stdout",
     "output_type": "stream",
     "text": [
      "Help on method_descriptor:\n",
      "\n",
      "replace(self, old, new, count=-1, /) unbound builtins.str method\n",
      "    Return a copy with all occurrences of substring old replaced by new.\n",
      "\n",
      "      count\n",
      "        Maximum number of occurrences to replace.\n",
      "        -1 (the default value) means replace all occurrences.\n",
      "\n",
      "    If the optional argument count is given, only the first count occurrences are\n",
      "    replaced.\n",
      "\n"
     ]
    }
   ],
   "source": [
    "help(str.replace)"
   ]
  },
  {
   "cell_type": "markdown",
   "metadata": {},
   "source": [
    "#### 2. Default Argument"
   ]
  },
  {
   "cell_type": "code",
   "execution_count": 43,
   "metadata": {},
   "outputs": [
    {
     "data": {
      "text/plain": [
       "'M*ss*ssippi'"
      ]
     },
     "execution_count": 43,
     "metadata": {},
     "output_type": "execute_result"
    }
   ],
   "source": [
    "string = \"Mississippi\"\n",
    "string.replace(\"i\", \"*\", 2)"
   ]
  },
  {
   "cell_type": "code",
   "execution_count": 47,
   "metadata": {},
   "outputs": [
    {
     "name": "stdout",
     "output_type": "stream",
     "text": [
      "no present\n"
     ]
    }
   ],
   "source": [
    "countries = {\"India\" : \"INR\", \"Japan\" : \"Yen\"}\n",
    "print(countries.get(\"China\", \"no present\"))"
   ]
  },
  {
   "cell_type": "code",
   "execution_count": 48,
   "metadata": {},
   "outputs": [
    {
     "name": "stdout",
     "output_type": "stream",
     "text": [
      "Help on built-in function get:\n",
      "\n",
      "get(key, default=None, /) method of builtins.dict instance\n",
      "    Return the value for key if key is in the dictionary, else default.\n",
      "\n"
     ]
    }
   ],
   "source": [
    "help(countries.get)"
   ]
  },
  {
   "cell_type": "markdown",
   "metadata": {},
   "source": [
    "#### 3. Variable Length Argument"
   ]
  },
  {
   "cell_type": "code",
   "execution_count": 49,
   "metadata": {},
   "outputs": [
    {
     "name": "stdout",
     "output_type": "stream",
     "text": [
      "Name - Jane | Age - 18 | args - (80, 60, 70, 20)\n"
     ]
    }
   ],
   "source": [
    "def demo(name, *args, age = 18) :\n",
    "        print(f\"Name - {name} | Age - {age} | args - {args}\")\n",
    "\n",
    "demo(\"Jane\", 80, 60, 70, 20)"
   ]
  },
  {
   "cell_type": "code",
   "execution_count": 51,
   "metadata": {},
   "outputs": [
    {
     "data": {
      "text/plain": [
       "50"
      ]
     },
     "execution_count": 51,
     "metadata": {},
     "output_type": "execute_result"
    }
   ],
   "source": [
    "max(10, 20, 30, 40, 50)"
   ]
  },
  {
   "cell_type": "code",
   "execution_count": 52,
   "metadata": {},
   "outputs": [
    {
     "name": "stdout",
     "output_type": "stream",
     "text": [
      "Help on built-in function max in module builtins:\n",
      "\n",
      "max(...)\n",
      "    max(iterable, *[, default=obj, key=func]) -> value\n",
      "    max(arg1, arg2, *args, *[, key=func]) -> value\n",
      "\n",
      "    With a single iterable argument, return its biggest item. The\n",
      "    default keyword-only argument specifies an object to return if\n",
      "    the provided iterable is empty.\n",
      "    With two or more arguments, return the largest argument.\n",
      "\n"
     ]
    }
   ],
   "source": [
    "help(max)"
   ]
  },
  {
   "cell_type": "markdown",
   "metadata": {},
   "source": [
    "#### 4. Keyword Argument"
   ]
  },
  {
   "cell_type": "code",
   "execution_count": 53,
   "metadata": {},
   "outputs": [
    {
     "name": "stdout",
     "output_type": "stream",
     "text": [
      "Name - Jane | Age - 20 | args - (80, 60, 70)\n"
     ]
    }
   ],
   "source": [
    "demo(\"Jane\", 80, 60, 70, age = 20)"
   ]
  },
  {
   "cell_type": "markdown",
   "metadata": {},
   "source": [
    "#### 5. Variable Length Keyword Argument"
   ]
  },
  {
   "cell_type": "code",
   "execution_count": 54,
   "metadata": {},
   "outputs": [
    {
     "name": "stdout",
     "output_type": "stream",
     "text": [
      "Name - Jane | Age - 20 | args - (80, 60, 70) | kwargs - {'gender': 'f', 'mob': 9876543}\n"
     ]
    }
   ],
   "source": [
    "def demo(name, *args, age = 18, **kwargs) :\n",
    "        print(f\"Name - {name} | Age - {age} | args - {args} | kwargs - {kwargs}\")\n",
    "\n",
    "demo(\"Jane\", 80, 60, 70, age = 20, gender = \"f\", mob = 9876543)"
   ]
  },
  {
   "cell_type": "code",
   "execution_count": 55,
   "metadata": {},
   "outputs": [
    {
     "name": "stdout",
     "output_type": "stream",
     "text": [
      "Help on built-in function maketrans:\n",
      "\n",
      "maketrans(...)\n",
      "    Return a translation table usable for str.translate().\n",
      "\n",
      "    If there is only one argument, it must be a dictionary mapping Unicode\n",
      "    ordinals (integers) or characters to Unicode ordinals, strings or None.\n",
      "    Character keys will be then converted to ordinals.\n",
      "    If there are two arguments, they must be strings of equal length, and\n",
      "    in the resulting dictionary, each character in x will be mapped to the\n",
      "    character at the same position in y. If there is a third argument, it\n",
      "    must be a string, whose characters will be mapped to None in the result.\n",
      "\n"
     ]
    }
   ],
   "source": [
    "help(str.maketrans)"
   ]
  },
  {
   "cell_type": "code",
   "execution_count": null,
   "metadata": {},
   "outputs": [],
   "source": []
  },
  {
   "cell_type": "code",
   "execution_count": null,
   "metadata": {},
   "outputs": [],
   "source": []
  },
  {
   "cell_type": "code",
   "execution_count": null,
   "metadata": {},
   "outputs": [],
   "source": []
  },
  {
   "cell_type": "markdown",
   "metadata": {},
   "source": [
    "<br><br><br><br><br><br><br><br><br><br><br><br><br><br><br><br><br><br>"
   ]
  },
  {
   "cell_type": "code",
   "execution_count": null,
   "metadata": {},
   "outputs": [],
   "source": []
  },
  {
   "cell_type": "code",
   "execution_count": null,
   "metadata": {},
   "outputs": [],
   "source": []
  },
  {
   "cell_type": "code",
   "execution_count": null,
   "metadata": {},
   "outputs": [],
   "source": []
  }
 ],
 "metadata": {
  "kernelspec": {
   "display_name": "Python 3 (ipykernel)",
   "language": "python",
   "name": "python3"
  },
  "language_info": {
   "codemirror_mode": {
    "name": "ipython",
    "version": 3
   },
   "file_extension": ".py",
   "mimetype": "text/x-python",
   "name": "python",
   "nbconvert_exporter": "python",
   "pygments_lexer": "ipython3",
   "version": "3.12.4"
  }
 },
 "nbformat": 4,
 "nbformat_minor": 4
}
