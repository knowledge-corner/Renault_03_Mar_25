{
 "cells": [
  {
   "cell_type": "markdown",
   "metadata": {},
   "source": [
    "## Functions in python"
   ]
  },
  {
   "cell_type": "code",
   "execution_count": 28,
   "metadata": {},
   "outputs": [],
   "source": [
    "# Function definition\n",
    "def factorial(num) :  # num - parameter\n",
    "    fact = 1\n",
    "    for i in range(1, num+1) :\n",
    "        fact *= i\n",
    "    return fact"
   ]
  },
  {
   "cell_type": "code",
   "execution_count": 30,
   "metadata": {},
   "outputs": [
    {
     "data": {
      "text/plain": [
       "120"
      ]
     },
     "execution_count": 30,
     "metadata": {},
     "output_type": "execute_result"
    }
   ],
   "source": [
    "var = factorial(5) # Function call\n",
    "var"
   ]
  },
  {
   "cell_type": "markdown",
   "metadata": {},
   "source": [
    "### Function Arguments"
   ]
  },
  {
   "cell_type": "markdown",
   "metadata": {},
   "source": [
    "#### 1. Required Positional Argument"
   ]
  },
  {
   "cell_type": "code",
   "execution_count": 35,
   "metadata": {},
   "outputs": [
    {
     "name": "stdout",
     "output_type": "stream",
     "text": [
      "Name - Jane | Age - 30\n",
      "Name - 30 | Age - Jane\n"
     ]
    },
    {
     "ename": "TypeError",
     "evalue": "demo() missing 1 required positional argument: 'age'",
     "output_type": "error",
     "traceback": [
      "\u001b[1;31m---------------------------------------------------------------------------\u001b[0m",
      "\u001b[1;31mTypeError\u001b[0m                                 Traceback (most recent call last)",
      "Cell \u001b[1;32mIn[35], line 6\u001b[0m\n\u001b[0;32m      4\u001b[0m demo(\u001b[38;5;124m\"\u001b[39m\u001b[38;5;124mJane\u001b[39m\u001b[38;5;124m\"\u001b[39m, \u001b[38;5;241m30\u001b[39m)\n\u001b[0;32m      5\u001b[0m demo(\u001b[38;5;241m30\u001b[39m, \u001b[38;5;124m\"\u001b[39m\u001b[38;5;124mJane\u001b[39m\u001b[38;5;124m\"\u001b[39m)  \u001b[38;5;66;03m# Positional arguments\u001b[39;00m\n\u001b[1;32m----> 6\u001b[0m \u001b[43mdemo\u001b[49m\u001b[43m(\u001b[49m\u001b[38;5;124;43m\"\u001b[39;49m\u001b[38;5;124;43mJane\u001b[39;49m\u001b[38;5;124;43m\"\u001b[39;49m\u001b[43m)\u001b[49m   \u001b[38;5;66;03m# Required Arguments\u001b[39;00m\n",
      "\u001b[1;31mTypeError\u001b[0m: demo() missing 1 required positional argument: 'age'"
     ]
    }
   ],
   "source": [
    "def demo(name, age) :\n",
    "    print(f\"Name - {name} | Age - {age}\")\n",
    "\n",
    "demo(\"Jane\", 30)\n",
    "demo(30, \"Jane\")  # Positional arguments\n",
    "demo(\"Jane\")   # Required Arguments"
   ]
  },
  {
   "cell_type": "code",
   "execution_count": 40,
   "metadata": {},
   "outputs": [
    {
     "data": {
      "text/plain": [
       "'Mississippi'"
      ]
     },
     "execution_count": 40,
     "metadata": {},
     "output_type": "execute_result"
    }
   ],
   "source": [
    "string = \"Mississippi\"\n",
    "string.replace(\"*\", \"i\")"
   ]
  },
  {
   "cell_type": "code",
   "execution_count": 38,
   "metadata": {},
   "outputs": [
    {
     "name": "stdout",
     "output_type": "stream",
     "text": [
      "Help on method_descriptor:\n",
      "\n",
      "replace(self, old, new, count=-1, /) unbound builtins.str method\n",
      "    Return a copy with all occurrences of substring old replaced by new.\n",
      "\n",
      "      count\n",
      "        Maximum number of occurrences to replace.\n",
      "        -1 (the default value) means replace all occurrences.\n",
      "\n",
      "    If the optional argument count is given, only the first count occurrences are\n",
      "    replaced.\n",
      "\n"
     ]
    }
   ],
   "source": [
    "help(str.replace)"
   ]
  },
  {
   "cell_type": "markdown",
   "metadata": {},
   "source": [
    "#### 2. Default Argument"
   ]
  },
  {
   "cell_type": "code",
   "execution_count": 43,
   "metadata": {},
   "outputs": [
    {
     "data": {
      "text/plain": [
       "'M*ss*ssippi'"
      ]
     },
     "execution_count": 43,
     "metadata": {},
     "output_type": "execute_result"
    }
   ],
   "source": [
    "string = \"Mississippi\"\n",
    "string.replace(\"i\", \"*\", 2)"
   ]
  },
  {
   "cell_type": "code",
   "execution_count": 47,
   "metadata": {},
   "outputs": [
    {
     "name": "stdout",
     "output_type": "stream",
     "text": [
      "no present\n"
     ]
    }
   ],
   "source": [
    "countries = {\"India\" : \"INR\", \"Japan\" : \"Yen\"}\n",
    "print(countries.get(\"China\", \"no present\"))"
   ]
  },
  {
   "cell_type": "code",
   "execution_count": 48,
   "metadata": {},
   "outputs": [
    {
     "name": "stdout",
     "output_type": "stream",
     "text": [
      "Help on built-in function get:\n",
      "\n",
      "get(key, default=None, /) method of builtins.dict instance\n",
      "    Return the value for key if key is in the dictionary, else default.\n",
      "\n"
     ]
    }
   ],
   "source": [
    "help(countries.get)"
   ]
  },
  {
   "cell_type": "markdown",
   "metadata": {},
   "source": [
    "#### 3. Variable Length Argument"
   ]
  },
  {
   "cell_type": "code",
   "execution_count": 49,
   "metadata": {},
   "outputs": [
    {
     "name": "stdout",
     "output_type": "stream",
     "text": [
      "Name - Jane | Age - 18 | args - (80, 60, 70, 20)\n"
     ]
    }
   ],
   "source": [
    "def demo(name, *args, age = 18) :\n",
    "        print(f\"Name - {name} | Age - {age} | args - {args}\")\n",
    "\n",
    "demo(\"Jane\", 80, 60, 70, 20)"
   ]
  },
  {
   "cell_type": "code",
   "execution_count": 51,
   "metadata": {},
   "outputs": [
    {
     "data": {
      "text/plain": [
       "50"
      ]
     },
     "execution_count": 51,
     "metadata": {},
     "output_type": "execute_result"
    }
   ],
   "source": [
    "max(10, 20, 30, 40, 50)"
   ]
  },
  {
   "cell_type": "code",
   "execution_count": 52,
   "metadata": {},
   "outputs": [
    {
     "name": "stdout",
     "output_type": "stream",
     "text": [
      "Help on built-in function max in module builtins:\n",
      "\n",
      "max(...)\n",
      "    max(iterable, *[, default=obj, key=func]) -> value\n",
      "    max(arg1, arg2, *args, *[, key=func]) -> value\n",
      "\n",
      "    With a single iterable argument, return its biggest item. The\n",
      "    default keyword-only argument specifies an object to return if\n",
      "    the provided iterable is empty.\n",
      "    With two or more arguments, return the largest argument.\n",
      "\n"
     ]
    }
   ],
   "source": [
    "help(max)"
   ]
  },
  {
   "cell_type": "markdown",
   "metadata": {},
   "source": [
    "#### 4. Keyword Argument"
   ]
  },
  {
   "cell_type": "code",
   "execution_count": 53,
   "metadata": {},
   "outputs": [
    {
     "name": "stdout",
     "output_type": "stream",
     "text": [
      "Name - Jane | Age - 20 | args - (80, 60, 70)\n"
     ]
    }
   ],
   "source": [
    "demo(\"Jane\", 80, 60, 70, age = 20)"
   ]
  },
  {
   "cell_type": "markdown",
   "metadata": {},
   "source": [
    "#### 5. Variable Length Keyword Argument"
   ]
  },
  {
   "cell_type": "code",
   "execution_count": 54,
   "metadata": {},
   "outputs": [
    {
     "name": "stdout",
     "output_type": "stream",
     "text": [
      "Name - Jane | Age - 20 | args - (80, 60, 70) | kwargs - {'gender': 'f', 'mob': 9876543}\n"
     ]
    }
   ],
   "source": [
    "def demo(name, *args, age = 18, **kwargs) :\n",
    "        print(f\"Name - {name} | Age - {age} | args - {args} | kwargs - {kwargs}\")\n",
    "\n",
    "demo(\"Jane\", 80, 60, 70, age = 20, gender = \"f\", mob = 9876543)"
   ]
  },
  {
   "cell_type": "code",
   "execution_count": 55,
   "metadata": {},
   "outputs": [
    {
     "name": "stdout",
     "output_type": "stream",
     "text": [
      "Help on built-in function maketrans:\n",
      "\n",
      "maketrans(...)\n",
      "    Return a translation table usable for str.translate().\n",
      "\n",
      "    If there is only one argument, it must be a dictionary mapping Unicode\n",
      "    ordinals (integers) or characters to Unicode ordinals, strings or None.\n",
      "    Character keys will be then converted to ordinals.\n",
      "    If there are two arguments, they must be strings of equal length, and\n",
      "    in the resulting dictionary, each character in x will be mapped to the\n",
      "    character at the same position in y. If there is a third argument, it\n",
      "    must be a string, whose characters will be mapped to None in the result.\n",
      "\n"
     ]
    }
   ],
   "source": [
    "help(str.maketrans)"
   ]
  },
  {
   "cell_type": "markdown",
   "metadata": {},
   "source": [
    "<br><br><br><br><br><br><br><br><br><br><br><br><br><br><br><br><br>"
   ]
  },
  {
   "cell_type": "markdown",
   "metadata": {
    "id": "kmaCWVo_SLy5"
   },
   "source": [
    "## Lambda Function\n",
    "\n",
    "- A lambda function is also called as an anonymous function as it is a function that is defined without a name.\n",
    "- A lambda function behaves similar to a standard function except it is defined in one-line.\n",
    "- It is defined using a lambda key-word.\n",
    "- Lambda functions can have any number of arguments but only one expression. The expression is evaluated and returned.\n",
    "- Lambda functions can be used wherever function objects are required.\n",
    "- Syntax of Lambda Function –\n",
    "\n",
    "  <b>lambda *parameters* : *expression*</b>\n"
   ]
  },
  {
   "cell_type": "markdown",
   "metadata": {
    "id": "4cE13fbuSLy6"
   },
   "source": [
    "###### Write a lambda function to return addition of 2 numbers"
   ]
  },
  {
   "cell_type": "code",
   "execution_count": null,
   "metadata": {
    "id": "hIHpUqvFSLy_"
   },
   "outputs": [],
   "source": []
  },
  {
   "cell_type": "markdown",
   "metadata": {
    "id": "yR6wj3vjSLzC"
   },
   "source": [
    "###### Write a lambda function to return square of the number"
   ]
  },
  {
   "cell_type": "code",
   "execution_count": null,
   "metadata": {
    "id": "HKcJf7aLSLzF"
   },
   "outputs": [],
   "source": []
  },
  {
   "cell_type": "markdown",
   "metadata": {
    "id": "7mE1pwK-SLzI"
   },
   "source": [
    "### Function Object\n",
    "\n",
    "- Everything in Python is an object, including functions.\n",
    "- You can assign them to variables, store them in data structures, and pass or return them to and from other functions\n",
    "- Functions in Python can be passed as arguments to other functions, assigned to variables or even stored as elements in various data structures.\n"
   ]
  },
  {
   "cell_type": "markdown",
   "metadata": {
    "id": "EJ2EsVFhSLzJ"
   },
   "source": [
    "#### function definition/implemenation\n"
   ]
  },
  {
   "cell_type": "code",
   "execution_count": null,
   "metadata": {
    "id": "0vDW8j3_SLzJ"
   },
   "outputs": [],
   "source": [
    "def func(a, b):  # -> function definition\n",
    "    if a < b :\n",
    "        return a\n",
    "    else:\n",
    "        return b"
   ]
  },
  {
   "cell_type": "markdown",
   "metadata": {
    "id": "sS3UmL5jSLz6"
   },
   "source": [
    "#### function call"
   ]
  },
  {
   "cell_type": "code",
   "execution_count": null,
   "metadata": {
    "id": "un1nlPLgSLz7"
   },
   "outputs": [],
   "source": [
    "# function call\n"
   ]
  },
  {
   "cell_type": "markdown",
   "metadata": {
    "id": "aO3J1M-mSLz8"
   },
   "source": [
    "#### function object"
   ]
  },
  {
   "cell_type": "code",
   "execution_count": null,
   "metadata": {
    "id": "pga_W2HsSLz8"
   },
   "outputs": [],
   "source": [
    "# function object\n"
   ]
  },
  {
   "cell_type": "code",
   "execution_count": null,
   "metadata": {
    "id": "9Yuag_4wSLz9"
   },
   "outputs": [],
   "source": []
  },
  {
   "cell_type": "markdown",
   "metadata": {
    "id": "2sNNlLTpSLz_"
   },
   "source": [
    "### Applilcations of Function Object"
   ]
  },
  {
   "cell_type": "markdown",
   "metadata": {
    "id": "4T0SCa8LSLz_"
   },
   "source": [
    "###### Ex. WAP to sort a list of strings as per the last character."
   ]
  },
  {
   "cell_type": "code",
   "execution_count": null,
   "metadata": {
    "id": "kHYPxKNpSLz_"
   },
   "outputs": [],
   "source": []
  },
  {
   "cell_type": "markdown",
   "metadata": {
    "id": "lJGW-MOCSL0M"
   },
   "source": [
    "###### Ex. WAP to display the student details in sorted order of their marks."
   ]
  },
  {
   "cell_type": "code",
   "execution_count": 1,
   "metadata": {
    "id": "RqKeBNmKSL0N"
   },
   "outputs": [],
   "source": [
    "students = {\"Jane\" : 40, \"Max\" : 50, \"Sam\" : 45, \"Mary\" : 70}\n"
   ]
  },
  {
   "cell_type": "markdown",
   "metadata": {
    "id": "g_rkzfJiSL0Z"
   },
   "source": [
    "<hr><hr>"
   ]
  },
  {
   "cell_type": "markdown",
   "metadata": {
    "id": "5zr43sRSSL0a"
   },
   "source": [
    "## Exception Handling\n",
    "\n",
    "It may be convenient to recognize the problems in your python code before you put it to real use. But that does not always happen. Sometimes, problems show up when you run the code; sometimes, midway of that. A Python exception is an error that's detected during execution.\n",
    "\n",
    "##### Python does not provide any compile time Exception Handling. Developer has to proactively recognize the need for exception handling.\n",
    "\n",
    "- What are Errors and Exceptions\n",
    "- Handling Exceptions\n",
    "- Defining Clean-up Actions\n",
    "- Predefined Clean-up Actions\n",
    "- Raising Exceptions"
   ]
  },
  {
   "cell_type": "markdown",
   "metadata": {
    "id": "vHaasN7-SL0a"
   },
   "source": [
    "### Syntax Error"
   ]
  },
  {
   "cell_type": "code",
   "execution_count": null,
   "metadata": {
    "id": "xfUtgZ5sSL0a"
   },
   "outputs": [],
   "source": [
    "for i in range(5)\n",
    "   print(i)"
   ]
  },
  {
   "cell_type": "markdown",
   "metadata": {
    "id": "-d59K2OoSL0b"
   },
   "source": [
    "### Exception\n",
    "Even if a statement or expression is syntactically correct, it may cause an error when an attempt is made to execute it. Errors detected during execution are called exceptions and are not unconditionally fatal"
   ]
  },
  {
   "cell_type": "markdown",
   "metadata": {
    "id": "9I5GYLOFSL0b"
   },
   "source": [
    "#### ZeroDivisionError"
   ]
  },
  {
   "cell_type": "code",
   "execution_count": null,
   "metadata": {
    "id": "8c4raz09SL0b"
   },
   "outputs": [],
   "source": [
    "a, b = 1, 0\n",
    "print(a/b)"
   ]
  },
  {
   "cell_type": "markdown",
   "metadata": {
    "id": "weGt8ZV1SL0b"
   },
   "source": [
    "#### ValueError"
   ]
  },
  {
   "cell_type": "code",
   "execution_count": null,
   "metadata": {
    "id": "RzHENWxRSL0b"
   },
   "outputs": [],
   "source": [
    "int(\"abcd\")"
   ]
  },
  {
   "cell_type": "markdown",
   "metadata": {
    "id": "Xp4wNqKPSL0c"
   },
   "source": [
    "#### NameError"
   ]
  },
  {
   "cell_type": "code",
   "execution_count": null,
   "metadata": {
    "id": "l8ToS_7MSL0c"
   },
   "outputs": [],
   "source": [
    "print(z)"
   ]
  },
  {
   "cell_type": "markdown",
   "metadata": {
    "id": "Dn1mfAfqSL0c"
   },
   "source": [
    "#### FileNotFoundError"
   ]
  },
  {
   "cell_type": "code",
   "execution_count": null,
   "metadata": {
    "id": "F0tEcptzSL0c"
   },
   "outputs": [],
   "source": [
    "open(\"abc.txt\")"
   ]
  },
  {
   "cell_type": "markdown",
   "metadata": {
    "id": "ieQJyDXESL0d"
   },
   "source": [
    "#### TypeError"
   ]
  },
  {
   "cell_type": "code",
   "execution_count": null,
   "metadata": {
    "id": "btHn0e6NSL0d"
   },
   "outputs": [],
   "source": [
    "\"2\" + 2"
   ]
  },
  {
   "cell_type": "code",
   "execution_count": null,
   "metadata": {
    "id": "6WU4wpJ5SL0d"
   },
   "outputs": [],
   "source": [
    "def func(a):\n",
    "    pass\n",
    "\n",
    "func()"
   ]
  },
  {
   "cell_type": "markdown",
   "metadata": {
    "id": "9Obf0tw9SL0d"
   },
   "source": [
    "#### IndexError"
   ]
  },
  {
   "cell_type": "code",
   "execution_count": null,
   "metadata": {
    "id": "BpqoqynPSL0d"
   },
   "outputs": [],
   "source": [
    "l = [1,2,3]\n",
    "l[10]"
   ]
  },
  {
   "cell_type": "markdown",
   "metadata": {
    "id": "fFsgJSsgSL0e"
   },
   "source": [
    "#### KeyError"
   ]
  },
  {
   "cell_type": "code",
   "execution_count": null,
   "metadata": {
    "id": "FyyfOcQRSL0e"
   },
   "outputs": [],
   "source": [
    "d = {1:2, 3:4}\n",
    "\n",
    "d[\"abc\"]"
   ]
  },
  {
   "cell_type": "markdown",
   "metadata": {
    "id": "AATnIEFISL0f"
   },
   "source": [
    "#### ModuleNotFoundError"
   ]
  },
  {
   "cell_type": "code",
   "execution_count": null,
   "metadata": {
    "id": "9jQuVK3aSL0f"
   },
   "outputs": [],
   "source": [
    "import math1"
   ]
  },
  {
   "cell_type": "markdown",
   "metadata": {
    "id": "lqoeCstiSL0f"
   },
   "source": [
    "#### AttributeError"
   ]
  },
  {
   "cell_type": "code",
   "execution_count": null,
   "metadata": {
    "id": "k2HRrUzDSL0g",
    "scrolled": true
   },
   "outputs": [],
   "source": [
    "import math\n",
    "math.sq1()"
   ]
  },
  {
   "cell_type": "code",
   "execution_count": null,
   "metadata": {
    "id": "2KXKWTYiSL0g"
   },
   "outputs": [],
   "source": [
    "string = \"abcd\"\n",
    "\n",
    "string.UPPER()"
   ]
  },
  {
   "cell_type": "markdown",
   "metadata": {
    "id": "YxGAWsF-SL0g"
   },
   "source": [
    "### Handling Exceptions"
   ]
  },
  {
   "cell_type": "code",
   "execution_count": null,
   "metadata": {
    "id": "icbFTtpRSL0h"
   },
   "outputs": [],
   "source": []
  },
  {
   "cell_type": "markdown",
   "metadata": {
    "id": "NNyvczf5SL0h"
   },
   "source": [
    "### Rasie an Exception"
   ]
  },
  {
   "cell_type": "code",
   "execution_count": null,
   "metadata": {
    "id": "ZYmJQZbZSL0i"
   },
   "outputs": [],
   "source": []
  },
  {
   "cell_type": "markdown",
   "metadata": {
    "id": "nBaqKIuJSL0i"
   },
   "source": [
    "<hr><hr>"
   ]
  },
  {
   "cell_type": "markdown",
   "metadata": {},
   "source": [
    "## Object Oriented Programming\n",
    "\n",
    "1. **Classes and Objects**: Classes are blueprints for creating objects. Objects are instances of classes. Each object can have attributes (variables) and methods (functions).\n",
    "\n",
    "2. **Constructors**: Constructors (`__init__`) are special methods that are automatically called when an object is created.\n",
    "\n",
    "3. **Self Parameter**: The `self` parameter is a reference to the current instance of the class. It is used to access variables and methods of the class.\n",
    "\n",
    "4. **Encapsulation**: This principle involves bundling the data (attributes) and the methods (functions) that operate on the data into a single unit or class. Access to the data is restricted to specific methods.\n",
    "\n",
    "5. **Inheritance**: Inheritance allows a new class (subclass) to inherit attributes and methods from an existing class (superclass). This helps in reusing and extending existing code.\n",
    "\n",
    "6. **Polymorphism**: Polymorphism means \"many forms\". It allows methods to do different things based on the object it is acting upon. This can be achieved through method overriding.\n",
    "\n",
    "7. **Abstraction**: Abstraction means hiding the complex implementation details and showing only the necessary features of an object. This is achieved using abstract classes and interfaces.\n",
    "\n",
    "8. **Special Methods**: These methods have double underscores before and after their names (e.g., `__str__`, `__repr__`, `__len__`). They are also known as \"dunder\" methods and are used for operator overloading and providing custom behavior for built-in functions."
   ]
  },
  {
   "cell_type": "code",
   "execution_count": null,
   "metadata": {},
   "outputs": [],
   "source": []
  },
  {
   "cell_type": "code",
   "execution_count": null,
   "metadata": {},
   "outputs": [],
   "source": []
  },
  {
   "cell_type": "code",
   "execution_count": null,
   "metadata": {},
   "outputs": [],
   "source": []
  },
  {
   "cell_type": "code",
   "execution_count": null,
   "metadata": {},
   "outputs": [],
   "source": []
  },
  {
   "cell_type": "code",
   "execution_count": null,
   "metadata": {},
   "outputs": [],
   "source": []
  },
  {
   "cell_type": "code",
   "execution_count": null,
   "metadata": {},
   "outputs": [],
   "source": []
  },
  {
   "cell_type": "code",
   "execution_count": null,
   "metadata": {},
   "outputs": [],
   "source": []
  },
  {
   "cell_type": "markdown",
   "metadata": {
    "id": "nBaqKIuJSL0i"
   },
   "source": [
    "<hr><hr>"
   ]
  },
  {
   "cell_type": "markdown",
   "metadata": {
    "id": "xOzcD8n0SL0i"
   },
   "source": [
    "## Basics of NumPy\n",
    "- NumPy - Introduction and Installation\n",
    "- NumPy - Arrays Data Structure ( 1D, 2D, ND arrays)\n",
    "- Creating Arrays\n",
    "- NumPy - Data Types\n",
    "- Array Attributes\n",
    "- Creating Arrays – Alternative Ways\n",
    "- Sub-setting, Slicing and Indexing Arrays\n",
    "- Operations on Arrays\n",
    "- Array Manipulation\n"
   ]
  },
  {
   "cell_type": "markdown",
   "metadata": {
    "id": "LJ7zOREKSL0i"
   },
   "source": [
    "### NumPy – Introduction and Installation\n",
    "\n",
    "- NumPy stands for ‘Numeric Python’\n",
    "- Used for mathematical and scientific computations\n",
    "- NumPy array is the most widely used object of the NumPy library"
   ]
  },
  {
   "cell_type": "markdown",
   "metadata": {
    "id": "fSezra2YSL0i"
   },
   "source": [
    "#### Installing numpy\n",
    "\n",
    "!pip install numpy"
   ]
  },
  {
   "cell_type": "markdown",
   "metadata": {
    "id": "NcOwNJMxSL0j"
   },
   "source": [
    "#### Importing numpy"
   ]
  },
  {
   "cell_type": "code",
   "execution_count": null,
   "metadata": {
    "id": "jbeQqcTmSL0j"
   },
   "outputs": [],
   "source": [
    "import numpy as np"
   ]
  },
  {
   "cell_type": "markdown",
   "metadata": {
    "id": "ROKFWY3TSL0j"
   },
   "source": [
    "### Arrays Data Structure\n",
    "\n",
    "An `Array` is combination of homogenous data objects and can be indexed across multiple dimensions\n",
    "\n",
    "#### Arrays are –\n",
    "- ordered sequence/collection of Homogenous data\n",
    "- multidimensional\n",
    "- mutable\n"
   ]
  },
  {
   "cell_type": "markdown",
   "metadata": {
    "id": "vJdSsW-BSL0j"
   },
   "source": [
    "#### Creating Arrays – From list/tuple\n",
    "\n",
    "- `np.array()` is used to create a numpy array from a list\n"
   ]
  },
  {
   "cell_type": "markdown",
   "metadata": {
    "id": "KFMx5EjWSL0j"
   },
   "source": [
    "#### Example on 1-D Array"
   ]
  },
  {
   "cell_type": "code",
   "execution_count": null,
   "metadata": {
    "id": "oU0mEtv2SL0k"
   },
   "outputs": [],
   "source": [
    "arr = np.array([1, 2, 3, 4, 5])\n",
    "arr"
   ]
  },
  {
   "cell_type": "markdown",
   "metadata": {
    "id": "69nYrHhdSL0k"
   },
   "source": [
    "#### Example on 2-D Array"
   ]
  },
  {
   "cell_type": "code",
   "execution_count": null,
   "metadata": {
    "id": "bFqhOlvKSL0k"
   },
   "outputs": [],
   "source": [
    "arr = np.array([[1, 2, 3, 4, 5], [6, 7, 8, 9, 10]])\n",
    "arr"
   ]
  },
  {
   "cell_type": "markdown",
   "metadata": {
    "id": "SyU2wAzwSL0o"
   },
   "source": [
    "#### Array Attributes\n",
    "\n",
    "- Attributes are the features/characteristics of an object that describes the object\n",
    "\n",
    "- Some of the attributes of the numpy array are:\n",
    "    - **shape** - Array dimensions\n",
    "    - **size** - Number of array elements\n",
    "    - **dtype** - Data type of array elements\n",
    "    - **ndim** - Number of array dimensions\n",
    "    - **dtype.name** - Name of data type\n",
    "    - **astype** - Convert an array to a different type\n"
   ]
  },
  {
   "cell_type": "code",
   "execution_count": null,
   "metadata": {
    "id": "s9MiADM0SL0p"
   },
   "outputs": [],
   "source": [
    "arr = np.array([[1,2,3,4],[5,6,7,8],[9,10,11,12]])\n",
    "arr"
   ]
  },
  {
   "cell_type": "code",
   "execution_count": null,
   "metadata": {
    "id": "tsamJYYFSL0p"
   },
   "outputs": [],
   "source": [
    "arr.shape"
   ]
  },
  {
   "cell_type": "code",
   "execution_count": null,
   "metadata": {
    "id": "vCvDRDdESL0q"
   },
   "outputs": [],
   "source": [
    "arr.size"
   ]
  },
  {
   "cell_type": "code",
   "execution_count": null,
   "metadata": {
    "id": "jf04b9bMSL0q"
   },
   "outputs": [],
   "source": [
    "arr.ndim"
   ]
  },
  {
   "cell_type": "code",
   "execution_count": null,
   "metadata": {
    "id": "T39NHKUfSL0q"
   },
   "outputs": [],
   "source": [
    "arr.dtype"
   ]
  },
  {
   "cell_type": "code",
   "execution_count": null,
   "metadata": {
    "id": "2_Lpf6lISL0r"
   },
   "outputs": [],
   "source": [
    "arr.astype(float)"
   ]
  },
  {
   "cell_type": "markdown",
   "metadata": {
    "id": "6hnOmvBUSL02"
   },
   "source": [
    "#### Examples -"
   ]
  },
  {
   "cell_type": "code",
   "execution_count": null,
   "metadata": {
    "id": "6iL0ny6ZSL04"
   },
   "outputs": [],
   "source": [
    "coffee_products = np.array(['Caffe Latte', 'Cappuccino', 'Colombian', 'Darjeeling', 'Decaf Irish Cream', 'Earl Grey', 'Green Tea', 'Lemon', 'Mint', 'Regular Espresso'])\n",
    "sales = np.array( [52248.0, 14068.0, 71060.0, 60014.0, 69925.0, 27711.0, 19231.0, 24873.0, 32825.0, 44109.0])\n",
    "profits = np.array([17444.0, 5041.0, 28390.0, 20459.0, 23432.0, 7691.0, -2954.0, 7159.0, 10722.0, 14902.0])\n",
    "target_profits = np.array([15934.0, 4924.0, 31814.0, 19649.0, 24934.0, 8461.0, 7090.0, 7084.0, 10135.0, 16306.0])\n",
    "target_sales = np.array([48909.0, 13070.0, 80916.0, 57368.0, 66906.0, 30402.0, 18212.0, 21628.0, 27336.0, 42102.0])"
   ]
  },
  {
   "cell_type": "markdown",
   "metadata": {
    "id": "j1h8L0jJSL05"
   },
   "source": [
    "###### Ex. How many products are there in the dataset?"
   ]
  },
  {
   "cell_type": "code",
   "execution_count": null,
   "metadata": {
    "id": "98ihS30uSL05"
   },
   "outputs": [],
   "source": []
  },
  {
   "cell_type": "markdown",
   "metadata": {
    "id": "UW9madYjSL05"
   },
   "source": [
    "###### Ex.  Sales greater than 50,000"
   ]
  },
  {
   "cell_type": "code",
   "execution_count": null,
   "metadata": {
    "id": "bOtCGXSOSL05"
   },
   "outputs": [],
   "source": []
  },
  {
   "cell_type": "markdown",
   "metadata": {
    "id": "_ijOWUacSL06"
   },
   "source": [
    "###### Ex.  Identify Losses"
   ]
  },
  {
   "cell_type": "code",
   "execution_count": null,
   "metadata": {
    "id": "wVySmDIZSL06"
   },
   "outputs": [],
   "source": []
  },
  {
   "cell_type": "markdown",
   "metadata": {
    "id": "cTpzhm0HSL07"
   },
   "source": [
    "###### Ex.  Products in loss"
   ]
  },
  {
   "cell_type": "code",
   "execution_count": null,
   "metadata": {
    "id": "it6cc5HqSL07"
   },
   "outputs": [],
   "source": []
  },
  {
   "cell_type": "markdown",
   "metadata": {
    "id": "LpKYrC0GSL07"
   },
   "source": [
    "###### Ex.  Product with maximum Sales"
   ]
  },
  {
   "cell_type": "code",
   "execution_count": null,
   "metadata": {
    "id": "YSpuF0cASL07"
   },
   "outputs": [],
   "source": []
  },
  {
   "cell_type": "markdown",
   "metadata": {
    "id": "OoVeUOFLSL1T"
   },
   "source": [
    "###### Ex. Identify the products meeting the Target Profits"
   ]
  },
  {
   "cell_type": "code",
   "execution_count": null,
   "metadata": {
    "id": "etgX_PQTSL1T"
   },
   "outputs": [],
   "source": []
  },
  {
   "cell_type": "markdown",
   "metadata": {
    "id": "b0jZ7CRkSL1U"
   },
   "source": [
    "###### Ex. Are the above products meeting their sales target too?"
   ]
  },
  {
   "cell_type": "code",
   "execution_count": null,
   "metadata": {
    "id": "KKT4QSeUaLFS"
   },
   "outputs": [],
   "source": []
  },
  {
   "cell_type": "markdown",
   "metadata": {
    "colab": {
     "base_uri": "https://localhost:8080/",
     "height": 141
    },
    "executionInfo": {
     "elapsed": 11,
     "status": "error",
     "timestamp": 1700646165982,
     "user": {
      "displayName": "Vaidehi Nair",
      "userId": "04196440624277475962"
     },
     "user_tz": -330
    },
    "id": "zrBz48dcSL1U",
    "outputId": "7aa69a14-518f-4997-c13c-370095915324"
   },
   "source": [
    "###### Ex. Identify products meeting sales targets but not profit targets"
   ]
  },
  {
   "cell_type": "code",
   "execution_count": null,
   "metadata": {},
   "outputs": [],
   "source": []
  },
  {
   "attachments": {},
   "cell_type": "markdown",
   "metadata": {
    "id": "iaFBp_9SSL1e"
   },
   "source": [
    "###### Ex. Identify the products that are not meeting their profit targets and list them in descending order based on their percentage target achievement.\n",
    "1. Identify all the products failing to meet profit targets.\n",
    "2. Calculate the percentage of target achievement.\n",
    "3. Display them in descending order of percentage value."
   ]
  },
  {
   "cell_type": "code",
   "execution_count": null,
   "metadata": {
    "id": "mFBOih7USL1e"
   },
   "outputs": [],
   "source": []
  }
 ],
 "metadata": {
  "colab": {
   "provenance": []
  },
  "kernelspec": {
   "display_name": "Python 3 (ipykernel)",
   "language": "python",
   "name": "python3"
  },
  "language_info": {
   "codemirror_mode": {
    "name": "ipython",
    "version": 3
   },
   "file_extension": ".py",
   "mimetype": "text/x-python",
   "name": "python",
   "nbconvert_exporter": "python",
   "pygments_lexer": "ipython3",
   "version": "3.12.4"
  }
 },
 "nbformat": 4,
 "nbformat_minor": 4
}
